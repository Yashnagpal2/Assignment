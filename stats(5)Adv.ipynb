{
 "cells": [
  {
   "cell_type": "markdown",
   "id": "ef4667c8-8bca-4a35-9d74-2649b8e2225b",
   "metadata": {},
   "source": [
    "Q1: What is Estimation Statistics? Explain point estimate and interval estimate."
   ]
  },
  {
   "cell_type": "markdown",
   "id": "4cf28ec3-7255-48e7-8665-3061f1c21a47",
   "metadata": {},
   "source": [
    "Estimation statistics is a branch of statistics that deals with the process of estimating population parameters based on sample data. It is used when we want to draw conclusions or make inferences about a population but have access only to a sample from that population. Estimation is a fundamental aspect of statistical analysis and plays a crucial role in various fields, including science, business, and social research.\n",
    "\n",
    "There are two main types of estimation in statistics: point estimation and interval estimation.\n",
    "\n",
    "Point Estimate:\n",
    "\n",
    "A point estimate is a single value that is used to estimate a population parameter. It provides a specific and typically the most likely value of the parameter based on the sample data.\n",
    "For example, if you calculate the mean of a sample to estimate the population mean, the sample mean is a point estimate of the population mean. It's a single number that represents your best guess for the population parameter.\n",
    "Interval Estimate:\n",
    "\n",
    "An interval estimate provides a range or interval of values within which the population parameter is likely to fall, along with a level of confidence. It accounts for the uncertainty associated with estimating a parameter from a sample.\n",
    "Interval estimates are often constructed using confidence intervals. A confidence interval provides both a point estimate and a margin of error, or a range, around that estimate.\n",
    "For example, you might calculate a 95% confidence interval for the population mean, which includes a point estimate (e.g., sample mean) and specifies that you are 95% confident that the true population mean falls within the interval.\n",
    "The choice between point estimation and interval estimation depends on the specific goals and requirements of the analysis. Point estimates are simpler and provide a single, precise value for estimation. However, they do not account for uncertainty in the estimation process. Interval estimates, on the other hand, provide a range of values and incorporate a level of confidence to reflect the uncertainty in estimation. Confidence intervals are a common method for interval estimation and are widely used in statistical practice."
   ]
  },
  {
   "cell_type": "markdown",
   "id": "6e5c1d08-978d-4774-9936-f1a7fd2e4f97",
   "metadata": {},
   "source": [
    "Q2. Write a Python function to estimate the population mean using a sample mean and standard\n",
    "deviation."
   ]
  },
  {
   "cell_type": "code",
   "execution_count": 3,
   "id": "449ee14e-0dff-4c0c-8b6f-e4d85bebd37e",
   "metadata": {},
   "outputs": [
    {
     "name": "stdout",
     "output_type": "stream",
     "text": [
      "Point Estimate (Sample Mean): 100\n",
      "95% Confidence Interval: [97.22814141774873, 102.77185858225127]\n"
     ]
    }
   ],
   "source": [
    "def estimate_population_mean(sample_mean, sample_std_dev, sample_size):\n",
    "    # Calculate the standard error of the sample mean\n",
    "    standard_error = sample_std_dev / (sample_size ** 0.5)\n",
    "    \n",
    "    # Calculate the margin of error for a desired confidence level (e.g., 95%)\n",
    "    # You can change the confidence level by modifying the Z-value based on the desired confidence level.\n",
    "    # For a 95% confidence level, Z is approximately 1.96 (standard value for a two-tailed test).\n",
    "    Z = 1.96  # You can adjust this value for different confidence levels.\n",
    "    margin_of_error = Z * standard_error\n",
    "    \n",
    "    # Calculate the lower and upper bounds of the confidence interval\n",
    "    lower_bound = sample_mean - margin_of_error\n",
    "    upper_bound = sample_mean + margin_of_error\n",
    "    \n",
    "    return sample_mean, lower_bound, upper_bound\n",
    "\n",
    "# Example usage:\n",
    "sample_mean = 100  # Replace with your sample mean\n",
    "sample_std_dev = 10  # Replace with your sample standard deviation\n",
    "sample_size = 50  # Replace with your sample size\n",
    "\n",
    "mean_estimate, lower_bound, upper_bound = estimate_population_mean(sample_mean, sample_std_dev, sample_size)\n",
    "\n",
    "print(f\"Point Estimate (Sample Mean): {mean_estimate}\")\n",
    "print(f\"95% Confidence Interval: [{lower_bound}, {upper_bound}]\")\n"
   ]
  },
  {
   "cell_type": "markdown",
   "id": "e0c1e758-965a-4d25-ab4d-fac24c8cc619",
   "metadata": {},
   "source": [
    "Q3: What is Hypothesis testing? Why is it used? State the importance of Hypothesis testing."
   ]
  },
  {
   "cell_type": "markdown",
   "id": "d44709a7-6aea-4a06-917f-47bc287648db",
   "metadata": {},
   "source": [
    "Hypothesis testing is a fundamental statistical method used to make inferences about a population based on a sample of data. It is a structured process for evaluating claims or hypotheses about a population parameter, such as a population mean, proportion, variance, or other characteristics. Hypothesis testing is used to determine whether the observed data provides enough evidence to support or reject a specific claim about a population.\n",
    "\n",
    "Here's a basic outline of how hypothesis testing works:\n",
    "\n",
    "Formulate Hypotheses:\n",
    "\n",
    "Null Hypothesis (H0): The default or status quo hypothesis, typically stating that there is no effect or no difference.\n",
    "Alternative Hypothesis (Ha): The hypothesis you want to test, which often represents a claim that contradicts the null hypothesis.\n",
    "Collect Data: Gather a sample of data that is relevant to the hypothesis you want to test.\n",
    "\n",
    "Statistical Analysis: Use statistical methods to calculate a test statistic that summarizes the information in the data.\n",
    "\n",
    "Determine Significance: Compare the test statistic to a critical value or p-value. This helps you decide whether the evidence in the data is strong enough to reject the null hypothesis.\n",
    "\n",
    "Make a Decision:\n",
    "\n",
    "If the evidence is strong, you may reject the null hypothesis in favor of the alternative hypothesis.\n",
    "If the evidence is not strong, you fail to reject the null hypothesis. This doesn't prove the null hypothesis is true, but rather that there isn't enough evidence to conclude otherwise.\n",
    "Importance of Hypothesis Testing:\n",
    "\n",
    "Scientific Method: Hypothesis testing is a cornerstone of the scientific method. It allows researchers to systematically evaluate and test hypotheses, enabling the advancement of knowledge and understanding in various fields.\n",
    "\n",
    "Data-Driven Decision Making: Hypothesis testing provides a structured approach for making data-driven decisions. It helps organizations and individuals make informed choices based on empirical evidence rather than intuition or anecdotal evidence.\n",
    "\n",
    "Quality Control: In industries like manufacturing and healthcare, hypothesis testing is used for quality control. It helps identify defects, deviations from standards, and process improvements.\n",
    "\n",
    "Medical Research: In medical research, hypothesis testing is used to determine the effectiveness of treatments or medications. It plays a crucial role in clinical trials and healthcare decision-making.\n",
    "\n",
    "Policy and Business Decisions: Governments and businesses use hypothesis testing to evaluate the impact of policies, marketing campaigns, and operational changes. It aids in assessing the success or failure of initiatives.\n",
    "\n",
    "Statistical Inference: Hypothesis testing is a fundamental tool for statistical inference. It allows you to draw conclusions about population parameters based on sample data. For example, it's used to determine if a new drug is effective, if an advertising campaign leads to increased sales, or if a process change improves product quality.\n",
    "\n",
    "Legal and Regulatory Compliance: In some legal and regulatory contexts, hypothesis testing is required to establish compliance or to assess the validity of claims and allegations.\n",
    "\n",
    "Research Validity: Hypothesis testing helps ensure the validity and rigor of research studies. It provides a way to assess whether observed effects are likely due to chance or reflect true relationships."
   ]
  },
  {
   "cell_type": "markdown",
   "id": "bcc08d09-8df1-450d-87bc-5718152a7b82",
   "metadata": {},
   "source": [
    "Q4. Create a hypothesis that states whether the average weight of male college students is greater than\n",
    "the average weight of female college students."
   ]
  },
  {
   "cell_type": "markdown",
   "id": "3889ceed-3e55-4d1c-9a68-9e5b2a53f2d6",
   "metadata": {},
   "source": [
    "Certainly, here's a hypothesis that states whether the average weight of male college students is greater than the average weight of female college students:\n",
    "\n",
    "Null Hypothesis (H0):\n",
    "The average weight of male college students is equal to or less than the average weight of female college students.\n",
    "\n",
    "Alternative Hypothesis (Ha):\n",
    "The average weight of male college students is greater than the average weight of female college students.\n",
    "\n",
    "This is a one-tailed hypothesis test because it specifically tests whether the average weight of male college students is greater than the average weight of female college students. Researchers would collect data and conduct a statistical analysis to determine whether there is enough evidence to reject the null hypothesis in favor of the alternative hypothesis. The test would provide insight into whether there is a statistically significant difference in the average weights of male and female college students."
   ]
  },
  {
   "cell_type": "markdown",
   "id": "1461938f-32b6-463a-bb1e-fbca0c52d874",
   "metadata": {},
   "source": [
    "Q5. Write a Python script to conduct a hypothesis test on the difference between two population means,\n",
    "given a sample from each population."
   ]
  },
  {
   "cell_type": "code",
   "execution_count": 4,
   "id": "2623375f-6ac8-4001-8e80-7e2bc4a24d3c",
   "metadata": {},
   "outputs": [
    {
     "name": "stdout",
     "output_type": "stream",
     "text": [
      "Reject the null hypothesis. There is a statistically significant difference.\n",
      "t-statistic: 3.6250081945626516\n",
      "P-value: 0.0019782600292440906\n"
     ]
    }
   ],
   "source": [
    "import scipy.stats as stats\n",
    "\n",
    "# Sample data from the two populations\n",
    "sample1 = [81, 76, 84, 75, 70, 90, 86, 78, 80, 88]\n",
    "sample2 = [65, 70, 62, 72, 78, 68, 70, 75, 72, 80]\n",
    "\n",
    "# Set your significance level (alpha)\n",
    "alpha = 0.05\n",
    "\n",
    "# Perform a two-sample t-test (assuming unequal variances)\n",
    "t_stat, p_value = stats.ttest_ind(sample1, sample2, equal_var=False)\n",
    "\n",
    "# Determine if the difference is statistically significant\n",
    "if p_value < alpha:\n",
    "    print(f\"Reject the null hypothesis. There is a statistically significant difference.\")\n",
    "else:\n",
    "    print(f\"Fail to reject the null hypothesis. There is no statistically significant difference.\")\n",
    "\n",
    "# Print the test statistics and p-value\n",
    "print(f\"t-statistic: {t_stat}\")\n",
    "print(f\"P-value: {p_value}\")\n"
   ]
  },
  {
   "cell_type": "markdown",
   "id": "f750ad6f-a36d-468e-9a91-0aa84454850b",
   "metadata": {},
   "source": [
    "Q6: What is a null and alternative hypothesis? Give some examples."
   ]
  },
  {
   "cell_type": "markdown",
   "id": "83ae01ca-7e48-45cc-848d-a4676d29e902",
   "metadata": {},
   "source": [
    "Null Hypothesis (H0) and Alternative Hypothesis (Ha) are fundamental concepts in hypothesis testing. They define the statements that are tested in a statistical hypothesis test to determine whether there is enough evidence to support a claim or hypothesis about a population or parameter.\n",
    "\n",
    "Null Hypothesis (H0):\n",
    "\n",
    "The null hypothesis is a statement of no effect, no difference, or no change. It represents the status quo or the default assumption.\n",
    "It is often denoted as H0 and is what you aim to test or challenge.\n",
    "The null hypothesis typically assumes that there is no effect, no difference, or no relationship between variables.\n",
    "Examples:\n",
    "\n",
    "H0: The mean weight of a new drug's users is equal to the mean weight of the general population.\n",
    "H0: The average commute time with a new traffic system is the same as the average commute time with the old system.\n",
    "H0: There is no association between smoking and lung cancer in a specific population.\n",
    "Alternative Hypothesis (Ha):\n",
    "\n",
    "The alternative hypothesis is the statement you want to test or demonstrate. It represents the claim or hypothesis that contradicts the null hypothesis.\n",
    "It is often denoted as Ha and is used to test for an effect, a difference, or a relationship between variables.\n",
    "Examples:\n",
    "\n",
    "Ha: The mean weight of a new drug's users is greater than the mean weight of the general population.\n",
    "Ha: The average commute time with a new traffic system is different from the average commute time with the old system.\n",
    "Ha: There is a positive association between smoking and lung cancer in a specific population.\n",
    "In hypothesis testing, you collect data and perform a statistical analysis to determine whether there is enough evidence to reject the null hypothesis in favor of the alternative hypothesis. The choice of null and alternative hypotheses depends on the research question and the specific claims you want to test. Researchers use hypothesis tests to make objective and data-driven decisions based on the evidence provided by the data."
   ]
  },
  {
   "cell_type": "markdown",
   "id": "76abe664-be3b-49c1-a753-1f45859f4f89",
   "metadata": {},
   "source": [
    "Q7: Write down the steps involved in hypothesis testing."
   ]
  },
  {
   "cell_type": "markdown",
   "id": "9124fc39-c236-4759-a553-526a50af4f7a",
   "metadata": {},
   "source": [
    "Hypothesis testing is a structured process used to make statistical inferences about population parameters based on sample data. The steps involved in hypothesis testing are as follows:\n",
    "\n",
    "Formulate Hypotheses:\n",
    "\n",
    "Null Hypothesis (H0): Define the null hypothesis, which represents the default or status quo assumption. It often states that there is no effect, no difference, or no relationship.\n",
    "Alternative Hypothesis (Ha): Formulate the alternative hypothesis, which represents the claim or hypothesis you want to test, and it contradicts the null hypothesis.\n",
    "Collect Data:\n",
    "\n",
    "Gather a sample of data that is relevant to the hypothesis you want to test. Ensure that the sample is collected using appropriate sampling methods.\n",
    "Choose a Significance Level (Alpha):\n",
    "\n",
    "Select a significance level (alpha), typically denoted as α, which defines the probability threshold for deciding whether to reject the null hypothesis. Common values for α include 0.05 or 0.01.\n",
    "Conduct Statistical Analysis:\n",
    "\n",
    "Use appropriate statistical tests or methods to analyze the sample data, calculate test statistics, and derive p-values. The choice of statistical test depends on the nature of the data and the hypotheses being tested. Common tests include t-tests, chi-squared tests, ANOVA, and regression analysis.\n",
    "Determine Critical Value or P-Value:\n",
    "\n",
    "Based on the chosen significance level (α), determine the critical value or critical region of the test statistic. Alternatively, calculate the p-value, which represents the probability of obtaining results as extreme as, or more extreme than, what was observed, assuming the null hypothesis is true.\n",
    "Make a Decision:\n",
    "\n",
    "Compare the test statistic or p-value to the critical value or significance level (α).\n",
    "If the test statistic falls in the critical region or if the p-value is less than α, you reject the null hypothesis.\n",
    "If the test statistic does not fall in the critical region or if the p-value is greater than or equal to α, you fail to reject the null hypothesis.\n",
    "Interpret Results:\n",
    "\n",
    "If you reject the null hypothesis, interpret the results as evidence in favor of the alternative hypothesis. There is sufficient evidence to support your claim.\n",
    "If you fail to reject the null hypothesis, interpret the results as not providing enough evidence to support the alternative hypothesis. This does not prove the null hypothesis is true but suggests there is no strong evidence to support the alternative.\n",
    "Draw Conclusions:\n",
    "\n",
    "Based on the decision made in Step 6 and the interpretation of results, draw conclusions regarding the research question and the hypotheses being tested.\n",
    "Communicate Findings:\n",
    "\n",
    "Report the results of the hypothesis test, including the test statistic, p-value, and conclusions. Clearly communicate the implications of the test in the context of the problem or research question.\n",
    "Consider Limitations and Implications:\n",
    "\n",
    "Reflect on the limitations of the study and the implications of the results. Discuss the practical and theoretical implications of the findings."
   ]
  },
  {
   "cell_type": "markdown",
   "id": "e3816a2e-e749-4bd2-a2c2-e5b525b155f3",
   "metadata": {},
   "source": [
    "Q8. Define p-value and explain its significance in hypothesis testing."
   ]
  },
  {
   "cell_type": "markdown",
   "id": "aabed1df-8152-499a-b7c4-b0aadf145e2d",
   "metadata": {},
   "source": [
    "p-value (short for \"probability value\") is a critical concept in hypothesis testing. It represents the probability of obtaining results as extreme as, or more extreme than, the observed results, assuming that the null hypothesis is true. In other words, the p-value quantifies the evidence provided by the data against the null hypothesis.\n",
    "\n",
    "Here's how to interpret the significance of the p-value in hypothesis testing:\n",
    "\n",
    "Small p-value (typically ≤ α):\n",
    "\n",
    "If the p-value is very small (e.g., less than the chosen significance level α, often 0.05), it suggests that the observed results are unlikely to occur by chance if the null hypothesis is true.\n",
    "This leads to the rejection of the null hypothesis in favor of the alternative hypothesis.\n",
    "A small p-value indicates strong evidence against the null hypothesis, supporting the alternative hypothesis.\n",
    "Large p-value (typically > α):\n",
    "\n",
    "If the p-value is relatively large (e.g., greater than α), it implies that the observed results are reasonably likely to occur if the null hypothesis is true.\n",
    "In this case, you fail to reject the null hypothesis. The data do not provide strong evidence against it.\n",
    "A large p-value does not prove the null hypothesis is true; it simply suggests that the data do not contradict it.\n",
    "The p-value serves as a crucial threshold for making decisions in hypothesis testing. The significance level (α) is selected before conducting the test and represents the level of significance or the acceptable probability of making a Type I error (false positive). By comparing the p-value to α, you can make a decision:\n",
    "\n",
    "If p-value ≤ α: Reject the null hypothesis.\n",
    "If p-value > α: Fail to reject the null hypothesis.\n",
    "The p-value is significant because it provides a clear and standardized way to determine whether the observed results are statistically significant and whether they provide enough evidence to reject the null hypothesis in favor of the alternative hypothesis. It allows researchers to make objective and data-driven decisions based on the evidence contained in the data.\n",
    "\n",
    "In practice, the smaller the p-value, the stronger the evidence against the null hypothesis. However, it's essential to interpret the p-value in the context of the research question and the chosen significance level. A p-value by itself does not tell you the effect size, the practical significance, or the biological, economic, or social relevance of the findings. It is a tool for assessing the statistical significance of the results."
   ]
  },
  {
   "cell_type": "markdown",
   "id": "e7f25187-08a3-4aa9-8099-08852e16c2c3",
   "metadata": {},
   "source": [
    "Q9. Generate a Student's t-distribution plot using Python's matplotlib library, with the degrees of freedom\n",
    "parameter set to 10."
   ]
  },
  {
   "cell_type": "code",
   "execution_count": 6,
   "id": "9e46780c-9ee9-42a4-bb38-7130852c71be",
   "metadata": {},
   "outputs": [
    {
     "data": {
      "image/png": "[encoded data removed]",
      "text/plain": [
       "<Figure size 800x600 with 1 Axes>"
      ]
     },
     "metadata": {},
     "output_type": "display_data"
    }
   ],
   "source": [
    "import numpy as np\n",
    "import matplotlib.pyplot as plt\n",
    "from scipy.stats import t\n",
    "\n",
    "# Define the degrees of freedom\n",
    "degrees_of_freedom = 10\n",
    "\n",
    "# Generate x-values (a range of values)\n",
    "x = np.linspace(-5, 5, 400)\n",
    "\n",
    "# Calculate the probability density function (PDF) for the t-distribution\n",
    "pdf = t.pdf(x, df=degrees_of_freedom)\n",
    "\n",
    "# Create the plot\n",
    "plt.figure(figsize=(8, 6))\n",
    "plt.plot(x, pdf, label=f't-Distribution (df={degrees_of_freedom})', color='b')\n",
    "plt.title(\"Student's t-Distribution\")\n",
    "plt.xlabel('x')\n",
    "plt.ylabel('PDF')\n",
    "plt.grid(True)\n",
    "\n",
    "# Add a legend\n",
    "plt.legend()\n",
    "\n",
    "# Display the plot\n",
    "plt.show()\n"
   ]
  },
  {
   "cell_type": "markdown",
   "id": "2ad30920-9c9c-4690-aa85-ca698aa35ae1",
   "metadata": {},
   "source": [
    "Q10. Write a Python program to calculate the two-sample t-test for independent samples, given two\n",
    "random samples of equal size and a null hypothesis that the population means are equal."
   ]
  },
  {
   "cell_type": "code",
   "execution_count": 7,
   "id": "cbcb1dc5-0eec-43ac-a1cf-d2d67a8a7599",
   "metadata": {},
   "outputs": [
    {
     "name": "stdout",
     "output_type": "stream",
     "text": [
      "Sample 1 Mean: 102.10838908469648\n",
      "Sample 2 Mean: 104.68585138133808\n",
      "Test Statistic (t): -0.84658916948643\n",
      "P-value: 0.3992867374655039\n",
      "Fail to reject the null hypothesis. There is no statistically significant difference.\n"
     ]
    }
   ],
   "source": [
    "import numpy as np\n",
    "from scipy import stats\n",
    "\n",
    "# Generate two random samples with equal size\n",
    "np.random.seed(0)  # For reproducibility\n",
    "sample1 = np.random.normal(loc=100, scale=15, size=50)\n",
    "sample2 = np.random.normal(loc=105, scale=15, size=50)\n",
    "\n",
    "# Perform the two-sample t-test assuming equal population means (null hypothesis)\n",
    "t_stat, p_value = stats.ttest_ind(sample1, sample2, equal_var=True)\n",
    "\n",
    "# Set your significance level (alpha)\n",
    "alpha = 0.05\n",
    "\n",
    "# Print the results\n",
    "print(f\"Sample 1 Mean: {np.mean(sample1)}\")\n",
    "print(f\"Sample 2 Mean: {np.mean(sample2)}\")\n",
    "print(f\"Test Statistic (t): {t_stat}\")\n",
    "print(f\"P-value: {p_value}\")\n",
    "\n",
    "# Make a decision based on the p-value\n",
    "if p_value < alpha:\n",
    "    print(\"Reject the null hypothesis. There is a statistically significant difference.\")\n",
    "else:\n",
    "    print(\"Fail to reject the null hypothesis. There is no statistically significant difference.\")\n"
   ]
  },
  {
   "cell_type": "markdown",
   "id": "235424d8-d87c-4cff-b77b-d632080fabf6",
   "metadata": {},
   "source": [
    "Q11: What is Student’s t distribution? When to use the t-Distribution."
   ]
  },
  {
   "cell_type": "markdown",
   "id": "e706845f-1d55-40b9-bb2b-8e9c5e8f12c0",
   "metadata": {},
   "source": [
    "Student's t-distribution, often simply referred to as the t-distribution, is a probability distribution that is used for making inferences about population parameters when the sample size is small, or when the population standard deviation is unknown. It is named after William Sealy Gosset, who wrote under the pseudonym \"Student.\"\n",
    "\n",
    "The t-distribution is similar in shape to the normal distribution but has heavier tails. The key characteristics of the t-distribution are as follows:\n",
    "\n",
    "Shape: The t-distribution is bell-shaped and symmetrical like the normal distribution. However, it has thicker tails, which means it\n",
    "allows for a greater spread of data.\n",
    "\n",
    "Parameter: The t-distribution is defined by a single parameter: degrees of freedom (df). The degrees of freedom control the shape of the distribution. The t-distribution approaches the standard normal distribution (Z-distribution) as the degrees of freedom increase.\n",
    "\n",
    "Use Cases:\n",
    "\n",
    "The t-distribution is typically used when dealing with small sample sizes (n < 30) where the population standard deviation (σ) is unknown. In this case, it provides more accurate inferences compared to using the normal distribution.\n",
    "It is also used in situations where the data is approximately normally distributed, but the population standard deviation is unknown.\n",
    "The t-distribution is commonly used in hypothesis testing and confidence interval calculations, particularly for sample means.\n",
    "Tails and Spread: The t-distribution has fatter tails compared to the normal distribution. This means that there is a higher probability of observing extreme values, making it more conservative in hypothesis testing. The t-distribution provides wider confidence intervals compared to the normal distribution due to the greater uncertainty associated with small sample sizes.\n",
    "\n",
    "When to use the t-distribution:\n",
    "\n",
    "When the sample size is small (typically n < 30), and the population standard deviation is unknown.\n",
    "When dealing with data that is approximately normally distributed and the population standard deviation is unknown.\n",
    "In situations where it's essential to account for the uncertainty associated with small sample sizes.\n",
    "It's important to choose the appropriate distribution based on the characteristics of the data and the assumptions of the statistical test. The t-distribution is a valuable tool for making inferences about population parameters when dealing with the limitations of small sample sizes and unknown population standard deviations."
   ]
  },
  {
   "cell_type": "markdown",
   "id": "0d03b90e-9cab-4858-b489-64de84dcfc21",
   "metadata": {},
   "source": [
    "Q12: What is t-statistic? State the formula for t-statistic."
   ]
  },
  {
   "cell_type": "markdown",
   "id": "5a66fdc4-d08b-4b66-a899-94f4ca38d528",
   "metadata": {},
   "source": [
    "The t-statistic is a measure used in hypothesis testing to determine whether the difference between the means of two groups or the sample mean and the population mean is statistically significant. It quantifies how many standard errors the sample mean is away from the null hypothesis value under the assumption that the null hypothesis is true.\n",
    "\n",
    "The formula for the t-statistic, when comparing a sample mean to a population mean, is:\n",
    "\n",
    "t-statistic formula:\n",
    "t= X−μ/s/n\n",
    " \n",
    "\n",
    "When comparing two sample means, the formula for the t-statistic is:\n",
    "\n",
    "t-statistic formula for two independent samples:\n",
    "\n",
    "t = x1-x2/s1*2+s2^2\n",
    " \n",
    "  are the sample sizes of the two groups.\n",
    "The t-statistic measures the difference between the sample mean(s) and the expected population mean(s), accounting for the sample size and variability in the data. It is used to determine whether the observed difference is statistically significant by comparing it to a critical value from the t-distribution or by calculating a p-value. If the t-statistic is sufficiently large (in absolute value), it provides evidence to reject the null hypothesis in favor of the alternative hypothesis, indicating a significant differenc"
   ]
  },
  {
   "cell_type": "markdown",
   "id": "0e645037-96f5-49dd-93e3-f50b33692cdf",
   "metadata": {},
   "source": [
    "Q13. A coffee shop owner wants to estimate the average daily revenue for their shop. They take a random\n",
    "sample of 50 days and find the sample mean revenue to be $500 with a standard deviation of $50.\n",
    "Estimate the population mean revenue with a 95% confidence interval."
   ]
  },
  {
   "cell_type": "markdown",
   "id": "853fb0f5-6022-4d7a-a788-f24f884f4a51",
   "metadata": {},
   "source": [
    "he critical value \n",
    "�\n",
    "Z for a 95% confidence interval can be found from standard normal distribution tables, or you can use a Z-table or a calculator. For a 95% confidence interval, the critical value is approximately 1.96.\n",
    "\n",
    "Now, let's calculate the confidence interval:\n",
    "\n",
    "Sample mean (X) = 500\n",
    "Sample standard deviation (s) = 50\n",
    "Sample size (n) = 50\n",
    "Critical value (\n",
    "Z) for a 95% confidence interval ≈ 1.96\n",
    "Substitute these values into the formula:\n",
    "\n",
    "Confidence Interval=500±1.96(50/50)\n",
    "\n",
    "Calculating:\n",
    "\n",
    "Confidence Interval≈500±13.79\n",
    "\n",
    "So, the 95% confidence interval for the average daily revenue is approximately:\n",
    "\n",
    "(500−13.79,500+13.79)\n",
    "\n",
    "This means that we can be 95% confident that the true population mean revenue falls within the range of $486.21 to $513.79."
   ]
  },
  {
   "cell_type": "markdown",
   "id": "da35ca97-2d8e-44ca-adda-9f4559c1dbd1",
   "metadata": {},
   "source": [
    "Q14. A researcher hypothesizes that a new drug will decrease blood pressure by 10 mmHg. They conduct a\n",
    "clinical trial with 100 patients and find that the sample mean decrease in blood pressure is 8 mmHg with a\n",
    "standard deviation of 3 mmHg. Test the hypothesis with a significance level of 0.05."
   ]
  },
  {
   "cell_type": "raw",
   "id": "03d77adb-831b-4b81-90ea-b5cc8acfc012",
   "metadata": {},
   "source": [
    "To test the researcher's hypothesis that the new drug will decrease blood pressure by 10 mmHg, you can perform a one-sample t-test. The null and alternative hypotheses are as follows:\n",
    "\n",
    "Null Hypothesis (H0):\n",
    "The new drug has no effect on blood pressure, meaning the true mean decrease in blood pressure is 10 mmHg. Mathematically, H0: μ = 10 (where μ is the population mean decrease in blood pressure).\n",
    "\n",
    "Alternative Hypothesis (Ha):\n",
    "The new drug decreases blood pressure by 10 mmHg, meaning the true mean decrease in blood pressure is not equal to 10 mmHg. Mathematically, Ha: μ ≠ 10.\n",
    "\n",
    "Next, you can perform the one-sample t-test using the provided data:\n",
    "\n",
    "Sample mean (X) = 8 mmHg\n",
    "Sample standard deviation (S) = 3 mmHg\n",
    "Sample size (n) = 100\n",
    "Population mean under the null hypothesis (μ) = 10 mmHg\n",
    "Significance level (α) = 0.05\n",
    "Next, find the critical value from the t-distribution table or a t-distribution calculator. For a two-tailed test at a 5% significance level and 99 degrees of freedom (n - 1), the critical values are approximately -1.984 and 1.984.\n",
    "\n",
    "Since the calculated t-statistic (-6.67) is much smaller (more negative) than -1.984, it falls in the critical region.\n",
    "\n",
    "Now, compare the t-statistic to the critical values:\n",
    "\n",
    "If the t-statistic is in the critical region, you reject the null hypothesis.\n",
    "So, in this case, you reject the null hypothesis, which means there is sufficient evidence to conclude that the new drug has a statistically significant effect on decreasing blood pressure. The sample data provides strong evidence that the mean decrease in blood pressure is not equal to 10 mmHg."
   ]
  },
  {
   "cell_type": "markdown",
   "id": "15c5972b-0fa9-4bc1-88af-3bb27ae4986d",
   "metadata": {},
   "source": [
    "Q15. An electronics company produces a certain type of product with a mean weight of 5 pounds and a\n",
    "standard deviation of 0.5 pounds. A random sample of 25 products is taken, and the sample mean weight\n",
    "is found to be 4.8 pounds. Test the hypothesis that the true mean weight of the products is less than 5\n",
    "pounds with a significance level of 0.01."
   ]
  },
  {
   "cell_type": "markdown",
   "id": "8ee5e37e-f8c6-4003-885d-d19a9bff10e2",
   "metadata": {},
   "source": [
    "To test the hypothesis that the true mean weight of the products is less than 5 pounds, you can perform a one-sample t-test with the following null and alternative hypotheses:\n",
    "\n",
    "Null Hypothesis (H0):\n",
    "The true mean weight of the products is equal to 5 pounds. Mathematically, H0: μ = 5 (where μ is the population mean weight).\n",
    "\n",
    "Alternative Hypothesis (Ha):\n",
    "The true mean weight of the products is less than 5 pounds. Mathematically, Ha: μ < 5.\n",
    "\n",
    "Now, perform the one-sample t-test using the provided data:\n",
    "\n",
    "Sample mean (X ) = 4.8 pounds\n",
    "Sample size (n) = 25\n",
    "Population mean under the null hypothesis (μ) = 5 pounds\n",
    "Population standard deviation (σ) = 0.5 pounds (known)\n",
    "Significance level (α) = 0.01\n",
    "\n",
    "Next, find the critical value from the t-distribution table or a t-distribution calculator for a one-tailed test at a 1% significance level and 24 degrees of freedom (n - 1).\n",
    "\n",
    "The critical value for a one-tailed test at a 1% significance level with 24 degrees of freedom is approximately -2.492.\n",
    "\n",
    "Now, compare the t-statistic to the critical value:\n",
    "\n",
    "If the t-statistic is in the critical region (less than -2.492), you reject the null hypothesis.\n",
    "Since the t-statistic (-2) is smaller (more negative) than -2.492, it falls in the critical region.\n",
    "\n",
    "Therefore, you reject the null hypothesis. The sample data provides strong evidence to conclude that the true mean weight of the products is less than 5 pounds."
   ]
  },
  {
   "cell_type": "markdown",
   "id": "135cfe03-e01b-4c37-b307-4e587ff0081c",
   "metadata": {},
   "source": [
    "Q16. Two groups of students are given different study materials to prepare for a test. The first group (n1 =\n",
    "30) has a mean score of 80 with a standard deviation of 10, and the second group (n2 = 40) has a mean\n",
    "score of 75 with a standard deviation of 8. Test the hypothesis that the population means for the two\n",
    "groups are equal with a significance level of 0.01."
   ]
  },
  {
   "cell_type": "markdown",
   "id": "e12b6ae3-bb79-4393-a7f7-a342b01a0b26",
   "metadata": {},
   "source": [
    "To test the hypothesis that the population means for the two groups are equal, you can perform an independent two-sample t-test. The null and alternative hypotheses are as follows:\n",
    "\n",
    "Null Hypothesis (H0):\n",
    "The population means of the two groups are equal. Mathematically, H0: μ1 = μ2.\n",
    "\n",
    "Alternative Hypothesis (Ha):\n",
    "The population means of the two groups are not equal. Mathematically, Ha: μ1 ≠ μ2.\n",
    "\n",
    "Now, perform the independent two-sample t-test using the provided data:\n",
    "\n",
    "For Group 1:\n",
    "\n",
    "Sample mean (X1 ) = 80\n",
    "Sample standard deviation (S1) = 10\n",
    "Sample size (n1) = 30\n",
    "For Group 2:\n",
    "\n",
    "Sample mean (X2) = 75\n",
    "Sample standard deviation (S2) = 8\n",
    "Sample size (n2) = 40\n",
    "Population means under the null hypothesis (μ1and μ2) are assumed to be equal.\n",
    "\n",
    "Significance level (α) = 0.01\n",
    "Substitute the values for S1,n1, S2, andn2\n",
    "  into the formula and calculate \n",
    "df. In this case, =61.77\n",
    "df≈61.77.\n",
    "\n",
    "Now, find the critical t-values for a two-tailed test with a 1% significance level and degrees of freedom (\n",
    "�\n",
    "�\n",
    "df) of 61.77. You can use a t-table or a calculator to find the critical values. The critical values for a 1% significance level with 61.77 degrees of freedom are approximately ±2.625.\n",
    "\n",
    "Finally, compare the calculated t-statistic (0.8458) to the critical values (±2.625):\n",
    "\n",
    "If the t-statistic is outside the range of -2.625 to 2.625, you reject the null hypothesis.\n",
    "Since the t-statistic (0.8458) falls within the range of -2.625 to 2.625, it does not fall in the critical region.\n",
    "\n",
    "Therefore, you fail to reject the null hypothesis. There is not enough evidence to conclude that the population means of the two groups are different at the 1% significance level.\n",
    "\n",
    "\n",
    "\n",
    "\n"
   ]
  },
  {
   "cell_type": "markdown",
   "id": "d5198e7d-dc2b-41c3-a2ec-f02758ba76dc",
   "metadata": {},
   "source": [
    "Q17. A marketing company wants to estimate the average number of ads watched by viewers during a TV\n",
    "program. They take a random sample of 50 viewers and find that the sample mean is 4 with a standard\n",
    "deviation of 1.5. Estimate the population mean with a 99% confidence interval."
   ]
  },
  {
   "cell_type": "markdown",
   "id": "271f596e-8cb5-4262-b475-b818a9718b10",
   "metadata": {},
   "source": [
    "To estimate the population mean with a 99% confidence interval, you can use the formula for the confidence interval for the mean when the population standard deviation is unknown. Here's how you can calculate it:\n",
    "The critical value \n",
    "�\n",
    "t for a 99% confidence interval can be found from the t-distribution table or a t-distribution calculator. For a 99% confidence interval, the critical value corresponds to a 1% significance level, so you're looking for \n",
    "α=0.01/2=0.005 (since it's a two-tailed test) and the degrees of freedom (\n",
    "df) for a sample of 50, which is 49.\n",
    "Find the critical value, \n",
    "�\n",
    "t, for a 99% confidence interval with 49 degrees of freedom:\n",
    "\n",
    "You can use a t-distribution table, calculator, or a statistical software to find the critical value. For a 99% confidence interval with 49 degrees of freedom, the critical value is approximately ±2.680.\n",
    "Now, substitute these values into the formula:\n",
    "\n",
    "Confidence Interval=4±2.680( 1.5/50)\n",
    "\n",
    "Calculating:\n",
    "\n",
    "Confidence Interval≈4±0.638\n",
    "\n",
    "So, the 99% confidence interval for the average number of ads watched by viewers is approximately:\n",
    "\n",
    "(4−0.638,4+0.638)\n",
    "\n",
    "This means that we can be 99% confident that the true population mean falls within the range of 3.362 to 4.638.\n",
    "\n",
    "\n",
    "\n",
    "\n"
   ]
  },
  {
   "cell_type": "code",
   "execution_count": null,
   "id": "7f1881e3-6d40-41e4-a873-2429cc251d4e",
   "metadata": {},
   "outputs": [],
   "source": []
  }
 ],
 "metadata": {
  "kernelspec": {
   "display_name": "Python 3 (ipykernel)",
   "language": "python",
   "name": "python3"
  },
  "language_info": {
   "codemirror_mode": {
    "name": "ipython",
    "version": 3
   },
   "file_extension": ".py",
   "mimetype": "text/x-python",
   "name": "python",
   "nbconvert_exporter": "python",
   "pygments_lexer": "ipython3",
   "version": "3.10.8"
  }
 },
 "nbformat": 4,
 "nbformat_minor": 5
}
