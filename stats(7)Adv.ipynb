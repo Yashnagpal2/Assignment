{
 "cells": [
  {
   "cell_type": "markdown",
   "id": "e08c071d-d5ac-4d97-b80c-da4945929dc6",
   "metadata": {},
   "source": [
    "Q1. Calculate the 95% confidence interval for a sample of data with a mean of 50 and a standard deviation\n",
    "of 5 using Python. Interpret the results."
   ]
  },
  {
   "cell_type": "code",
   "execution_count": 2,
   "id": "1922d8ef-3240-4480-afae-3960ed5dfd98",
   "metadata": {},
   "outputs": [
    {
     "name": "stdout",
     "output_type": "stream",
     "text": [
      "95% Confidence Interval: (49.02, 50.98)\n"
     ]
    }
   ],
   "source": [
    "import scipy.stats as stats\n",
    "\n",
    "# Sample information\n",
    "sample_mean = 50\n",
    "sample_stddev = 5\n",
    "confidence_level = 0.95  # 95% confidence level\n",
    "\n",
    "# Sample size (you need to define your sample size)\n",
    "sample_size = 100  # You should replace this with your actual sample size\n",
    "\n",
    "# Calculate the margin of error\n",
    "z_score = stats.norm.ppf((1 + confidence_level) / 2)\n",
    "margin_of_error = z_score * (sample_stddev / (sample_size**0.5))\n",
    "\n",
    "# Calculate the confidence interval\n",
    "lower_bound = sample_mean - margin_of_error\n",
    "upper_bound = sample_mean + margin_of_error\n",
    "\n",
    "# Interpretation\n",
    "print(f\"95% Confidence Interval: ({lower_bound:.2f}, {upper_bound:.2f})\")\n"
   ]
  },
  {
   "cell_type": "markdown",
   "id": "e561feb4-1cbc-4267-977a-20601ecd51c7",
   "metadata": {},
   "source": [
    "Q2. Conduct a chi-square goodness of fit test to determine if the distribution of colors of M&Ms in a bag\n",
    "matches the expected distribution of 20% blue, 20% orange, 20% green, 10% yellow, 10% red, and 20%\n",
    "brown. Use Python to perform the test with a significance level of 0.05."
   ]
  },
  {
   "cell_type": "code",
   "execution_count": 3,
   "id": "e2950512-a248-4e4b-aca2-e38861ab89e7",
   "metadata": {},
   "outputs": [
    {
     "name": "stdout",
     "output_type": "stream",
     "text": [
      "The distribution of M&M colors in the bag matches the expected distribution (fail to reject null hypothesis).\n",
      "Chi-Square Statistic: 2.35\n",
      "P-Value: 0.7989\n"
     ]
    }
   ],
   "source": [
    "import scipy.stats as stats\n",
    "\n",
    "# Observed counts of each color in your sample\n",
    "observed_counts = [18, 24, 16, 12, 11, 19]  # Replace with your actual counts\n",
    "\n",
    "# Expected distribution (as proportions)\n",
    "expected_proportions = [0.20, 0.20, 0.20, 0.10, 0.10, 0.20]\n",
    "\n",
    "# Calculate the expected counts based on the total number of M&Ms\n",
    "total_count = sum(observed_counts)\n",
    "expected_counts = [p * total_count for p in expected_proportions]\n",
    "\n",
    "# Perform the chi-square goodness of fit test\n",
    "chi2, p_value = stats.chisquare(observed_counts, f_exp=expected_counts)\n",
    "\n",
    "# Define the significance level\n",
    "alpha = 0.05\n",
    "\n",
    "# Compare the p-value to the significance level\n",
    "if p_value < alpha:\n",
    "    print(\"The distribution of M&M colors in the bag does not match the expected distribution (reject null hypothesis).\")\n",
    "else:\n",
    "    print(\"The distribution of M&M colors in the bag matches the expected distribution (fail to reject null hypothesis).\")\n",
    "\n",
    "# Output the chi-square statistic and p-value\n",
    "print(f\"Chi-Square Statistic: {chi2:.2f}\")\n",
    "print(f\"P-Value: {p_value:.4f}\")\n"
   ]
  },
  {
   "cell_type": "markdown",
   "id": "a08f8dbf-88fa-4581-9581-2543eb88b93c",
   "metadata": {},
   "source": [
    "Q3. Use Python to calculate the chi-square statistic and p-value for a contingency table with the following\n",
    "data:"
   ]
  },
  {
   "cell_type": "code",
   "execution_count": 1,
   "id": "2912c315-090b-48cb-8ba7-8ef1d7c69f36",
   "metadata": {},
   "outputs": [
    {
     "name": "stdout",
     "output_type": "stream",
     "text": [
      "Chi-Square Statistic: 5.83\n",
      "P-Value: 0.0541\n"
     ]
    }
   ],
   "source": [
    "import scipy.stats as stats\n",
    "\n",
    "# Define the contingency table\n",
    "observed_data = [[20, 15],\n",
    "                 [10, 25],\n",
    "                 [15, 20]]\n",
    "\n",
    "# Perform the chi-square test\n",
    "chi2, p_value, _, _ = stats.chi2_contingency(observed_data)\n",
    "\n",
    "# Output the chi-square statistic and p-value\n",
    "print(f\"Chi-Square Statistic: {chi2:.2f}\")\n",
    "print(f\"P-Value: {p_value:.4f}\")\n"
   ]
  },
  {
   "cell_type": "markdown",
   "id": "dc8747da-c7c2-4707-b0a0-07aa4761122b",
   "metadata": {},
   "source": [
    "Q4. A study of the prevalence of smoking in a population of 500 individuals found that 60 individuals\n",
    "smoked. Use Python to calculate the 95% confidence interval for the true proportion of individuals in the\n",
    "population who smoke."
   ]
  },
  {
   "cell_type": "code",
   "execution_count": 2,
   "id": "f07b3e3c-4489-4d47-a505-fc498cac9f2b",
   "metadata": {},
   "outputs": [
    {
     "name": "stdout",
     "output_type": "stream",
     "text": [
      "95% Confidence Interval for the True Proportion of Smokers: (0.0915, 0.1485)\n"
     ]
    }
   ],
   "source": [
    "import scipy.stats as stats\n",
    "\n",
    "# Sample information\n",
    "sample_size = 500  # Total number of individuals in the population\n",
    "sample_proportion = 60 / sample_size  # Proportion of individuals who smoke\n",
    "confidence_level = 0.95  # 95% confidence level\n",
    "\n",
    "# Calculate the margin of error using the normal approximation\n",
    "z_score = stats.norm.ppf((1 + confidence_level) / 2)\n",
    "margin_of_error = z_score * ((sample_proportion * (1 - sample_proportion)) / sample_size)**0.5\n",
    "\n",
    "# Calculate the confidence interval\n",
    "lower_bound = sample_proportion - margin_of_error\n",
    "upper_bound = sample_proportion + margin_of_error\n",
    "\n",
    "# Interpretation\n",
    "print(f\"95% Confidence Interval for the True Proportion of Smokers: ({lower_bound:.4f}, {upper_bound:.4f})\")\n"
   ]
  },
  {
   "cell_type": "markdown",
   "id": "b94c5dd0-744a-4f8d-8a80-6ca569808c06",
   "metadata": {},
   "source": [
    "Q5. Calculate the 90% confidence interval for a sample of data with a mean of 75 and a standard deviation\n",
    "of 12 using Python. Interpret the results."
   ]
  },
  {
   "cell_type": "code",
   "execution_count": 10,
   "id": "45baed66-4882-44a8-b0b5-229df14e8f0e",
   "metadata": {},
   "outputs": [
    {
     "name": "stdout",
     "output_type": "stream",
     "text": [
      "90% Confidence Interval: (73.03, 76.97)\n"
     ]
    }
   ],
   "source": [
    "import scipy.stats as stats\n",
    "\n",
    "# Sample information\n",
    "sample_mean = 75\n",
    "sample_stddev = 12\n",
    "confidence_level = 0.90  # 90% confidence level\n",
    "sample_size = 100  # Sample size\n",
    "\n",
    "# Calculate the margin of error\n",
    "z_score = stats.norm.ppf((1 + confidence_level) / 2)\n",
    "margin_of_error = z_score * (sample_stddev / (sample_size**0.5))\n",
    "\n",
    "# Calculate the confidence interval\n",
    "lower_bound = sample_mean - margin_of_error\n",
    "upper_bound = sample_mean + margin_of_error\n",
    "\n",
    "# Interpretation\n",
    "print(f\"90% Confidence Interval: ({lower_bound:.2f}, {upper_bound:.2f})\")\n"
   ]
  },
  {
   "cell_type": "markdown",
   "id": "33b51051-472e-4803-99e4-a19ce2fd29cc",
   "metadata": {},
   "source": [
    "Q6. Use Python to plot the chi-square distribution with 10 degrees of freedom. Label the axes and shade the\n",
    "area corresponding to a chi-square statistic of 15."
   ]
  },
  {
   "cell_type": "code",
   "execution_count": 11,
   "id": "e176484c-b042-4377-8881-f722f9e809c9",
   "metadata": {},
   "outputs": [
    {
     "data": {
      "image/png": "[encoded data removed]",
      "text/plain": [
       "<Figure size 640x480 with 1 Axes>"
      ]
     },
     "metadata": {},
     "output_type": "display_data"
    }
   ],
   "source": [
    "import numpy as np\n",
    "import matplotlib.pyplot as plt\n",
    "import scipy.stats as stats\n",
    "\n",
    "# Degrees of freedom\n",
    "df = 10\n",
    "\n",
    "# Create a range of chi-square values\n",
    "x = np.linspace(0, 30, 1000)\n",
    "\n",
    "# Calculate the chi-square probability density function\n",
    "y = stats.chi2.pdf(x, df)\n",
    "\n",
    "# Create the plot\n",
    "plt.plot(x, y, 'b-', lw=2, label='Chi-Square PDF (df=10)')\n",
    "\n",
    "# Shade the area for chi-square statistic of 15\n",
    "x_fill = np.linspace(0, 15, 1000)\n",
    "y_fill = stats.chi2.pdf(x_fill, df)\n",
    "plt.fill_between(x_fill, y_fill, color='gray', alpha=0.5, label='Chi-Square < 15')\n",
    "\n",
    "# Label the axes and add a legend\n",
    "plt.xlabel('Chi-Square Value')\n",
    "plt.ylabel('Probability Density')\n",
    "plt.title('Chi-Square Distribution (df=10)')\n",
    "plt.legend()\n",
    "\n",
    "# Show the plot\n",
    "plt.show()\n"
   ]
  },
  {
   "cell_type": "markdown",
   "id": "ea090002-591d-42e9-98d9-d6b8115c3845",
   "metadata": {},
   "source": [
    "Q7. A random sample of 1000 people was asked if they preferred Coke or Pepsi. Of the sample, 520\n",
    "preferred Coke. Calculate a 99% confidence interval for the true proportion of people in the population who\n",
    "prefer Coke."
   ]
  },
  {
   "cell_type": "code",
   "execution_count": 12,
   "id": "6461ce8d-6a74-42c5-953d-34f8be35ae8e",
   "metadata": {},
   "outputs": [
    {
     "name": "stdout",
     "output_type": "stream",
     "text": [
      "99% Confidence Interval for the True Proportion Preferring Coke: (0.4793, 0.5607)\n"
     ]
    }
   ],
   "source": [
    "import scipy.stats as stats\n",
    "\n",
    "# Sample information\n",
    "sample_size = 1000\n",
    "sample_proportion_coke = 520 / sample_size  # Proportion of people who prefer Coke\n",
    "confidence_level = 0.99  # 99% confidence level\n",
    "\n",
    "# Calculate the margin of error using the normal approximation\n",
    "z_score = stats.norm.ppf((1 + confidence_level) / 2)\n",
    "margin_of_error = z_score * ((sample_proportion_coke * (1 - sample_proportion_coke)) / sample_size)**0.5\n",
    "\n",
    "# Calculate the confidence interval\n",
    "lower_bound = sample_proportion_coke - margin_of_error\n",
    "upper_bound = sample_proportion_coke + margin_of_error\n",
    "\n",
    "# Interpretation\n",
    "print(f\"99% Confidence Interval for the True Proportion Preferring Coke: ({lower_bound:.4f}, {upper_bound:.4f})\")\n"
   ]
  },
  {
   "cell_type": "markdown",
   "id": "7144ff25-91c2-40c2-a618-0278bdb5e818",
   "metadata": {},
   "source": [
    "Q8. A researcher hypothesizes that a coin is biased towards tails. They flip the coin 100 times and observe\n",
    "45 tails. Conduct a chi-square goodness of fit test to determine if the observed frequencies match the\n",
    "expected frequencies of a fair coin. Use a significance level of 0.05."
   ]
  },
  {
   "cell_type": "code",
   "execution_count": 13,
   "id": "4921e5a6-ed61-459c-8eda-18c52635098a",
   "metadata": {},
   "outputs": [
    {
     "name": "stdout",
     "output_type": "stream",
     "text": [
      "Fail to reject the null hypothesis: There is no significant bias in the coin.\n",
      "Chi-Square Statistic: 1.00\n",
      "P-Value: 0.3173\n"
     ]
    }
   ],
   "source": [
    "import scipy.stats as stats\n",
    "\n",
    "# Observed and expected frequencies\n",
    "observed_tails = 45\n",
    "observed_heads = 100 - observed_tails  # Total flips minus observed tails\n",
    "\n",
    "expected_tails = 50  # Expected tails for a fair coin\n",
    "expected_heads = 50  # Expected heads for a fair coin\n",
    "\n",
    "# Create observed and expected frequency arrays\n",
    "observed = [observed_tails, observed_heads]\n",
    "expected = [expected_tails, expected_heads]\n",
    "\n",
    "# Perform the chi-square goodness of fit test\n",
    "chi2, p_value = stats.chisquare(observed, f_exp=expected)\n",
    "\n",
    "# Significance level\n",
    "alpha = 0.05\n",
    "\n",
    "# Compare the p-value to the significance level\n",
    "if p_value < alpha:\n",
    "    print(\"Reject the null hypothesis: The coin is biased towards tails.\")\n",
    "else:\n",
    "    print(\"Fail to reject the null hypothesis: There is no significant bias in the coin.\")\n",
    "\n",
    "# Output the chi-square statistic and p-value\n",
    "print(f\"Chi-Square Statistic: {chi2:.2f}\")\n",
    "print(f\"P-Value: {p_value:.4f}\")\n"
   ]
  },
  {
   "cell_type": "markdown",
   "id": "c5e593d0-b936-44f9-abbb-e6b8d59145e8",
   "metadata": {},
   "source": [
    "Q9. A study was conducted to determine if there is an association between smoking status (smoker or\n",
    "non-smoker) and lung cancer diagnosis (yes or no). The results are shown in the contingency table below.\n",
    "Conduct a chi-square test for independence to determine if there is a significant association between\n",
    "smoking status and lung cancer diagnosis."
   ]
  },
  {
   "cell_type": "code",
   "execution_count": 14,
   "id": "65bac446-e1d6-4215-a930-99173a7cad53",
   "metadata": {},
   "outputs": [
    {
     "name": "stdout",
     "output_type": "stream",
     "text": [
      "Chi-Square Statistic: 12.06\n",
      "P-Value: 0.0005\n",
      "Reject the null hypothesis: There is a significant association between smoking status and lung cancer diagnosis.\n"
     ]
    }
   ],
   "source": [
    "import scipy.stats as stats\n",
    "\n",
    "# Create the contingency table\n",
    "observed_data = [[60, 140], [30, 170]]\n",
    "\n",
    "# Perform the chi-square test for independence\n",
    "chi2, p_value, dof, expected = stats.chi2_contingency(observed_data)\n",
    "\n",
    "# Significance level\n",
    "alpha = 0.05\n",
    "\n",
    "# Output the results and make a decision\n",
    "print(f\"Chi-Square Statistic: {chi2:.2f}\")\n",
    "print(f\"P-Value: {p_value:.4f}\")\n",
    "\n",
    "if p_value < alpha:\n",
    "    print(\"Reject the null hypothesis: There is a significant association between smoking status and lung cancer diagnosis.\")\n",
    "else:\n",
    "    print(\"Fail to reject the null hypothesis: There is no significant association between smoking status and lung cancer diagnosis.\")\n"
   ]
  },
  {
   "cell_type": "markdown",
   "id": "22d4060e-1865-45dd-b698-e30f509c80c4",
   "metadata": {},
   "source": [
    "Q10. A study was conducted to determine if the proportion of people who prefer milk chocolate, dark\n",
    "chocolate, or white chocolate is different in the U.S. versus the U.K. A random sample of 500 people from\n",
    "the U.S. and a random sample of 500 people from the U.K. were surveyed. The results are shown in the\n",
    "contingency table below. Conduct a chi-square test for independence to determine if there is a significant\n",
    "association between chocolate preference and country of origin."
   ]
  },
  {
   "cell_type": "code",
   "execution_count": 15,
   "id": "31c07d43-66e8-4b8f-b790-0784a0141f36",
   "metadata": {},
   "outputs": [
    {
     "name": "stdout",
     "output_type": "stream",
     "text": [
      "Chi-Square Statistic: 13.39\n",
      "P-Value: 0.0012\n",
      "Reject the null hypothesis: There is a significant association between chocolate preference and country of origin.\n"
     ]
    }
   ],
   "source": [
    "import scipy.stats as stats\n",
    "\n",
    "# Create the contingency table\n",
    "observed_data = [[200, 150, 150], [225, 175, 100]]\n",
    "\n",
    "# Perform the chi-square test for independence\n",
    "chi2, p_value, dof, expected = stats.chi2_contingency(observed_data)\n",
    "\n",
    "# Significance level\n",
    "alpha = 0.01\n",
    "\n",
    "# Output the results and make a decision\n",
    "print(f\"Chi-Square Statistic: {chi2:.2f}\")\n",
    "print(f\"P-Value: {p_value:.4f}\")\n",
    "\n",
    "if p_value < alpha:\n",
    "    print(\"Reject the null hypothesis: There is a significant association between chocolate preference and country of origin.\")\n",
    "else:\n",
    "    print(\"Fail to reject the null hypothesis: There is no significant association between chocolate preference and country of origin.\")\n"
   ]
  },
  {
   "cell_type": "markdown",
   "id": "1ca75b11-b665-4de3-96ca-fc32842f3097",
   "metadata": {},
   "source": [
    "Q11. A random sample of 30 people was selected from a population with an unknown mean and standard\n",
    "deviation. The sample mean was found to be 72 and the sample standard deviation was found to be 10.\n",
    "Conduct a hypothesis test to determine if the population mean is significantly different from 70. Use a\n",
    "significance level of 0.05."
   ]
  },
  {
   "cell_type": "code",
   "execution_count": 16,
   "id": "3f5d6dca-bb15-41b0-bf8c-4096d7b0fb56",
   "metadata": {},
   "outputs": [
    {
     "name": "stdout",
     "output_type": "stream",
     "text": [
      "Sample Mean: 72\n",
      "Sample Size: 30\n",
      "Hypothesized Population Mean: 70\n",
      "Degrees of Freedom: 29\n",
      "Calculated t-Statistic: 1.10\n",
      "Critical t-Value: 2.05\n",
      "P-Value: 0.2823\n",
      "Fail to reject the null hypothesis: There is no significant difference in the population mean from 70.\n"
     ]
    }
   ],
   "source": [
    "import scipy.stats as stats\n",
    "\n",
    "# Sample information\n",
    "sample_mean = 72\n",
    "sample_stddev = 10\n",
    "sample_size = 30\n",
    "population_mean = 70  # The hypothesized population mean\n",
    "alpha = 0.05  # Significance level\n",
    "\n",
    "# Calculate the t-statistic\n",
    "t_statistic = (sample_mean - population_mean) / (sample_stddev / (sample_size**0.5))\n",
    "\n",
    "# Calculate the degrees of freedom\n",
    "degrees_of_freedom = sample_size - 1\n",
    "\n",
    "# Calculate the critical t-value for a two-tailed test\n",
    "critical_t = stats.t.ppf(1 - alpha / 2, degrees_of_freedom)\n",
    "\n",
    "# Calculate the p-value\n",
    "p_value = 2 * (1 - stats.t.cdf(abs(t_statistic), degrees_of_freedom))\n",
    "\n",
    "# Output the results and make a decision\n",
    "print(f\"Sample Mean: {sample_mean}\")\n",
    "print(f\"Sample Size: {sample_size}\")\n",
    "print(f\"Hypothesized Population Mean: {population_mean}\")\n",
    "print(f\"Degrees of Freedom: {degrees_of_freedom}\")\n",
    "print(f\"Calculated t-Statistic: {t_statistic:.2f}\")\n",
    "print(f\"Critical t-Value: {critical_t:.2f}\")\n",
    "print(f\"P-Value: {p_value:.4f}\")\n",
    "\n",
    "if abs(t_statistic) > critical_t:\n",
    "    print(\"Reject the null hypothesis: The population mean is significantly different from 70.\")\n",
    "else:\n",
    "    print(\"Fail to reject the null hypothesis: There is no significant difference in the population mean from 70.\")\n"
   ]
  },
  {
   "cell_type": "code",
   "execution_count": null,
   "id": "698ded31-4a6b-4688-b786-93936228feb4",
   "metadata": {},
   "outputs": [],
   "source": []
  }
 ],
 "metadata": {
  "kernelspec": {
   "display_name": "Python 3 (ipykernel)",
   "language": "python",
   "name": "python3"
  },
  "language_info": {
   "codemirror_mode": {
    "name": "ipython",
    "version": 3
   },
   "file_extension": ".py",
   "mimetype": "text/x-python",
   "name": "python",
   "nbconvert_exporter": "python",
   "pygments_lexer": "ipython3",
   "version": "3.10.8"
  }
 },
 "nbformat": 4,
 "nbformat_minor": 5
}
