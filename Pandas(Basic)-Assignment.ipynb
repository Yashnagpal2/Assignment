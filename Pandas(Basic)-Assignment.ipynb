{
 "cells": [
  {
   "cell_type": "markdown",
   "id": "319216c5-ebc7-4882-b1ea-b2f6da603b75",
   "metadata": {},
   "source": [
    "Q1. Create a Pandas Series that contains the following data: 4, 8, 15, 16, 23, and 42. Then, print the series."
   ]
  },
  {
   "cell_type": "code",
   "execution_count": 4,
   "id": "45c8e46e-c0f8-4951-870a-1d4e78f34a72",
   "metadata": {},
   "outputs": [
    {
     "name": "stdout",
     "output_type": "stream",
     "text": [
      "0     4\n",
      "1     8\n",
      "2    15\n",
      "3    16\n",
      "4    23\n",
      "5    42\n",
      "dtype: int64\n"
     ]
    }
   ],
   "source": [
    "import pandas as pd\n",
    "data = [4,8,15,16,23,42]\n",
    "series = pd.Series(data)\n",
    "print(series)"
   ]
  },
  {
   "cell_type": "markdown",
   "id": "af18206b-ca36-4703-9de6-2e8888dcf28f",
   "metadata": {},
   "source": [
    "Q2. Create a variable of list type containing 10 elements in it, and apply pandas.Series function on the\n",
    "variable print it."
   ]
  },
  {
   "cell_type": "code",
   "execution_count": 5,
   "id": "1abb53f5-c9fb-4591-b44c-f10f28195c09",
   "metadata": {},
   "outputs": [
    {
     "data": {
      "text/plain": [
       "0    1\n",
       "1    2\n",
       "2    3\n",
       "3    4\n",
       "4    5\n",
       "5    6\n",
       "6    7\n",
       "7    8\n",
       "8    9\n",
       "9    0\n",
       "dtype: int64"
      ]
     },
     "execution_count": 5,
     "metadata": {},
     "output_type": "execute_result"
    }
   ],
   "source": [
    "data1 = [1,2,3,4,5,6,7,8,9,0]\n",
    "pd.Series(data1)"
   ]
  },
  {
   "cell_type": "markdown",
   "id": "4a152ee2-77c8-4271-8647-2d8347a07433",
   "metadata": {},
   "source": [
    "Q3.Create a Pandas DataFrame that contains the following data:\n",
    "\n",
    "Then, print the DataFrame."
   ]
  },
  {
   "cell_type": "code",
   "execution_count": 7,
   "id": "86bb80b5-8db3-4ae7-b323-23c11d736ccf",
   "metadata": {},
   "outputs": [
    {
     "name": "stdout",
     "output_type": "stream",
     "text": [
      "{'Name': ['Alice', 'Bob', 'Charlie'], 'Age': [25, 30, 27], 'Gender': ['Female', 'Male', 'Female']}\n"
     ]
    },
    {
     "data": {
      "text/plain": [
       "dict"
      ]
     },
     "execution_count": 7,
     "metadata": {},
     "output_type": "execute_result"
    }
   ],
   "source": [
    "data3 ={\n",
    "'Name':[\"Alice\" , \"Bob\" , \"Charlie\"],\n",
    "'Age' : [25 , 30 , 27],\n",
    "'Gender' : [\"Female\" , \"Male\" , \"Female\"]} \n",
    "dataframe = pd.DataFrame(data3)\n",
    "print(data3)\n",
    "type(data3)"
   ]
  },
  {
   "cell_type": "markdown",
   "id": "883a1cb0-14d3-432e-b53a-dcfabef46640",
   "metadata": {},
   "source": [
    "Q4. What is ‘DataFrame’ in pandas and how is it different from pandas.series? Explain with an example."
   ]
  },
  {
   "cell_type": "markdown",
   "id": "84eef1e1-652b-45b7-8b8c-76c9ed63940a",
   "metadata": {},
   "source": [
    "Pandas Series:\n",
    "\n",
    "One-dimensional data structure.\n",
    "Contains a single column of data along with an associated index.\n",
    "Suitable for working with sequences of data.\n",
    "Essentially a labeled NumPy array.\n",
    "Can store homogeneous or heterogeneous data.\n",
    "Commonly used for time series data, individual variables, or simple data arrays.\n",
    "\n",
    "Pandas DataFrame:\n",
    "\n",
    "Two-dimensional data structure.\n",
    "Tabular in nature, with rows and columns.\n",
    "Contains multiple columns (variables) of data, each with its own name.\n",
    "Suitable for working with structured data and relational datasets.\n",
    "Provides a more comprehensive and flexible way to represent and manipulate data compared to a Series.\n",
    "Supports various data types within different columns.\n",
    "Often used for representing datasets imported from CSV files, Excel spreadsheets, or database tables.\n",
    "Enables SQL-like operations such as joins, groupings, and filtering on structured data.\n",
    "In summary, Pandas Series are useful for one-dimensional data, while Pandas DataFrames are designed for two-dimensional tabular data, making them more suitable for handling structured datasets and performing advanced data analysis operations."
   ]
  },
  {
   "cell_type": "markdown",
   "id": "dc0bafab-fe5e-47d2-9b99-bc066e0798ea",
   "metadata": {},
   "source": [
    "Q5. What are some common functions you can use to manipulate data in a Pandas DataFrame? Can\n",
    "you give an example of when you might use one of these functions?"
   ]
  },
  {
   "cell_type": "markdown",
   "id": "ca1ccddf-3053-4c4f-87bc-9c99c9a4d31a",
   "metadata": {},
   "source": [
    "#head/Tail\n",
    "data.head()\n",
    "#Sahpe\n",
    "data.shape()\n",
    "#info\n",
    "data.info\n",
    "#Describe\n",
    "data.describe()\n",
    "#pivottable\n",
    "data.pivot_table()\n",
    "#dropna\n",
    "datq.dropna()"
   ]
  },
  {
   "cell_type": "markdown",
   "id": "55bc5c7f-774b-4123-b004-161486f66577",
   "metadata": {},
   "source": [
    "Q6.Which of the following is mutable in nature Series, DataFrame, Panel?"
   ]
  },
  {
   "cell_type": "markdown",
   "id": "8f742d9a-29b9-4af0-8562-ce20980af700",
   "metadata": {},
   "source": [
    "n Pandas, a Series is mutable, while a DataFrame and a Panel are not mutable.\n",
    "\n",
    "Series: A Pandas Series is mutable, which means you can change the values in a Series after it has been created. You can assign new values to specific elements in a Series.\n",
    "\n",
    "DataFrame: A Pandas DataFrame is not mutable. While you can modify the data within a DataFrame, such as adding or deleting rows or columns, you typically do so by creating a new DataFrame or by using DataFrame methods that return a modified copy of the DataFrame.\n",
    "\n",
    "Panel: In older versions of Pandas (before version 0.25.0), there was a data structure called a \"Panel,\" which was a three-dimensional data structure. However, Panels have been deprecated in favor of using MultiIndex DataFrames for handling higher-dimensional data. MultiIndex DataFrames, like regular DataFrames, are not mutable.\n",
    "\n",
    "In summary, Series are mutable, while DataFrames and Panels (deprecated) are not considered mutable data structures in Pandas."
   ]
  },
  {
   "cell_type": "markdown",
   "id": "b7a9773f-5590-4396-9dc6-bfc4f4ca65d9",
   "metadata": {},
   "source": [
    "6.Create a DataFrame using multiple Series. Explain with an example."
   ]
  },
  {
   "cell_type": "code",
   "execution_count": 9,
   "id": "2495fea4-fa55-49c5-b780-bb637d551f1f",
   "metadata": {},
   "outputs": [
    {
     "name": "stdout",
     "output_type": "stream",
     "text": [
      "   col-1 col-2\n",
      "0      1     !\n",
      "1      2     @\n",
      "2      3     $\n",
      "3      4     %\n",
      "4      5     *\n"
     ]
    }
   ],
   "source": [
    "data4 = pd.Series([1,2,3,4,5] , name = 'col-1')\n",
    "data5 = pd.Series(['!','@','$','%','*'] , name = 'col-2')\n",
    "dataframe1 = pd.DataFrame({'col-1':data4, 'col-2' : data5})\n",
    "print(dataframe1)"
   ]
  },
  {
   "cell_type": "code",
   "execution_count": null,
   "id": "87ad5c4a-7a87-410f-9267-faee7c83fb65",
   "metadata": {},
   "outputs": [],
   "source": []
  }
 ],
 "metadata": {
  "kernelspec": {
   "display_name": "Python 3 (ipykernel)",
   "language": "python",
   "name": "python3"
  },
  "language_info": {
   "codemirror_mode": {
    "name": "ipython",
    "version": 3
   },
   "file_extension": ".py",
   "mimetype": "text/x-python",
   "name": "python",
   "nbconvert_exporter": "python",
   "pygments_lexer": "ipython3",
   "version": "3.10.8"
  }
 },
 "nbformat": 4,
 "nbformat_minor": 5
}
