{
 "cells": [
  {
   "cell_type": "markdown",
   "id": "e5eff379-accd-4ee7-a4ba-6283f305e3cb",
   "metadata": {},
   "source": [
    "Q1. Write a code to print the data present in the second row of the dataframe, df."
   ]
  },
  {
   "cell_type": "code",
   "execution_count": 15,
   "id": "a46b4b35-6881-47f3-a3e6-3b4bc85beacb",
   "metadata": {},
   "outputs": [],
   "source": [
    "import pandas as pd\n",
    "course_name = ['Data Science', 'Machine Learning', 'Big Data', 'Data Engineer']\n",
    "duration = [2,3,6,4]\n",
    "df = pd.DataFrame(data = {'course_name' : course_name , 'duration' : duration})"
   ]
  },
  {
   "cell_type": "code",
   "execution_count": 16,
   "id": "2a0a9834-6516-4cc0-a60d-50f475d0d3b9",
   "metadata": {},
   "outputs": [
    {
     "name": "stdout",
     "output_type": "stream",
     "text": [
      "course_name    Machine Learning\n",
      "duration                      3\n",
      "Name: 1, dtype: object\n"
     ]
    }
   ],
   "source": [
    "second_row_data = df.iloc[1]\n",
    "print(second_row_data)"
   ]
  },
  {
   "cell_type": "markdown",
   "id": "bfb1eb8b-2893-4706-b794-d621650a71a3",
   "metadata": {},
   "source": [
    "Q2. What is the difference between the functions loc and iloc in pandas.DataFrame?"
   ]
  },
  {
   "cell_type": "markdown",
   "id": "3b016a52-4951-45d8-863a-05c89d6bbd1b",
   "metadata": {},
   "source": [
    "The loc and iloc functions in a Pandas DataFrame are used for indexing and selecting data, but they have some key differences:\n",
    "\n",
    "loc (label-based selection):\n",
    "\n",
    "loc is primarily label-based. It allows you to select data by specifying the row and column labels.\n",
    "You can use meaningful row and column labels to access data.\n",
    "It includes both the start and end labels in the range when slicing.\n",
    "iloc (integer-based selection):\n",
    "\n",
    "iloc is primarily integer-based. It allows you to select data by specifying row and column indices using integer positions.\n",
    "You use integer positions, starting from 0 for the first row or column.\n",
    "It follows the Python-style slicing, where the start is included, but the end is excluded.\n",
    "In summary, the main difference between loc and iloc is in how they access data:\n",
    "\n",
    "loc uses labels for indexing and includes both the start and end labels.\n",
    "iloc uses integer positions for indexing and includes the start but excludes the end.\n",
    "Here are some examples to illustrate the difference:"
   ]
  },
  {
   "cell_type": "code",
   "execution_count": 17,
   "id": "be94ccc4-da46-4383-a5fe-49f07de0bf9e",
   "metadata": {},
   "outputs": [
    {
     "data": {
      "text/plain": [
       "'Data Science'"
      ]
     },
     "execution_count": 17,
     "metadata": {},
     "output_type": "execute_result"
    }
   ],
   "source": [
    "#\n",
    "df.loc[0, 'course_name'] \n",
    "df.iloc[0, 0] \n"
   ]
  },
  {
   "cell_type": "markdown",
   "id": "0593812b-f7c1-42a2-a464-bee707022636",
   "metadata": {},
   "source": [
    "Q3. Reindex the given dataframe using a variable, reindex = [3,0,1,2] and"
   ]
  },
  {
   "cell_type": "code",
   "execution_count": 18,
   "id": "34ef1b3a-ce1d-4b75-8369-294e7895458f",
   "metadata": {},
   "outputs": [
    {
     "name": "stdout",
     "output_type": "stream",
     "text": [
      "   column_1  column_2  column_3  column_4  column_5  column_6\n",
      "3  0.205966  0.839644  0.350604  0.336556  0.610097  0.124653\n",
      "0       NaN       NaN       NaN       NaN       NaN       NaN\n",
      "1  0.259909  0.314815  0.955248  0.587344  0.645283  0.522072\n",
      "2  0.143774  0.010531  0.244641  0.765535  0.101079  0.816498\n"
     ]
    }
   ],
   "source": [
    "import pandas as pd\n",
    "import numpy as np\n",
    "\n",
    "columns = ['column_1', 'column_2', 'column_3', 'column_4', 'column_5', 'column_6']\n",
    "indices = [1, 2, 3, 4, 5, 6]\n",
    "df1 = pd.DataFrame(np.random.rand(6, 6), columns=columns, index=indices)\n",
    "\n",
    "\n",
    "reindex = [3, 0, 1, 2]\n",
    "\n",
    "\n",
    "new_df = df1.reindex(reindex)\n",
    "\n",
    "print(new_df)\n"
   ]
  },
  {
   "cell_type": "markdown",
   "id": "8e7d6c1f-16e0-478b-b698-70f02ba9d1c4",
   "metadata": {},
   "source": [
    "Here's what you should observe:\n",
    "\n",
    "new_df.loc[2]:\n",
    "\n",
    "This will access the row with label/index 2.\n",
    "Since we have reindexed new_df, the row labeled as 2 corresponds to the original row labeled as 1 in df1.\n",
    "You will see the values for the row with index 1 in the original df1.\n",
    "new_df.iloc[2]:\n",
    "\n",
    "This will access the row with integer position/index 2.\n",
    "In the reindexed new_df, this corresponds to the row with index 1 in df1.\n",
    "You will also see the values for the row with index 1 in the original df1.\n",
    "So, both new_df.loc[2] and new_df.iloc[2] will give you the same row of data, which is the row with the index 1 in the original df1."
   ]
  },
  {
   "cell_type": "markdown",
   "id": "10be5949-073c-4b84-869b-441e54ce5231",
   "metadata": {},
   "source": [
    "Q4. Write a code to find the following statistical measurements for the above dataframe df1:\n",
    "(i) mean of each and every column present in the dataframe.\n",
    "(ii) standard deviation of column, ‘column_2’"
   ]
  },
  {
   "cell_type": "code",
   "execution_count": 19,
   "id": "5ff57766-c78e-4489-82dd-fac4d5ec1257",
   "metadata": {},
   "outputs": [
    {
     "name": "stdout",
     "output_type": "stream",
     "text": [
      "Mean of each column:\n",
      "column_1    0.441604\n",
      "column_2    0.602949\n",
      "column_3    0.539536\n",
      "column_4    0.523435\n",
      "column_5    0.478605\n",
      "column_6    0.433405\n",
      "dtype: float64\n",
      "\n",
      "Standard deviation of 'column_2':\n",
      "0.36297276745589674\n"
     ]
    }
   ],
   "source": [
    "column_means = df1.mean()\n",
    "\n",
    "column_2_std = df1['column_2'].std()\n",
    "\n",
    "\n",
    "print(\"Mean of each column:\")\n",
    "print(column_means)\n",
    "\n",
    "print(\"\\nStandard deviation of 'column_2':\")\n",
    "print(column_2_std)\n"
   ]
  },
  {
   "cell_type": "markdown",
   "id": "dc2bcac5-fbcb-404a-a8c5-746289353ad0",
   "metadata": {},
   "source": [
    "Q5. Replace the data present in the second row of column, ‘column_2’ by a string variable then find the\n",
    "mean of column, column_2.\n",
    "If you are getting errors in executing it then explain why.\n",
    "[Hint: To replace the data use df1.loc[] and equate this to string data of your choice.]"
   ]
  },
  {
   "cell_type": "markdown",
   "id": "fd912b22-38ab-4009-9d85-0ec2721038f1",
   "metadata": {},
   "source": [
    "f you attempt to replace the data in 'column_2' with a string variable, you will likely encounter an error. The reason is that Pandas DataFrames are designed to hold data of a consistent data type within a column, and attempting to assign a string to a column that originally contains numerical data will result in a data type conflict.\n",
    "\n",
    "Here's an example of what will happen:"
   ]
  },
  {
   "cell_type": "code",
   "execution_count": 11,
   "id": "11cd06a6-555f-496a-9c4a-81b6fd10fcce",
   "metadata": {},
   "outputs": [],
   "source": [
    "# Attempt to replace data in the second row of 'column_2' with a string\n",
    "df1.loc[2, 'column_2'] = 'string_value'\n"
   ]
  },
  {
   "cell_type": "markdown",
   "id": "6c3fb158-22f8-4a74-80fd-1c31a38419d2",
   "metadata": {},
   "source": [
    "To calculate the mean of 'column_2' after this change, you would first need to convert the data in 'column_2' back to a numeric data type (e.g., float or int) before calculating the mean. If you want to replace the data in the second row with a string temporarily and then calculate the mean, you can follow these steps:"
   ]
  },
  {
   "cell_type": "code",
   "execution_count": 12,
   "id": "17b2ea9e-ae81-49ca-b64d-703671cc0b1a",
   "metadata": {},
   "outputs": [
    {
     "name": "stdout",
     "output_type": "stream",
     "text": [
      "Mean of 'column_2' after replacing data: 0.721432119210969\n"
     ]
    }
   ],
   "source": [
    "# Replace the data in the second row of 'column_2' with a string\n",
    "df1.loc[2, 'column_2'] = 'string_value'\n",
    "\n",
    "# Convert the data in 'column_2' back to a numeric data type (e.g., float)\n",
    "df1['column_2'] = pd.to_numeric(df1['column_2'], errors='coerce')\n",
    "\n",
    "# Calculate the mean of 'column_2'\n",
    "column_2_mean = df1['column_2'].mean()\n",
    "\n",
    "# Print the mean\n",
    "print(\"Mean of 'column_2' after replacing data:\", column_2_mean)\n"
   ]
  },
  {
   "cell_type": "markdown",
   "id": "f627cc2f-54f8-482f-8703-da43b2f1f540",
   "metadata": {},
   "source": [
    "Q6. What do you understand about the windows function in pandas and list the types of windows\n",
    "functions?"
   ]
  },
  {
   "cell_type": "markdown",
   "id": "0f4939d2-6467-4f7b-9611-0e942a5dfd0d",
   "metadata": {},
   "source": [
    "In Pandas, the \"window functions\" (also known as \"rolling\" or \"moving\" functions) are used for performing operations on a set of data points within a defined rolling window or moving interval. These functions are particularly useful for time-series data analysis and other data manipulation tasks where you need to compute statistics or apply operations to a moving subset of data.\n",
    "\n",
    "Window functions are typically applied to columns or Series in a DataFrame. The key concept is that for each data point in the Series, a window or rolling interval is defined, and the function is applied to the data points within that window.\n",
    "\n",
    "Common types of window functions in Pandas include:\n",
    "\n",
    "rolling(): This is a general-purpose window function that allows you to create a rolling view of the data and apply various operations, such as mean, sum, min, max, etc., within the rolling window.\n",
    "\n",
    "Example:"
   ]
  },
  {
   "cell_type": "code",
   "execution_count": null,
   "id": "47854025-6f42-4c41-a819-29dff61fe128",
   "metadata": {},
   "outputs": [],
   "source": [
    "df['rolling_mean'] = df['your_column_name'].rolling(window=3).mean()"
   ]
  },
  {
   "cell_type": "markdown",
   "id": "b1d4f5dd-892d-4c8b-97cf-bf6123881b29",
   "metadata": {},
   "source": [
    "expanding(): This function calculates statistics for an expanding window that starts from the beginning of the data and grows to include all data points up to the current point.\n",
    "\n",
    "Example:"
   ]
  },
  {
   "cell_type": "code",
   "execution_count": null,
   "id": "7d93a784-5de4-44ef-bd63-944d7cb6e591",
   "metadata": {},
   "outputs": [],
   "source": [
    "df['expanding_sum'] = df['column_name'].expanding().sum()\n"
   ]
  },
  {
   "cell_type": "markdown",
   "id": "26c88c4e-bcf6-4927-88e8-e11d03df2575",
   "metadata": {},
   "source": [
    "ewm() (Exponential Moving Window): This function applies exponential weighting to data points within a rolling window. It's commonly used for time-series data to give more weight to recent data points.\n",
    "\n",
    "Example:"
   ]
  },
  {
   "cell_type": "code",
   "execution_count": null,
   "id": "22d4967f-aba8-4269-b29b-38871c859c50",
   "metadata": {},
   "outputs": [],
   "source": [
    "df['ewm_mean'] = df['column_name'].ewm(span=3).mean()"
   ]
  },
  {
   "cell_type": "markdown",
   "id": "014aeeb3-cc87-4308-8c89-eb6b2176a079",
   "metadata": {},
   "source": [
    "Q7. Write a code to print only the current month and year at the time of answering this question."
   ]
  },
  {
   "cell_type": "code",
   "execution_count": 28,
   "id": "b5ca56cf-424d-4d2f-a431-318b4c81b0a2",
   "metadata": {},
   "outputs": [
    {
     "name": "stdout",
     "output_type": "stream",
     "text": [
      "Current Month: 10\n",
      "Current Year: 2023\n"
     ]
    }
   ],
   "source": [
    "import pandas as pd\n",
    "\n",
    "# Get the current date as a timestamp\n",
    "current_date = pd.Timestamp.now()\n",
    "\n",
    "# Extract the month and year from the timestamp\n",
    "current_month = current_date.month\n",
    "current_year = current_date.year\n",
    "\n",
    "# Print the current month and year\n",
    "print(f\"Current Month: {current_month}\")\n",
    "print(f\"Current Year: {current_year}\")\n"
   ]
  },
  {
   "cell_type": "markdown",
   "id": "ae0d2b14-8374-4e69-84a3-5187aebc9264",
   "metadata": {},
   "source": [
    "Q8. Write a Python program that takes in two dates as input (in the format YYYY-MM-DD) and\n",
    "calculates the difference between them in days, hours, and minutes using Pandas time delta. The\n",
    "program should prompt the user to enter the dates and display the result."
   ]
  },
  {
   "cell_type": "code",
   "execution_count": 29,
   "id": "e51dc39c-0e57-45cc-a9af-e634193e474f",
   "metadata": {},
   "outputs": [
    {
     "name": "stdin",
     "output_type": "stream",
     "text": [
      "Enter the first date (YYYY-MM-DD):  2023-01-12\n",
      "Enter the second date (YYYY-MM-DD):  2022-10-2\n"
     ]
    },
    {
     "name": "stdout",
     "output_type": "stream",
     "text": [
      "Time Difference: -102 days, 0 hours, 0 minutes\n"
     ]
    }
   ],
   "source": [
    "import pandas as pd\n",
    "\n",
    "# Input dates from the user in the format YYYY-MM-DD\n",
    "date1_str = input(\"Enter the first date (YYYY-MM-DD): \")\n",
    "date2_str = input(\"Enter the second date (YYYY-MM-DD): \")\n",
    "\n",
    "# Convert input strings to Pandas Timestamp objects\n",
    "date1 = pd.Timestamp(date1_str)\n",
    "date2 = pd.Timestamp(date2_str)\n",
    "\n",
    "# Calculate the time difference\n",
    "time_difference = date2 - date1\n",
    "\n",
    "# Extract days, hours, and minutes from the time difference\n",
    "days = time_difference.days\n",
    "hours, remainder = divmod(time_difference.seconds, 3600)\n",
    "minutes, _ = divmod(remainder, 60)\n",
    "\n",
    "# Display the result\n",
    "print(f\"Time Difference: {days} days, {hours} hours, {minutes} minutes\")\n"
   ]
  },
  {
   "cell_type": "markdown",
   "id": "c0f08f13-663d-42e3-96f3-3815ac6fc080",
   "metadata": {},
   "source": [
    "Q9. Write a Python program that reads a CSV file containing categorical data and converts a specified\n",
    "column to a categorical data type. The program should prompt the user to enter the file path, column\n",
    "name, and category order, and then display the sorted data."
   ]
  },
  {
   "cell_type": "code",
   "execution_count": 1,
   "id": "b887d3fe-4bdf-41b5-a01a-28d3bf000666",
   "metadata": {},
   "outputs": [
    {
     "name": "stdin",
     "output_type": "stream",
     "text": [
      "Enter the file path of the CSV file:  work/Dataset(Test).csv\n"
     ]
    },
    {
     "name": "stdout",
     "output_type": "stream",
     "text": [
      "File not found at path: work/Dataset(Test).csv\n"
     ]
    },
    {
     "name": "stdin",
     "output_type": "stream",
     "text": [
      "Enter the name of the column to convert to categorical:  Dataset(Test).csv\n"
     ]
    },
    {
     "ename": "NameError",
     "evalue": "name 'df' is not defined",
     "output_type": "error",
     "traceback": [
      "\u001b[0;31m---------------------------------------------------------------------------\u001b[0m",
      "\u001b[0;31mNameError\u001b[0m                                 Traceback (most recent call last)",
      "Cell \u001b[0;32mIn[1], line 17\u001b[0m\n\u001b[1;32m     14\u001b[0m column_name \u001b[38;5;241m=\u001b[39m \u001b[38;5;28minput\u001b[39m(\u001b[38;5;124m\"\u001b[39m\u001b[38;5;124mEnter the name of the column to convert to categorical: \u001b[39m\u001b[38;5;124m\"\u001b[39m)\n\u001b[1;32m     16\u001b[0m \u001b[38;5;66;03m# Check if the specified column exists in the DataFrame\u001b[39;00m\n\u001b[0;32m---> 17\u001b[0m \u001b[38;5;28;01mif\u001b[39;00m column_name \u001b[38;5;129;01mnot\u001b[39;00m \u001b[38;5;129;01min\u001b[39;00m \u001b[43mdf\u001b[49m\u001b[38;5;241m.\u001b[39mcolumns:\n\u001b[1;32m     18\u001b[0m     \u001b[38;5;28mprint\u001b[39m(\u001b[38;5;124mf\u001b[39m\u001b[38;5;124m\"\u001b[39m\u001b[38;5;124mColumn \u001b[39m\u001b[38;5;124m'\u001b[39m\u001b[38;5;132;01m{\u001b[39;00mcolumn_name\u001b[38;5;132;01m}\u001b[39;00m\u001b[38;5;124m'\u001b[39m\u001b[38;5;124m not found in the DataFrame.\u001b[39m\u001b[38;5;124m\"\u001b[39m)\n\u001b[1;32m     19\u001b[0m     exit()\n",
      "\u001b[0;31mNameError\u001b[0m: name 'df' is not defined"
     ]
    }
   ],
   "source": [
    "import pandas as pd\n",
    "\n",
    "# Prompt the user for the file path of the CSV file\n",
    "file_path = input(\"Enter the file path of the CSV file: \")\n",
    "\n",
    "# Read the CSV file into a Pandas DataFrame\n",
    "try:\n",
    "    df = pd.read_csv(file_path)\n",
    "except FileNotFoundError:\n",
    "    print(f\"File not found at path: {file_path}\")\n",
    "    exit()\n",
    "\n",
    "# Prompt the user for the column name to convert to categorical\n",
    "column_name = input(\"Enter the name of the column to convert to categorical: \")\n",
    "\n",
    "# Check if the specified column exists in the DataFrame\n",
    "if column_name not in df.columns:\n",
    "    print(f\"Column '{column_name}' not found in the DataFrame.\")\n",
    "    exit()\n",
    "\n",
    "# Prompt the user for the category order as a comma-separated list\n",
    "category_order = input(\"Enter the category order (comma-separated values): \").split(',')\n",
    "\n",
    "# Convert the specified column to a categorical data type with the given category order\n",
    "df[column_name] = pd.Categorical(df[column_name], categories=category_order, ordered=True)\n",
    "\n",
    "# Sort the DataFrame by the specified column\n",
    "sorted_df = df.sort_values(by=column_name)\n",
    "\n",
    "# Display the sorted data\n",
    "print(sorted_df)"
   ]
  },
  {
   "cell_type": "markdown",
   "id": "d893a3ed-649d-4f70-81e6-cd67ba8d532a",
   "metadata": {},
   "source": [
    "Q10. Write a Python program that reads a CSV file containing sales data for different products and\n",
    "visualizes the data using a stacked bar chart to show the sales of each product category over time. The\n",
    "program should prompt the user to enter the file path and display the chart."
   ]
  },
  {
   "cell_type": "code",
   "execution_count": null,
   "id": "aa14081a-a177-4c20-82ee-21f2751a9a72",
   "metadata": {},
   "outputs": [],
   "source": [
    "import pandas as pd\n",
    "import matplotlib.pyplot as plt\n",
    "\n",
    "# Prompt the user for the file path of the CSV file\n",
    "file_path = input(\"Enter the file path of the CSV file: \")\n",
    "\n",
    "# Read the CSV file into a Pandas DataFrame\n",
    "try:\n",
    "    df = pd.read_csv(file_path)\n",
    "except FileNotFoundError:\n",
    "    print(f\"File not found at path: {file_path}\")\n",
    "    exit()\n",
    "\n",
    "# Ensure that the DataFrame has columns for 'Date' and 'Product Category'\n",
    "if 'Date' not in df.columns or 'Product Category' not in df.columns:\n",
    "    print(\"The CSV file should contain 'Date' and 'Product Category' columns.\")\n",
    "    exit()\n",
    "\n",
    "# Pivot the DataFrame to create a table of sales by product category over time\n",
    "pivot_table = df.pivot_table(index='Date', columns='Product Category', values='Sales', fill_value=0)\n",
    "\n",
    "# Create a stacked bar chart\n",
    "pivot_table.plot(kind='bar', stacked=True, figsize=(10, 6))\n",
    "\n",
    "# Customize the plot (add labels, title, etc. as needed)\n",
    "plt.xlabel('Date')\n",
    "plt.ylabel('Sales')\n",
    "plt.title('Sales by Product Category Over Time')\n",
    "\n",
    "# Show the chart\n",
    "plt.show()\n"
   ]
  },
  {
   "cell_type": "markdown",
   "id": "77b84536-00d4-4baa-91d4-e63ffce3ef7b",
   "metadata": {},
   "source": [
    "Q11. You are given a CSV file containing student data that includes the student ID and their test score. Write\n",
    "a Python program that reads the CSV file, calculates the mean, median, and mode of the test scores, and\n",
    "displays the results in a table.\n",
    "The program should do the followingM\n",
    "I Prompt the user to enter the file path of the CSV file containing the student dataR\n",
    "I Read the CSV file into a Pandas DataFrameR\n",
    "I Calculate the mean, median, and mode of the test scores using Pandas toolsR\n",
    "I Display the mean, median, and mode in a table.\n",
    "Assume the CSV file contains the following columnsM\n",
    "I Student ID: The ID of the studentR\n",
    "I Test Score: The score of the student's test.\n",
    "Example usage of the program:\n",
    "Enter the file path of the CSV file containing the student data: student_data.csv\n",
    "+-----------+--------+\n",
    "| Statistic | Value |\n",
    "+-----------+--------+\n",
    "| Mean | 79.6 |\n",
    "| Median | 82 |\n",
    "| Mode | 85, 90 |\n",
    "+-----------+--------+\n",
    "Assume that the CSV file student_data.csv contains the following data:\n",
    "Student ID,Test Score\n",
    "1,85\n",
    "2,90\n",
    "3,80\n",
    "4,75\n",
    "5,85\n",
    "6,82\n",
    "7,78\n",
    "8,85\n",
    "9,90\n",
    "10,85\n",
    "The program should calculate the mean, median, and mode of the test scores and display the results\n",
    "in a table."
   ]
  },
  {
   "cell_type": "code",
   "execution_count": null,
   "id": "80a86269-9d08-4749-96fc-547a30a82c3a",
   "metadata": {},
   "outputs": [],
   "source": [
    "import pandas as pd\n",
    "\n",
    "# Prompt the user for the file path of the CSV file containing student data\n",
    "file_path = input(\"Enter the file path of the CSV file: \")\n",
    "\n",
    "# Read the CSV file into a Pandas DataFrame\n",
    "try:\n",
    "    df = pd.read_csv(file_path)\n",
    "except FileNotFoundError:\n",
    "    print(f\"File not found at path: {file_path}\")\n",
    "    exit()\n",
    "\n",
    "# Ensure that the DataFrame has a 'Test Score' column\n",
    "if 'Test Score' not in df.columns:\n",
    "    print(\"The CSV file should contain a 'Test Score' column.\")\n",
    "    exit()\n",
    "\n",
    "# Calculate the mean, median, and mode of the test scores\n",
    "mean_score = df['Test Score'].mean()\n",
    "median_score = df['Test Score'].median()\n",
    "mode_scores = df['Test Score'].mode().tolist()\n",
    "\n",
    "# Create a table to display the results\n",
    "result_table = pd.DataFrame({'Statistic': ['Mean', 'Median', 'Mode'],\n",
    "                             'Value': [mean_score, median_score, ', '.join(map(str, mode_scores))]})\n",
    "print(result_table)\n"
   ]
  },
  {
   "cell_type": "code",
   "execution_count": null,
   "id": "4e6dbce5-6acf-4926-ba0d-809f8793692e",
   "metadata": {},
   "outputs": [],
   "source": []
  }
 ],
 "metadata": {
  "kernelspec": {
   "display_name": "Python 3 (ipykernel)",
   "language": "python",
   "name": "python3"
  },
  "language_info": {
   "codemirror_mode": {
    "name": "ipython",
    "version": 3
   },
   "file_extension": ".py",
   "mimetype": "text/x-python",
   "name": "python",
   "nbconvert_exporter": "python",
   "pygments_lexer": "ipython3",
   "version": "3.10.8"
  }
 },
 "nbformat": 4,
 "nbformat_minor": 5
}
