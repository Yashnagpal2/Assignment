{
 "cells": [
  {
   "cell_type": "markdown",
   "id": "09284c1b-2482-4ce5-b968-e52bf7b4dc23",
   "metadata": {},
   "source": [
    "#### Q1. What is the difference between Ordinal Encoding and Label Encoding? Provide an example of when you might choose one over the other."
   ]
  },
  {
   "cell_type": "markdown",
   "id": "d7a3bc16-929c-456c-85fb-f44905a6b76a",
   "metadata": {},
   "source": [
    "\n",
    "Both Ordinal Encoding and Label Encoding are techniques used to transform categorical data into numerical representations suitable for machine learning algorithms. However, they differ in their approach and implications:\n",
    "\n",
    "Ordinal Encoding:\n",
    "\n",
    "Assigns sequential integer values to categories according to their natural order or ranking.\n",
    "Preserves the inherent order of categories, allowing algorithms to leverage this information.\n",
    "Useful for features with meaningful ordinal relationships, like educational levels (e.g., \"primary\", \"secondary\", \"tertiary\") or customer satisfaction ratings (e.g., \"poor\", \"average\", \"good\").\n",
    "Label Encoding:\n",
    "\n",
    "Assigns unique integer values to categories without considering any order.\n",
    "Simplest and fastest method, but loses the inherent order of categories.\n",
    "Suitable for features where the order of categories is irrelevant, like colors (e.g., \"red\", \"green\", \"blue\") or product categories (e.g., \"electronics\", \"clothing\", \"furniture\").\n",
    "Example:\n",
    "\n",
    "Imagine a dataset containing customer purchase data with a feature \"Customer Status\" with categories: \"New\", \"Regular\", \"Gold\".\n",
    "\n",
    "Ordinal Encoding:\n",
    "\"New\" = 1\n",
    "\"Regular\" = 2\n",
    "\"Gold\" = 3\n",
    "Label Encoding:\n",
    "\"New\" = 1\n",
    "\"Regular\" = 2\n",
    "\"Gold\" = 3\n",
    "In this case, Ordinal Encoding might be preferred if you want to analyze the relationship between customer status and purchase amount. Assigning higher values to higher customer tiers allows algorithms to capture this relationship effectively. However, if you only care about identifying unique customer groups and analyzing purchasing habits within each group, Label Encoding would be sufficient and computationally cheaper.\n",
    "\n",
    "Ultimately, the choice between Ordinal Encoding and Label Encoding depends on the specific data, the nature of the categorical feature, and the intended analysis."
   ]
  },
  {
   "cell_type": "markdown",
   "id": "5bc58db6-f032-4426-8def-b6c1aa9a46f9",
   "metadata": {},
   "source": [
    "#### Q2. Explain how Target Guided Ordinal Encoding works and provide an example of when you might use it in a machine learning project."
   ]
  },
  {
   "cell_type": "markdown",
   "id": "420716d3-f932-454b-a946-0a2abade7cc6",
   "metadata": {},
   "source": [
    "Target Guided Ordinal Encoding is a technique used for encoding categorical variables based on the mean of the target variable for each category. In this approach, the categories are ordered in a way that reflects their relationship with the target variable. It's particularly useful when dealing with categorical features in classification problems where the target variable is binary or multi-class.\n",
    "\n",
    "Here are the steps involved in Target Guided Ordinal Encoding:\n",
    "\n",
    "Calculate the Mean of the Target Variable for Each Category:\n",
    "\n",
    "For each category in the categorical variable, calculate the mean of the target variable (the variable you are trying to predict).\n",
    "Order Categories Based on the Target Mean:\n",
    "\n",
    "Order the categories based on the calculated means. The category with the lowest mean is assigned the lowest rank, and the category with the highest mean is assigned the highest rank.\n",
    "Assign Ordinal Labels to Categories:\n",
    "\n",
    "Assign ordinal labels (1, 2, 3, ...) to the ordered categories. The lower the label, the lower the mean of the target variable for that category.\n",
    "Replace Categorical Values with Assigned Ordinal Labels:\n",
    "\n",
    "Replace the original categorical values with the assigned ordinal labels in the dataset.\n",
    "\n",
    "| CustomerID | Contract   | Churn |\n",
    "|------------|------------|-------|\n",
    "| 1          | Month-to-month | Yes   |\n",
    "| 2          | Two year       | No    |\n",
    "| 3          | One year       | Yes   |\n",
    "| 4          | Month-to-month | No    |\n",
    "| 5          | One year       | No    |\n",
    "\n",
    "\n",
    "Step 1: Calculate the Mean of Churn for Each Contract Type:\n",
    "\n",
    "Month-to-month: (1 + 0) / 2 = 0.5\n",
    "Two year: (0) / 1 = 0.0\n",
    "One year: (1 + 0) / 2 = 0.5\n",
    "Step 2: Order Categories Based on the Target Mean:\n",
    "\n",
    "Two year (0.0)\n",
    "Month-to-month (0.5)\n",
    "One year (0.5)\n",
    "Step 3: Assign Ordinal Labels:\n",
    "\n",
    "Two year: 1\n",
    "Month-to-month: 2\n",
    "One year: 3\n",
    "Step 4: Replace Categorical Values:\n",
    "| CustomerID | Contract   | Churn |\n",
    "|------------|------------|-------|\n",
    "| 1          | 2          | Yes   |\n",
    "| 2          | 1          | No    |\n",
    "| 3          | 3          | Yes   |\n",
    "| 4          | 2          | No    |\n",
    "| 5          | 3          | No    |\n"
   ]
  },
  {
   "cell_type": "markdown",
   "id": "bf971a97-838a-45cc-b16a-c41ae53e21e4",
   "metadata": {},
   "source": [
    "#### Q3. Define covariance and explain why it is important in statistical analysis. How is covariance calculated?"
   ]
  },
  {
   "cell_type": "markdown",
   "id": "73a8e4b5-8ecc-4237-9be3-c5f82552408e",
   "metadata": {},
   "source": [
    "Covariance is a statistical measure that quantifies the degree to which two variables change together. It indicates whether an increase in one variable is associated with an increase or a decrease in another variable. In other words, covariance measures the directional relationship between two variables.\n",
    "\n",
    "Importance in Statistical Analysis:\n",
    "\n",
    "Direction of Relationship:\n",
    "\n",
    "Covariance helps to understand the direction of the relationship between two variables. A positive covariance indicates a positive relationship (both variables tend to increase or decrease together), while a negative covariance indicates a negative relationship (one variable tends to increase as the other decreases).\n",
    "Strength of Relationship:\n",
    "\n",
    "The magnitude (absolute value) of covariance indicates the strength of the relationship. A higher absolute covariance implies a stronger relationship, and a lower absolute covariance implies a weaker relationship.\n",
    "Significance in Regression Analysis:\n",
    "\n",
    "In regression analysis, covariance is used to estimate the coefficients of the regression equation. Covariance plays a crucial role in determining how changes in one variable predict changes in another.\n",
    "Portfolio Analysis:\n",
    "\n",
    "In finance, covariance is used to assess the risk and return of a portfolio. Positive covariance between asset returns suggests that the assets tend to move in the same direction, while negative covariance suggests diversification benefits."
   ]
  },
  {
   "cell_type": "code",
   "execution_count": 6,
   "id": "f2613687-5901-4108-8938-7d71e532c881",
   "metadata": {},
   "outputs": [
    {
     "name": "stdout",
     "output_type": "stream",
     "text": [
      "Sample covariance: 5.0\n"
     ]
    }
   ],
   "source": [
    "import numpy as np\n",
    "\n",
    "# Sample data\n",
    "x = np.array([1, 2, 3, 4, 5])\n",
    "y = np.array([5, 7, 9, 11, 13])\n",
    "\n",
    "# Calculate sample covariance\n",
    "covariance = np.cov(x, y)[0][1]  # Extract the covariance value\n",
    "\n",
    "# Print the result\n",
    "print(\"Sample covariance:\", covariance)"
   ]
  },
  {
   "cell_type": "markdown",
   "id": "9fd86bb9-71b8-4deb-a8cc-2cbf0374b485",
   "metadata": {},
   "source": [
    "#### Q4. For a dataset with the following categorical variables: Color (red, green, blue), Size (small, medium,large), and Material (wood, metal, plastic), perform label encoding using Python's scikit-learn library.Show your code and explain the output."
   ]
  },
  {
   "cell_type": "code",
   "execution_count": 7,
   "id": "3046e6ad-3fc3-4e7e-86f1-edef11f3608e",
   "metadata": {},
   "outputs": [
    {
     "name": "stdout",
     "output_type": "stream",
     "text": [
      "Encoded colors: [2 1 0]\n",
      "Encoded sizes: [2 1 0]\n",
      "Encoded materials: [2 0 1]\n",
      "Color mapping: ['blue' 'green' 'red']\n",
      "Size mapping: ['large' 'medium' 'small']\n",
      "Material mapping: ['metal' 'plastic' 'wood']\n"
     ]
    }
   ],
   "source": [
    "from sklearn.preprocessing import LabelEncoder\n",
    "\n",
    "# Define the categorical data\n",
    "colors = [\"red\", \"green\", \"blue\"]\n",
    "sizes = [\"small\", \"medium\", \"large\"]\n",
    "materials = [\"wood\", \"metal\", \"plastic\"]\n",
    "\n",
    "# Initialize LabelEncoder objects\n",
    "color_encoder = LabelEncoder()\n",
    "size_encoder = LabelEncoder()\n",
    "material_encoder = LabelEncoder()\n",
    "\n",
    "# Encode each categorical variable\n",
    "encoded_colors = color_encoder.fit_transform(colors)\n",
    "encoded_sizes = size_encoder.fit_transform(sizes)\n",
    "encoded_materials = material_encoder.fit_transform(materials)\n",
    "\n",
    "# Print the encoded values\n",
    "print(\"Encoded colors:\", encoded_colors)\n",
    "print(\"Encoded sizes:\", encoded_sizes)\n",
    "print(\"Encoded materials:\", encoded_materials)\n",
    "\n",
    "# Print the label mapping for each encoder\n",
    "print(\"Color mapping:\", color_encoder.classes_)\n",
    "print(\"Size mapping:\", size_encoder.classes_)\n",
    "print(\"Material mapping:\", material_encoder.classes_)\n"
   ]
  },
  {
   "cell_type": "markdown",
   "id": "fd2d3994-e69d-4013-a6f2-b9f920635d90",
   "metadata": {},
   "source": [
    "#### Q5. Calculate the covariance matrix for the following variables in a dataset: Age, Income, and Education level. Interpret the results."
   ]
  },
  {
   "cell_type": "code",
   "execution_count": 8,
   "id": "460044bf-d0d3-4ebc-89c4-4f8cac2af1c5",
   "metadata": {},
   "outputs": [
    {
     "name": "stdout",
     "output_type": "stream",
     "text": [
      "                 Age        Income\n",
      "Age        47.066667  7.886667e+04\n",
      "Income  78866.666667  1.363222e+08\n"
     ]
    },
    {
     "name": "stderr",
     "output_type": "stream",
     "text": [
      "/tmp/ipykernel_4664/311458675.py:16: FutureWarning: The default value of numeric_only in DataFrame.cov is deprecated. In a future version, it will default to False. Select only valid columns or specify the value of numeric_only to silence this warning.\n",
      "  covariance_matrix = data.cov()\n"
     ]
    }
   ],
   "source": [
    "import pandas as pd\n",
    "\n",
    "# Define sample data\n",
    "age = [25, 30, 40, 28, 35, 42, 32, 27, 38, 45]\n",
    "income = [50000, 60000, 70000, 55000, 65000, 80000, 62000, 52000, 72000, 85000]\n",
    "education_level = [\"Bachelor's\", \"Master's\", \"Bachelor's\", \"Bachelor's\", \"Master's\", \"PhD\", \"Bachelor's\", \"Bachelor's\", \"Master's\", \"PhD\"]\n",
    "\n",
    "# Create a DataFrame\n",
    "data = pd.DataFrame({\n",
    "    \"Age\": age,\n",
    "    \"Income\": income,\n",
    "    \"Education Level\": education_level\n",
    "})\n",
    "\n",
    "# Calculate the covariance matrix\n",
    "covariance_matrix = data.cov()\n",
    "\n",
    "# Print the covariance matrix\n",
    "print(covariance_matrix)\n"
   ]
  },
  {
   "cell_type": "markdown",
   "id": "0db520aa-42ac-400c-99fa-d4a77f8825df",
   "metadata": {},
   "source": [
    "#### Q6. You are working on a machine learning project with a dataset containing several categorical variables, including \"Gender\" (Male/Female), \"Education Level\" (High School/Bachelor's/Master's/PhD), and Employment Status\" (Unemployed/Part-Time/Full-Time). Which encoding method would you use for each variable, and why?"
   ]
  },
  {
   "cell_type": "markdown",
   "id": "2934083b-a6c7-4caa-b730-0a99092f35fe",
   "metadata": {},
   "source": [
    "\n",
    "Choosing Encoding Methods for Categorical Variables\n",
    "Here's the recommended encoding method for each categorical variable, along with the rationale:\n",
    "\n",
    "1. Gender (Male/Female):\n",
    "\n",
    "Recommended method: Label Encoding\n",
    "Rationale: This is a binary variable with only two categories. Label encoding assigns unique integer values (0 or 1) to each category, making it simple and efficient for machine learning algorithms.\n",
    "2. Education Level (High School/Bachelor's/Master's/PhD):\n",
    "\n",
    "Recommended method: Ordinal Encoding\n",
    "Rationale: This variable has a natural order, with higher education levels representing more advanced qualifications. Ordinal encoding assigns sequential integer values to categories according to this order, allowing algorithms to capture the inherent relationship between education levels.\n",
    "3. Employment Status (Unemployed/Part-Time/Full-Time):\n",
    "\n",
    "Recommended method: One-Hot Encoding\n",
    "Rationale: This variable has three distinct categories with no inherent order. One-hot encoding creates new binary features for each category, allowing algorithms to handle each category independently and learn separate relationships with other variables.\n",
    "Justification for each choice:\n",
    "\n",
    "Label Encoding: For binary variables, it's simple, efficient, and works well with most algorithms.\n",
    "Ordinal Encoding: When categories have a natural order, it captures the underlying relationship and improves predictive performance.\n",
    "One-Hot Encoding: For unordered categories, it avoids imposing artificial order and allows for independent learning of relationships with each category.\n",
    "Additional considerations:\n",
    "\n",
    "Target encoding: If the target variable is available, it might be beneficial to use target-guided ordinal encoding for \"Education Level\" and \"Employment Status\" to capture their relationship with the target variable and improve model performance.\n",
    "Feature Importance: Analyze the importance of each encoded feature to understand their contribution to the model and potentially remove redundant or unnecessary features.\n",
    "Domain knowledge: Consider the specific meaning and context of each variable when choosing an encoding method."
   ]
  },
  {
   "cell_type": "markdown",
   "id": "c612386f-aee2-414c-a1d1-badf7a87da0b",
   "metadata": {},
   "source": [
    "#### Q7. You are analyzing a dataset with two continuous variables, \"Temperature\" and \"Humidity\", and two categorical variables, \"Weather Condition\" (Sunny/Cloudy/Rainy) and \"Wind Direction\" (North/South/ East/West). Calculate the covariance between each pair of variables and interpret the results."
   ]
  },
  {
   "cell_type": "code",
   "execution_count": 9,
   "id": "719ea2ba-d958-4018-a6c5-3d432683bbbf",
   "metadata": {},
   "outputs": [
    {
     "name": "stdout",
     "output_type": "stream",
     "text": [
      "                   Temperature   Humidity  Weather Condition  Wind Direction\n",
      "Temperature          18.488889 -14.844444          -0.488889        2.555556\n",
      "Humidity            -14.844444  37.655556          -1.544444       -0.277778\n",
      "Weather Condition    -0.488889  -1.544444           0.766667       -0.166667\n",
      "Wind Direction        2.555556  -0.277778          -0.166667        1.166667\n"
     ]
    }
   ],
   "source": [
    "import pandas as pd\n",
    "\n",
    "# Define sample data\n",
    "temperature = [20, 25, 18, 30, 22, 17, 24, 28, 21, 19]\n",
    "humidity = [60, 55, 65, 50, 62, 70, 58, 68, 57, 64]\n",
    "weather_condition = [\"Sunny\", \"Cloudy\", \"Rainy\", \"Sunny\", \"Cloudy\", \"Rainy\", \"Sunny\", \"Cloudy\", \"Rainy\", \"Sunny\"]\n",
    "wind_direction = [\"North\", \"South\", \"East\", \"West\", \"North\", \"South\", \"East\", \"West\", \"North\", \"South\"]\n",
    "\n",
    "# Create a DataFrame\n",
    "data = pd.DataFrame({\n",
    "    \"Temperature\": temperature,\n",
    "    \"Humidity\": humidity,\n",
    "    \"Weather Condition\": weather_condition,\n",
    "    \"Wind Direction\": wind_direction\n",
    "})\n",
    "\n",
    "# Encode categorical variables using Label Encoding\n",
    "from sklearn.preprocessing import LabelEncoder\n",
    "\n",
    "weather_encoder = LabelEncoder()\n",
    "wind_encoder = LabelEncoder()\n",
    "\n",
    "data[\"Weather Condition\"] = weather_encoder.fit_transform(data[\"Weather Condition\"])\n",
    "data[\"Wind Direction\"] = wind_encoder.fit_transform(data[\"Wind Direction\"])\n",
    "\n",
    "# Calculate the covariance matrix\n",
    "covariance_matrix = data.cov()\n",
    "\n",
    "# Print the covariance matrix\n",
    "print(covariance_matrix)\n"
   ]
  },
  {
   "cell_type": "code",
   "execution_count": null,
   "id": "746b46cf-65a6-4465-87d4-4506b2df6780",
   "metadata": {},
   "outputs": [],
   "source": []
  },
  {
   "cell_type": "code",
   "execution_count": null,
   "id": "52bae4ba-6384-4f03-9573-b5ad25f579fc",
   "metadata": {},
   "outputs": [],
   "source": []
  },
  {
   "cell_type": "code",
   "execution_count": null,
   "id": "bede69d1-977d-46ea-8933-0d3ed3e890b0",
   "metadata": {},
   "outputs": [],
   "source": []
  },
  {
   "cell_type": "code",
   "execution_count": null,
   "id": "265566a5-9319-4932-8db6-5ec6e6ad94ae",
   "metadata": {},
   "outputs": [],
   "source": []
  }
 ],
 "metadata": {
  "kernelspec": {
   "display_name": "Python 3 (ipykernel)",
   "language": "python",
   "name": "python3"
  },
  "language_info": {
   "codemirror_mode": {
    "name": "ipython",
    "version": 3
   },
   "file_extension": ".py",
   "mimetype": "text/x-python",
   "name": "python",
   "nbconvert_exporter": "python",
   "pygments_lexer": "ipython3",
   "version": "3.10.8"
  }
 },
 "nbformat": 4,
 "nbformat_minor": 5
}
