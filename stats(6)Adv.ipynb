{
 "cells": [
  {
   "cell_type": "markdown",
   "id": "8ead1abd-5a1b-48a2-9d6e-75e26be7c9e9",
   "metadata": {},
   "source": [
    "Q1: What is the difference between a t-test and a z-test? Provide an example scenario where you would\n",
    "use each type of test."
   ]
  },
  {
   "cell_type": "markdown",
   "id": "96375855-2df2-47a7-a995-732cd492b294",
   "metadata": {},
   "source": [
    "The primary difference between a t-test and a z-test lies in the scenarios in which they are applicable and the assumptions they make about the population.\n",
    "\n",
    "T-Test:\n",
    "\n",
    "A t-test is used when you have a small sample size (typically less than 30) and do not know the population standard deviation.\n",
    "It is suited for testing hypotheses about the population mean.\n",
    "The t-test uses the sample standard deviation to estimate the population standard deviation, and it accounts for the additional uncertainty introduced by small sample sizes.\n",
    "Example scenario: Suppose you want to test whether a new drug affects blood pressure. You select a random sample of 20 patients and measure their blood pressure before and after treatment. You would use a t-test to determine if the change in blood pressure is statistically significant.\n",
    "Z-Test:\n",
    "\n",
    "A z-test is used when you have a large sample size (typically greater than 30) or when you know the population standard deviation.\n",
    "It is appropriate for testing hypotheses about the population mean.\n",
    "The z-test assumes that the sample means follow a normal distribution and does not require correction for small sample sizes.\n",
    "Example scenario: You want to test if a new manufacturing process results in products with a mean weight of 100 grams. You have a large dataset of 2000 product weights and know the population standard deviation. In this case, you can use a z-test.\n",
    "In summary, the choice between a t-test and a z-test depends on the sample size and whether you know the population standard deviation. Use a t-test for small sample sizes or when the population standard deviation is unknown, and use a z-test for large sample sizes or when the population standard deviation is known."
   ]
  },
  {
   "cell_type": "markdown",
   "id": "40572a0d-739a-4b2b-924a-d4fb1addf15e",
   "metadata": {},
   "source": [
    "Q2: Differentiate between one-tailed and two-tailed tests."
   ]
  },
  {
   "cell_type": "markdown",
   "id": "30cbcf8d-08ca-41dc-8d29-70a5cad75d4c",
   "metadata": {},
   "source": [
    "One-Tailed Test:\n",
    "\n",
    "A one-tailed test is a type of statistical test where the critical region is defined on only one side of the sampling distribution. It's used to determine if a population parameter is significantly greater or less than a specific value.\n",
    "In a one-tailed test, the null hypothesis (H0) specifies a particular direction of the effect, and the alternative hypothesis (Ha) focuses on that direction.\n",
    "The critical region is located in either the right tail or the left tail of the sampling distribution, depending on the direction specified in the alternative hypothesis.\n",
    "One-tailed tests are generally used when researchers have a specific expectation about the direction of the effect they are investigating.\n",
    "Example: Testing whether a new drug increases the average test scores. The null hypothesis might be that the drug has no effect or decreases the test scores, so the critical region would be on the right side of the distribution.\n",
    "Two-Tailed Test:\n",
    "\n",
    "A two-tailed test is a type of statistical test where the critical region is defined on both sides of the sampling distribution. It's used to determine if a population parameter is significantly different from a specific value, regardless of the direction.\n",
    "In a two-tailed test, the null hypothesis typically states that there is no effect, while the alternative hypothesis focuses on the possibility of an effect in either direction.\n",
    "The critical region is divided between the two tails of the sampling distribution.\n",
    "Two-tailed tests are commonly used when researchers want to assess whether there is a significant difference or effect, but they don't have a specific expectation about the direction of the effect.\n",
    "Example: Testing whether a new manufacturing process affects the average product weight. The null hypothesis might be that the process has no effect, and the critical region would be divided between both tails of the distribution."
   ]
  },
  {
   "cell_type": "markdown",
   "id": "e7f5cf59-7a83-4621-b242-493d48019dfb",
   "metadata": {},
   "source": [
    "Q3: Explain the concept of Type 1 and Type 2 errors in hypothesis testing. Provide an example scenario for\n",
    "each type of error."
   ]
  },
  {
   "cell_type": "markdown",
   "id": "828977d2-7f3a-4a96-94ae-b792f3f29a58",
   "metadata": {},
   "source": [
    "Type 1 Error (False Positive):\n",
    "\n",
    "A Type 1 error occurs when you reject the null hypothesis when it is actually true. In other words, you incorrectly conclude that there is a significant effect or difference when there isn't.\n",
    "The probability of making a Type 1 error is denoted as α (alpha) and is equal to the significance level or the chosen level of significance (e.g., 0.05).\n",
    "Type 1 errors are often considered more serious in some contexts because they lead to false alarms.\n",
    "Example of a Type 1 Error:\n",
    "Suppose you're conducting a medical test to detect a rare disease. The null hypothesis (H0) is that the patient is healthy (no disease), and the alternative hypothesis (Ha) is that the patient has the disease. If you set the significance level at 0.05, there's a 5% chance of making a Type 1 error. This means that 5% of healthy patients may be incorrectly diagnosed with the disease (false positive).\n",
    "\n",
    "Type 2 Error (False Negative):\n",
    "\n",
    "A Type 2 error occurs when you fail to reject the null hypothesis when it is actually false. In other words, you incorrectly conclude that there is no significant effect or difference when there is.\n",
    "The probability of making a Type 2 error is denoted as β (beta).\n",
    "Type 2 errors can be problematic because they lead to missed opportunities to detect real effects.\n",
    "Example of a Type 2 Error:\n",
    "Consider a study testing the effectiveness of a new drug. The null hypothesis (H0) is that the drug has no effect, and the alternative hypothesis (Ha) is that the drug is effective. If the drug is genuinely effective, but the study fails to detect it, a Type 2 error occurs. This means that patients who could benefit from the drug might not receive it due to the study's failure to find a significant effect."
   ]
  },
  {
   "cell_type": "markdown",
   "id": "5e5d7fc7-7d7a-4d88-85a8-748147c3f3b0",
   "metadata": {},
   "source": [
    "Q4: Explain Bayes's theorem with an example."
   ]
  },
  {
   "cell_type": "markdown",
   "id": "fe3fa7d6-317b-4dc0-a5af-8dcbfa33c860",
   "metadata": {},
   "source": [
    "Bayes's theorem, named after the statistician and philosopher Thomas Bayes, is a fundamental concept in probability theory and statistics. It describes how to update the probability for a hypothesis based on new evidence. The theorem is particularly useful in situations where you have prior knowledge or beliefs about an event, and you want to revise those beliefs given new information\n",
    "P(A|B) = P(A ⋂ B)/ P(B), where P(B) ≠ 0\n",
    "\n",
    "P(B|A) = P(B ⋂ A)/ P(A), where P(A) ≠ 0\n",
    "Example: Medical Diagnosis\n",
    "Suppose a medical test is used to detect a rare disease. Let's define the events:\n",
    "A is the event \"the patient has the disease.\"\n",
    "\n",
    "B is the event \"the test result is positive.\"\n",
    "We want to determine the probability that a patient has the disease given a positive test result, i.e., \n",
    "\n",
    "P(A∣B).\n",
    "\n",
    "P(A) is the prior probability of a patient having the disease before the test is performed. Let's say it's 0.01 (1% of the population has the disease).\n",
    "\n",
    "P(B∣A) is the probability of getting a positive test result when the patient has the disease. Let's say it's 0.95 (the test is 95% accurate for true positives).\n",
    "\n",
    "P(B∣¬A) is the probability of getting a positive test result when the patient does not have the disease. Let's say it's 0.05 (5% false positive rate)."
   ]
  },
  {
   "cell_type": "markdown",
   "id": "5402fd72-e321-416c-b5e7-205371c920bc",
   "metadata": {},
   "source": [
    "Q5: What is a confidence interval? How to calculate the confidence interval, explain with an example."
   ]
  },
  {
   "cell_type": "markdown",
   "id": "a88b5608-27e0-4f50-a01e-728be9ff8c87",
   "metadata": {},
   "source": [
    "A confidence interval is a statistical range that provides an estimate of the true (population) parameter along with a level of confidence that the parameter falls within that range. In other words, it is an interval estimate for a population parameter, such as the mean, proportion, or variance, derived from sample data. The confidence level indicates the probability that the true parameter falls within the interval.\n",
    "\n",
    "The formula to calculate a confidence interval depends on the type of parameter being estimated (e.g., mean, proportion) and the distribution of the data. Here, I'll explain how to calculate a confidence interval for the population mean using the t-distribution with an example:\n",
    "Example: Calculating a 95% Confidence Interval for the Population Mean\n",
    "Suppose you want to estimate the average height of students in a school. You randomly sample 30 students and measure their heights. The sample mean (X) is 165 cm, and the sample standard deviation (S) is 8 cm.\n",
    "\n",
    "Choose the desired confidence level (e.g., 95%) and determine the critical t-value for that level. You can use a t-table or a calculator. For a 95% confidence interval with 29 degrees of freedom (n - 1), the critical t-value is approximately 2.045.\n",
    "\n",
    "Plug the values into the formula:\n",
    "\n",
    "Confidence Interval=165±2.045\n",
    "\n",
    "Confidence Interval=165±2.045( \n",
    "\n",
    "Calculate the values inside the parentheses:\n",
    "\n",
    " ≈1.463\n",
    "\n",
    "Calculate the confidence interval:\n",
    "\n",
    "Confidence Interval=165±2.045×1.463\n",
    "\n",
    "Calculate the lower and upper bounds of the confidence interval:\n",
    "\n",
    "Lower bound: \n",
    "165−2.045×1.463≈161.51\n",
    "Upper bound: \n",
    "165+2.045×1.463≈168.49\n",
    "So, you can be 95% confident that the true average height of students in the school falls within the range of approximately 161.51 cm to 168.49 cm."
   ]
  },
  {
   "cell_type": "markdown",
   "id": "af4e33d0-537a-44bc-8f45-2da9dc2d2fa6",
   "metadata": {},
   "source": [
    "Q6. Use Bayes' Theorem to calculate the probability of an event occurring given prior knowledge of the\n",
    "event's probability and new evidence. Provide a sample problem and solution."
   ]
  },
  {
   "cell_type": "markdown",
   "id": "c68b552d-9117-4354-95a5-3b655117ce03",
   "metadata": {},
   "source": [
    "Certainly, let's use Bayes' Theorem to calculate the probability of an event occurring given prior knowledge of the event's probability and new evidence.\n",
    "P(A∣B)= P(B∣A)⋅P(A)/P(B)\n",
    "Example: Medical Diagnosis\n",
    "Let's say you have a medical test for a rare disease. You want to calculate the probability that a patient has the disease given the test result and the known statistics:\n",
    "\n",
    "P(A) is the prior probability of a patient having the disease, which is 0.01 (1% of the population has the disease).\n",
    "\n",
    "P(B∣A) is the probability of getting a positive test result when the patient has the disease, which is 0.95 (the test is 95% accurate for true positives).\n",
    "\n",
    "P(¬A) is the prior probability of a patient not having the disease, which is 0.99 (1 - 0.01).\n",
    "\n",
    "P(B∣¬A) is the probability of getting a positive test result when the patient does not have the disease, which is 0.05 (5% false positive rate).\n",
    "You want to calculate \n",
    "\n",
    "P(A∣B), the probability that a patient has the disease given a positive test result.\n",
    "\n",
    "Using Bayes' Theorem:\n",
    "\n",
    "\n",
    "P(A∣B)= P(B∣A)⋅P(A)/P(B)\n",
    "\n",
    "\n",
    "First, calculate \n",
    "\n",
    "P(B) using the law of total probability:\n",
    "\n",
    "P(B)=P(B∣A)⋅P(A)+P(B∣¬A)⋅P(¬A)\n",
    "\n",
    "P(B)=(0.95)⋅(0.01)+(0.05)⋅(0.99)\n",
    "\n",
    "P(B)=0.0149+0.0495\n",
    "\n",
    "P(B)=0.0644\n",
    "\n",
    "\n",
    "P(A∣B) using Bayes' Theorem:\n",
    "\n",
    "\n",
    "0.0644\n",
    "P(A∣B)= (0.95)⋅(0.01)/0.0644\n",
    "\n",
    "\n",
    "P(A∣B)=0.0095/0.0644\n",
    "\n",
    "P(A∣B)≈0.1475\n",
    "\n",
    "So, the probability that a patient has the disease given a positive test result is approximately 14.75\n"
   ]
  },
  {
   "cell_type": "markdown",
   "id": "3a8bc2b7-15c7-49d6-a113-836e69285d30",
   "metadata": {},
   "source": [
    "Q7. Calculate the 95% confidence interval for a sample of data with a mean of 50 and a standard deviation\n",
    "of 5. Interpret the results."
   ]
  },
  {
   "cell_type": "markdown",
   "id": "a6ad1bcd-d7bd-4d73-b6ec-e3b8b84d0bec",
   "metadata": {},
   "source": [
    "To calculate a 95% confidence interval for a sample of data with a mean of 50 and a standard deviation of 5, you can use the formula for a confidence interval for the population mean when the population standard deviation is known:\n",
    "    Confidence Interval=50±1.96( 5/n)\n",
    "\n",
    "Interpreting the results:\n",
    "\n",
    "The calculated confidence interval represents the range within which we can be 95% confident that the true population mean falls.\n",
    "In this case, it suggests that the true population mean is likely to fall within a range centered around 50.\n",
    "The width of the confidence interval is determined by the sample size. The larger the sample size, the narrower the interval.\n",
    "If you provide the sample size (n), I can calculate the specific numerical values for the confidence interval.\n",
    "\n",
    "\n",
    "\n",
    "\n",
    "\n"
   ]
  },
  {
   "cell_type": "markdown",
   "id": "0cf519db-71db-472c-8a38-ed2296223e31",
   "metadata": {},
   "source": [
    "Q8. What is the margin of error in a confidence interval? How does sample size affect the margin of error?\n",
    "Provide an example of a scenario where a larger sample size would result in a smaller margin of error."
   ]
  },
  {
   "cell_type": "markdown",
   "id": "c35709e9-4a98-4891-a35a-55cd324dbeac",
   "metadata": {},
   "source": [
    "The margin of error (MOE) in a confidence interval is a measure of the precision or uncertainty associated with the estimate of a population parameter. It represents the range within which the true population parameter is likely to fall. The MOE is calculated based on the sample data, the desired confidence level, and the sample size.\n",
    "\n",
    "In general, the margin of error is influenced by the following factors:\n",
    "\n",
    "Sample Size (n): As the sample size increases, the margin of error decreases. Larger sample sizes provide more information and reduce the uncertainty associated with estimating the population parameter. This is because the standard error of the estimate (which is used to calculate the margin of error) decreases as the sample size increases.\n",
    "\n",
    "Confidence Level: Higher confidence levels (e.g., 95% vs. 99%) lead to larger margins of error because they require wider intervals to be more certain about capturing the true population parameter.\n",
    "\n",
    "Population Standard Deviation (σ): If the population standard deviation is known and is used in the calculation of the margin of error, a smaller standard deviation results in a smaller margin of error.\n",
    "\n",
    "Example:\n",
    "Suppose you want to estimate the average height of a specific tree species in a forest. You take two different-sized samples: one with 10 trees and another with 100 trees. You calculate 95% confidence intervals for both samples.\n",
    "\n",
    "For the sample of 10 trees, you might find a margin of error of ±5 centimeters.\n",
    "For the sample of 100 trees, you might find a margin of error of ±1 centimeter.\n",
    "In this example, the larger sample size (100 trees) results in a significantly smaller margin of error compared to the smaller sample (10 trees). This means that with a larger sample, you are more confident that the true average height of the tree species lies within a narrower range, making your estimate more precise.\n",
    "\n",
    "So, sample size plays a crucial role in determining the margin of error. A larger sample size typically leads to a smaller margin of error, providing a more precise estimate of the population parameter."
   ]
  },
  {
   "cell_type": "markdown",
   "id": "cda0581d-0a31-4e8d-9a0f-a51356d91b12",
   "metadata": {},
   "source": [
    "Q9. Calculate the z-score for a data point with a value of 75, a population mean of 70, and a population\n",
    "standard deviation of 5. Interpret the results."
   ]
  },
  {
   "cell_type": "markdown",
   "id": "f93ef7cc-925c-41b5-94ca-fba6482b19a9",
   "metadata": {},
   "source": [
    "The z-score (z) for a data point is a measure of how many standard deviations that data point is away from the mean. It is calculated using the formula:\n",
    "z= X−μ/σ\n",
    "In your case:\n",
    "X=75\n",
    "μ=70\n",
    "σ=5\n",
    "Substitute these values into the formula:\n",
    "z= 75−70/5=1\n",
    "\n",
    "The z-score is 1, which means that the data point with a value of 75 is 1 standard deviation above the population mean of 70.\n",
    "\n",
    "Interpretation:\n",
    "\n",
    "A z-score of 1 indicates that the data point is 1 standard deviation above the mean.\n",
    "In a standard normal distribution (where the mean is 0 and the standard deviation is 1), a z-score of 1 corresponds to the 84th percentile, meaning that this data point is higher than approximately 84% of the data points in the distribution.\n",
    "This implies that the data point at 75 is relatively higher compared to the average in a population with a mean of 70 and a standard deviation of 5.\n",
    "\n",
    "\n",
    "\n",
    "\n",
    "\n"
   ]
  },
  {
   "cell_type": "markdown",
   "id": "45441b46-0d27-4533-a841-eaec3bd8a8bf",
   "metadata": {},
   "source": [
    "Q11. In a survey of 500 people, 65% reported being satisfied with their current job. Calculate the 95%\n",
    "confidence interval for the true proportion of people who are satisfied with their job."
   ]
  },
  {
   "cell_type": "markdown",
   "id": "e1fbf932-62c5-4898-94c2-b4810e8c0164",
   "metadata": {},
   "source": [
    "p=0.65 (sample proportion)\n",
    "Z=1.96 (critical Z-value for a 95% confidence level)\n",
    "n=500 (sample size)\n",
    "Confidence Interval=0.65±1.96 \n",
    "\n",
    "Calculate the values inside the square root:\n",
    "\n",
    " ≈0.0307\n",
    "\n",
    "Now, calculate the confidence interval:\n",
    "\n",
    "Confidence Interval\n",
    "\n",
    "Confidence Interval=0.65±1.96×0.0307\n",
    "\n",
    "Finally, calculate the lower and upper bounds of the confidence interval:\n",
    "\n",
    "Lower bound: \n",
    "\n",
    "0.65−1.96×0.0307≈0.5884 (58.84%)\n",
    "Upper bound: \n",
    "0.65+1.96×0.0307≈0.7116 (71.16%)\n",
    "So, the 95% confidence interval for the true proportion of people satisfied with their job is approximately 58.84% to 71.16%. This means that you can be 95% confident that the true proportion of satisfied people falls within this range based on the sample data."
   ]
  },
  {
   "cell_type": "markdown",
   "id": "23794295-0084-4fac-ae10-358c647760d8",
   "metadata": {},
   "source": [
    "Q12. A researcher is testing the effectiveness of two different teaching methods on student performance.\n",
    "Sample A has a mean score of 85 with a standard deviation of 6, while sample B has a mean score of 82\n",
    "with a standard deviation of 5. Conduct a hypothesis test to determine if the two teaching methods have a\n",
    "significant difference in student performance using a t-test with a significance level of 0.01."
   ]
  },
  {
   "cell_type": "markdown",
   "id": "853bcde2-3c2e-455c-bcf3-0e91316ea3ad",
   "metadata": {},
   "source": [
    "To determine if there is a significant difference in student performance between two teaching methods, you can conduct a hypothesis test using a two-sample t-test. The null hypothesis (H) is that there is no significant difference, while the alternative hypothesis (H1) is that there is a significant difference. The significance level (α) is 0.01.\n",
    "In your case:\n",
    "\n",
    "For Sample A, \n",
    "X=85, \n",
    "S1=6, and the sample size \n",
    "n1 = is not provided.\n",
    "For Sample B, \n",
    "X2=82, \n",
    "S2=5, and the sample size \n",
    "n2is not provided.\n",
    "Before conducting the test, you need to know the sample sizes for both samples (i.e., \n",
    "n1andn2\n",
    " . Without this information, it's not possible to calculate the test statistic or conduct the hypothesis test. If you can provide the sample sizes, I can help you proceed with the test."
   ]
  },
  {
   "cell_type": "markdown",
   "id": "ef3974cf-9f00-477b-b188-372ec85b4ab0",
   "metadata": {},
   "source": [
    "Q13. A population has a mean of 60 and a standard deviation of 8. A sample of 50 observations has a mean\n",
    "of 65. Calculate the 90% confidence interval for the true population mean."
   ]
  },
  {
   "cell_type": "markdown",
   "id": "94cd0495-7143-418b-95fb-0de48ed00b51",
   "metadata": {},
   "source": [
    "To calculate the 90% confidence interval for the true population mean, you can use the formula for a confidence interval for the population mean when the population standard deviation (\n",
    "�\n",
    "σ) is known:\n",
    "\n",
    "Confidence Interval= \n",
    "X±Z(σ/n)\n",
    "X=65 (sample mean)\n",
    "Z=1.645 (critical Z-value for a 90% confidence level)\n",
    "σ=8 (population standard deviation)\n",
    "n=50 (sample size)\n",
    "Confidence Interval=65±1.645(8/50)\n",
    "1.1313\n",
    "Confidence Interval=65±1.645×1.1313\n",
    "So, the 90% confidence interval for the true population mean is approximately 63.16 to 66.84. This means that you can be 90% confident that the true population mean falls within this range based on the sample data."
   ]
  },
  {
   "cell_type": "markdown",
   "id": "00af8525-36e8-473a-85cb-7f2b30750d53",
   "metadata": {},
   "source": [
    "Q14. In a study of the effects of caffeine on reaction time, a sample of 30 participants had an average\n",
    "reaction time of 0.25 seconds with a standard deviation of 0.05 seconds. Conduct a hypothesis test to\n",
    "determine if the caffeine has a significant effect on reaction time at a 90% confidence level using a t-test."
   ]
  },
  {
   "cell_type": "markdown",
   "id": "c30ba43f-1d2f-4f4d-be1b-0e27bd327b57",
   "metadata": {},
   "source": [
    "To determine if caffeine has a significant effect on reaction time, you can conduct a hypothesis test using a one-sample t-test. The null hypothesis (H0) is that caffeine has no significant effect (the population mean reaction time is equal to 0.25 seconds), while the alternative hypothesis (H1) is that caffeine has a significant effect (the population mean reaction time is not equal to 0.25 seconds). The significance level (α) is 0.10 for a 90% confidence level.\n",
    "\n",
    "t= Xˉ−μ0/(S/n)\n",
    "Xˉ=0.25 (sample mean)\n",
    "μ0=0.25 (hypothesized population mean under the null hypothesis)\n",
    "S=0.05 (sample standard deviation)\n",
    "n=30 (sample size)\n",
    "The test statistic is 0.\n",
    "\n",
    "Next, you need to find the critical t-value for a two-tailed test at a 90% confidence level with 29 degrees of freedom (sample size - 1). You can use a t-table or a t-distribution calculator to find the critical t-value. For a 90% confidence level, the critical t-value is approximately ±1.645.\n",
    "\n",
    "Since the test statistic (0) is not more extreme than the critical t-value (-1.645 or 1.645), you fail to reject the null hypothesis.\n",
    "\n",
    "Conclusion:\n",
    "Based on the hypothesis test at a 90% confidence level, there is not enough evidence to conclude that caffeine has a significant effect on reaction time. The sample data does not provide sufficient support to reject the null hypothesis.\n",
    "\n",
    "\n",
    "\n",
    "\n",
    "\n"
   ]
  }
 ],
 "metadata": {
  "kernelspec": {
   "display_name": "Python 3 (ipykernel)",
   "language": "python",
   "name": "python3"
  },
  "language_info": {
   "codemirror_mode": {
    "name": "ipython",
    "version": 3
   },
   "file_extension": ".py",
   "mimetype": "text/x-python",
   "name": "python",
   "nbconvert_exporter": "python",
   "pygments_lexer": "ipython3",
   "version": "3.10.8"
  }
 },
 "nbformat": 4,
 "nbformat_minor": 5
}
