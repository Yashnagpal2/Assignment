{
 "cells": [
  {
   "cell_type": "markdown",
   "id": "aa0227b9-50f3-48b4-99e2-4669d11b3360",
   "metadata": {},
   "source": [
    "Q1.What is Flask Framework? What are the advantages of Flask Framework?"
   ]
  },
  {
   "cell_type": "markdown",
   "id": "4e6fbab8-8606-4ba4-8d94-f08344b0712d",
   "metadata": {},
   "source": [
    "Flask is a micro web framework for Python. It is designed to be lightweight and simple, providing the basic tools and components needed to build web applications, allowing developers to have more flexibility in choosing libraries and components. Here are the main advantages of Flask:\n",
    "\n",
    "Simplicity: Flask follows a minimalist and unopinionated design philosophy, making it easy to learn and use for both beginners and experienced developers.\n",
    "\n",
    "Flexibility: Flask allows developers to choose their preferred components and libraries for various functionalities, which means you can tailor your application to your specific needs.\n",
    "\n",
    "Extensibility: Flask is highly extensible, and you can easily add extensions or custom functionality to your application as your project evolves.\n",
    "\n",
    "Scalability: While Flask is suitable for small to medium-sized applications, it can be used to build larger and more complex systems when combined with the right extensions and practices.\n",
    "\n",
    "Active Community: Flask has a vibrant and active community, which means you can find a wealth of resources, tutorials, and extensions to support your development efforts.\n",
    "\n",
    "RESTful Support: Flask has built-in support for creating RESTful APIs, making it a popular choice for developing web services and APIs.\n",
    "\n",
    "Werkzeug and Jinja2: Flask leverages the Werkzeug library for handling HTTP requests and Jinja2 for templating, providing solid foundations for web development.\n",
    "\n",
    "Testing: Flask makes it easy to write and execute unit tests, helping ensure the reliability and quality of your web applications.\n",
    "\n",
    "Deployment: Flask can be deployed on a variety of web servers and platforms, giving you flexibility in choosing your hosting environment.\n",
    "\n",
    "Open Source: Flask is open-source and has an active development community, which means it's constantly evolving and improving.\n",
    "\n",
    "In summary, Flask's simplicity, flexibility, and extensibility make it a popular choice for building web applications in Python. It allows developers to start small and scale up as needed while maintaining control over the project's structure and components."
   ]
  },
  {
   "cell_type": "markdown",
   "id": "3328c6bb-9e16-4b01-a245-a809ef3a0d1f",
   "metadata": {},
   "source": [
    "Q3.What is App routing in Flask? Why do we use app routes?"
   ]
  },
  {
   "cell_type": "markdown",
   "id": "d25eb58a-6ea3-4604-8c23-26fefcc78025",
   "metadata": {},
   "source": [
    "In Flask, app routing refers to the process of mapping URLs (Uniform Resource Locators) to specific functions or views in your web application. It allows you to define which function should be executed when a particular URL is requested by a client (e.g., a web browser).\n",
    "Why do we use app routes in Flask?\n",
    "\n",
    "URL Routing: App routes allow you to define the structure of your web application and specify which function should handle each URL. This makes it easy to organize and navigate through different parts of your website.\n",
    "\n",
    "Modularization: By using app routes, you can modularize your application, breaking it into smaller, reusable components or views. Each view function can handle a specific aspect or page of your website, making your code more organized and maintainable.\n",
    "\n",
    "Clean Code: App routes help keep your code clean and readable. Each route is associated with a specific function, making it clear which code is responsible for handling which URL.\n",
    "\n",
    "Separation of Concerns: App routes promote the separation of concerns in your application. Each view function can focus on its specific functionality, such as rendering templates, handling form submissions, or interacting with a database.\n",
    "\n",
    "RESTful APIs: If you're building RESTful APIs, app routes are essential for defining the endpoints of your API and mapping them to the corresponding functions that handle requests and responses.\n",
    "\n",
    "Dynamic URLs: Flask app routes support dynamic URLs by using variable parts in the URL, making it easy to capture values from the URL and use them in your view functions.\n",
    "\n",
    "Overall, app routes in Flask are a fundamental concept for defining the behavior of your web application, handling user requests, and structuring your codebase in a clean and organized manner. They are a crucial part of building dynamic and interactive web applications using Flask."
   ]
  },
  {
   "cell_type": "markdown",
   "id": "80dea577-06cf-4830-b108-a651e967eef0",
   "metadata": {},
   "source": [
    "Q2. Create a simple Flask application to display ‘Hello World!!’. Attach the screenshot of the output in\n",
    "Jupyter Notebook."
   ]
  },
  {
   "cell_type": "code",
   "execution_count": 1,
   "id": "d8a9e55a-2e99-44e6-8a7a-66834214be19",
   "metadata": {},
   "outputs": [
    {
     "name": "stdout",
     "output_type": "stream",
     "text": [
      "Collecting flask\n",
      "  Downloading flask-2.3.3-py3-none-any.whl (96 kB)\n",
      "\u001b[2K     \u001b[90m━━━━━━━━━━━━━━━━━━━━━━━━━━━━━━━━━━━━━━━━\u001b[0m \u001b[32m96.1/96.1 kB\u001b[0m \u001b[31m3.9 MB/s\u001b[0m eta \u001b[36m0:00:00\u001b[0m\n",
      "\u001b[?25hCollecting blinker>=1.6.2\n",
      "  Downloading blinker-1.6.2-py3-none-any.whl (13 kB)\n",
      "Collecting Werkzeug>=2.3.7\n",
      "  Downloading werkzeug-2.3.7-py3-none-any.whl (242 kB)\n",
      "\u001b[2K     \u001b[90m━━━━━━━━━━━━━━━━━━━━━━━━━━━━━━━━━━━━━━\u001b[0m \u001b[32m242.2/242.2 kB\u001b[0m \u001b[31m24.7 MB/s\u001b[0m eta \u001b[36m0:00:00\u001b[0m\n",
      "\u001b[?25hRequirement already satisfied: click>=8.1.3 in /opt/conda/lib/python3.10/site-packages (from flask) (8.1.3)\n",
      "Requirement already satisfied: Jinja2>=3.1.2 in /opt/conda/lib/python3.10/site-packages (from flask) (3.1.2)\n",
      "Collecting itsdangerous>=2.1.2\n",
      "  Downloading itsdangerous-2.1.2-py3-none-any.whl (15 kB)\n",
      "Requirement already satisfied: MarkupSafe>=2.0 in /opt/conda/lib/python3.10/site-packages (from Jinja2>=3.1.2->flask) (2.1.1)\n",
      "Installing collected packages: Werkzeug, itsdangerous, blinker, flask\n",
      "  Attempting uninstall: blinker\n",
      "    Found existing installation: blinker 1.5\n",
      "    Uninstalling blinker-1.5:\n",
      "      Successfully uninstalled blinker-1.5\n",
      "Successfully installed Werkzeug-2.3.7 blinker-1.6.2 flask-2.3.3 itsdangerous-2.1.2\n",
      "Note: you may need to restart the kernel to use updated packages.\n"
     ]
    }
   ],
   "source": [
    "pip install flask"
   ]
  },
  {
   "cell_type": "code",
   "execution_count": 6,
   "id": "c729ee82-633d-4d0d-907b-f207969213e2",
   "metadata": {},
   "outputs": [
    {
     "name": "stdout",
     "output_type": "stream",
     "text": [
      " * Serving Flask app '__main__'\n",
      " * Debug mode: off\n"
     ]
    },
    {
     "name": "stderr",
     "output_type": "stream",
     "text": [
      "WARNING: This is a development server. Do not use it in a production deployment. Use a production WSGI server instead.\n",
      " * Running on all addresses (0.0.0.0)\n",
      " * Running on http://127.0.0.1:5000\n",
      " * Running on http://172.18.0.40:5000\n",
      "Press CTRL+C to quit\n",
      "172.18.0.2 - - [12/Sep/2023 10:51:52] \"GET / HTTP/1.1\" 200 -\n"
     ]
    }
   ],
   "source": [
    "from flask import Flask\n",
    "a=Flask(__name__)\n",
    "\n",
    "@a.route(\"/\")\n",
    "def hello_world():\n",
    "    return \"<h1> HELLO WORLD!! </h1>\"\n",
    "\n",
    "if __name__ ==\"__main__\":\n",
    "    a.run(host = \"0.0.0.0\")"
   ]
  },
  {
   "cell_type": "markdown",
   "id": "6fc8fcc3-1d02-47d7-86cc-5ed3553bc897",
   "metadata": {},
   "source": [
    "Q4.Create a “/welcome” route to display the welcome message “Welcome to ABC Corporation” and a “/”\n",
    "route to show the following details:\n",
    "Company Name: ABC Corporation\n",
    "Location: India\n",
    "Contact Detail: 999-999-9999"
   ]
  },
  {
   "cell_type": "code",
   "execution_count": 1,
   "id": "df598621-42e5-474e-aa4a-d422a1d6153c",
   "metadata": {},
   "outputs": [
    {
     "name": "stdout",
     "output_type": "stream",
     "text": [
      " * Serving Flask app '__main__'\n",
      " * Debug mode: off\n"
     ]
    },
    {
     "name": "stderr",
     "output_type": "stream",
     "text": [
      "WARNING: This is a development server. Do not use it in a production deployment. Use a production WSGI server instead.\n",
      " * Running on all addresses (0.0.0.0)\n",
      " * Running on http://127.0.0.1:5000\n",
      " * Running on http://172.18.0.40:5000\n",
      "Press CTRL+C to quit\n"
     ]
    }
   ],
   "source": [
    "from flask import Flask\n",
    "a=Flask(__name__)\n",
    "\n",
    "@a.route(\"/welcome\")\n",
    "def welcome():\n",
    "    return\"Welcome to ABC Corporation\"\n",
    "if __name__ ==\"__main__\":\n",
    "    a.run(host = \"0.0.0.0\")\n"
   ]
  },
  {
   "cell_type": "code",
   "execution_count": 6,
   "id": "bedf779e-2b4b-4f85-bb0a-b0791b84fba8",
   "metadata": {},
   "outputs": [
    {
     "name": "stdout",
     "output_type": "stream",
     "text": [
      " * Serving Flask app '__main__'\n",
      " * Debug mode: off\n"
     ]
    },
    {
     "name": "stderr",
     "output_type": "stream",
     "text": [
      "WARNING: This is a development server. Do not use it in a production deployment. Use a production WSGI server instead.\n",
      " * Running on all addresses (0.0.0.0)\n",
      " * Running on http://127.0.0.1:5000\n",
      " * Running on http://172.18.0.40:5000\n",
      "Press CTRL+C to quit\n",
      "172.18.0.2 - - [12/Sep/2023 11:48:23] \"GET / HTTP/1.1\" 200 -\n"
     ]
    }
   ],
   "source": [
    "from flask import Flask\n",
    "a=Flask(__name__)\n",
    "\n",
    "@a.route(\"/\")\n",
    "def company_info():\n",
    "    Company_name = 'ABC Corporation'\n",
    "    Location = 'India'\n",
    "    Contact_detail = '999-999-9999'\n",
    "    \n",
    "    return f'Company Name: {Company_name}<br>Location: {Location}<br>Contact Detail: {Contact_detail}'\n",
    "\n",
    "if __name__ ==\"__main__\":\n",
    "    a.run(host = \"0.0.0.0\")"
   ]
  },
  {
   "cell_type": "markdown",
   "id": "f335492b-0f6a-460a-ab8b-b316492edca1",
   "metadata": {},
   "source": [
    "Q5.What function is used in Flask for URL Building? Write a Python code to demonstrate the working of the\n",
    "url_for() function."
   ]
  },
  {
   "cell_type": "markdown",
   "id": "b927da3e-fef6-4106-a6e7-ebb6c9254a0e",
   "metadata": {},
   "source": [
    "In Flask, you can use the url_for() function to build URLs for specific routes in your application. This function takes the name of the route (the function name associated with the route) as an argument and returns the URL for that route. It's particularly useful because it allows you to create URLs dynamically without hardcoding them, which makes your application more maintainable."
   ]
  },
  {
   "cell_type": "code",
   "execution_count": 7,
   "id": "64a47669-84ab-4806-89a6-28fbbbba8db3",
   "metadata": {},
   "outputs": [
    {
     "name": "stdout",
     "output_type": "stream",
     "text": [
      "URL for Home Page: /\n",
      "URL for About Page: /about\n",
      "URL for Contact Page: /contact\n"
     ]
    }
   ],
   "source": [
    "from flask import Flask, url_for\n",
    "\n",
    "app = Flask(__name__)\n",
    "\n",
    "@app.route('/')\n",
    "def home():\n",
    "    return 'Welcome to the Home Page!'\n",
    "\n",
    "@app.route('/about')\n",
    "def about():\n",
    "    return 'This is the About Page'\n",
    "\n",
    "@app.route('/contact')\n",
    "def contact():\n",
    "    return 'Contact us at contact@example.com'\n",
    "\n",
    "if __name__ == '__main__':\n",
    "    with app.test_request_context():\n",
    "        # Using url_for to build URLs for the routes\n",
    "        home_url = url_for('home')\n",
    "        about_url = url_for('about')\n",
    "        contact_url = url_for('contact')\n",
    "\n",
    "        print(f'URL for Home Page: {home_url}')\n",
    "        print(f'URL for About Page: {about_url}')\n",
    "        print(f'URL for Contact Page: {contact_url}')\n"
   ]
  },
  {
   "cell_type": "code",
   "execution_count": null,
   "id": "e3f1cd08-768a-4f35-baef-f763306eb415",
   "metadata": {},
   "outputs": [],
   "source": []
  }
 ],
 "metadata": {
  "kernelspec": {
   "display_name": "Python 3 (ipykernel)",
   "language": "python",
   "name": "python3"
  },
  "language_info": {
   "codemirror_mode": {
    "name": "ipython",
    "version": 3
   },
   "file_extension": ".py",
   "mimetype": "text/x-python",
   "name": "python",
   "nbconvert_exporter": "python",
   "pygments_lexer": "ipython3",
   "version": "3.10.8"
  }
 },
 "nbformat": 4,
 "nbformat_minor": 5
}
