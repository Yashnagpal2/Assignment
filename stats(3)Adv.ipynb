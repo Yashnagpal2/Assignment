{
 "cells": [
  {
   "cell_type": "markdown",
   "id": "3be0bf5b-e7c9-4fa5-bd4f-4a95eb9a0abf",
   "metadata": {},
   "source": [
    "Q1. What is the Probability density function?"
   ]
  },
  {
   "cell_type": "markdown",
   "id": "af1e99fb-7b04-4889-a17f-1a978e70e560",
   "metadata": {},
   "source": [
    "A Probability Density Function (PDF) is a statistical function that describes the likelihood of a continuous random variable taking on a particular value within a given range. In other words, it provides the probability that the random variable falls within a specific interval. The PDF is often denoted as \"f(x)\" or \"p(x),\" where \"x\" represents the variable you are interested in.\n",
    "\n",
    "Mathematically, the PDF is defined as follows for a continuous random variable \"X\":\n",
    "\n",
    "f(x)= d/dxF(x)"
   ]
  },
  {
   "cell_type": "markdown",
   "id": "ac111568-70ac-4299-8745-0150a511ab69",
   "metadata": {},
   "source": [
    "Q2. What are the types of Probability distribution?"
   ]
  },
  {
   "cell_type": "markdown",
   "id": "db1bf16b-54cc-45c8-b88b-5de76bb02f90",
   "metadata": {},
   "source": [
    "There are several types of probability distributions in statistics, each with its own characteristics and applications. Here are some of the most common types:\n",
    "\n",
    "Continuous Distributions:\n",
    "\n",
    "Normal Distribution (Gaussian Distribution): The bell-shaped curve, which is symmetric and characterized by its mean and standard deviation.\n",
    "Uniform Distribution: All values within an interval are equally likely.\n",
    "Exponential Distribution: Models the time between events in a Poisson process and is often used for modeling waiting times.\n",
    "Beta Distribution: A family of continuous probability distributions defined on the interval [0, 1] and used for modeling probabilities.\n",
    "Log-Normal Distribution: Used for variables that are the product of many small, independent factors and have a skewed distribution.\n",
    "Discrete Distributions:\n",
    "\n",
    "Bernoulli Distribution: Models a single binary outcome (success/failure) with a fixed probability of success.\n",
    "Binomial Distribution: Models the number of successes in a fixed number of independent Bernoulli trials.\n",
    "Poisson Distribution: Models the number of events occurring in a fixed interval of time or space when the events are rare and random.\n",
    "Geometric Distribution: Models the number of trials required for the first success in a sequence of independent Bernoulli trials.\n",
    "Hypergeometric Distribution: Models the probability of drawing specific items from a finite population without replacement.\n",
    "Multinomial Distribution: Generalizes the binomial distribution to more than two categories.\n",
    "Negative Binomial Distribution: Models the number of trials required for a fixed number of successes in a sequence of independent Bernoulli trials.\n",
    "Mixed Distributions:\n",
    "\n",
    "Poisson-Gamma Distribution: A mixture of Poisson and gamma distributions, often used in Bayesian statistics.\n",
    "Normal Mixture Model: A combination of multiple normal distributions, useful for modeling data with multiple clusters or modes.\n",
    "Empirical Distribution: A distribution estimated from observed data, which may not have a specific mathematical form. Kernel density estimation and histograms are common tools for creating empirical distributions.\n",
    "\n",
    "Custom Distributions: In some cases, specialized distributions are created to model specific real-world phenomena."
   ]
  },
  {
   "cell_type": "markdown",
   "id": "4ec64f16-55f6-4031-af21-5e0b14df4ba2",
   "metadata": {},
   "source": [
    "Q3. Write a Python function to calculate the probability density function of a normal distribution with\n",
    "given mean and standard deviation at a given point."
   ]
  },
  {
   "cell_type": "code",
   "execution_count": 1,
   "id": "c3605fdf-e2e8-4e01-b7c5-15ede78ebb1d",
   "metadata": {},
   "outputs": [
    {
     "name": "stdout",
     "output_type": "stream",
     "text": [
      "PDF at x = 1.5: 0.12951759566589174\n"
     ]
    }
   ],
   "source": [
    "import scipy.stats as stats\n",
    "\n",
    "def normal_pdf(x, mean, std_dev):\n",
    "    \n",
    "    # Use the probability density function (pdf) of the normal distribution\n",
    "    pdf = stats.norm.pdf(x, loc=mean, scale=std_dev)\n",
    "    return pdf\n",
    "\n",
    "# Example usage:\n",
    "mean = 0.0\n",
    "std_dev = 1.0\n",
    "x = 1.5\n",
    "pdf_value = normal_pdf(x, mean, std_dev)\n",
    "print(f\"PDF at x = {x}: {pdf_value}\")\n"
   ]
  },
  {
   "cell_type": "markdown",
   "id": "e607f567-d0fe-41f6-a767-6b79ff35354f",
   "metadata": {},
   "source": [
    "Q4. What are the properties of Binomial distribution? Give two examples of events where binomial\n",
    "distribution can be applied."
   ]
  },
  {
   "cell_type": "markdown",
   "id": "86c1a924-ece3-4866-84c7-2e88bf20877c",
   "metadata": {},
   "source": [
    "The binomial distribution is a discrete probability distribution that models the number of successes (usually denoted as \"k\") in a fixed number of independent and identical Bernoulli trials (experiments with two possible outcomes: success and failure). The properties of the binomial distribution include:\n",
    "\n",
    "Fixed Number of Trials (n): The distribution is defined for a fixed number of trials or experiments, denoted as \"n.\"\n",
    "\n",
    "Two Possible Outcomes: Each trial results in one of two possible outcomes, typically labeled as \"success\" or \"failure.\"\n",
    "\n",
    "Independence: The trials are independent, meaning that the outcome of one trial does not affect the outcome of the others.\n",
    "\n",
    "Constant Probability of Success (p): The probability of success (usually denoted as \"p\") remains constant across all trials.\n",
    "\n",
    "Discreteness: The random variable representing the number of successes, \"k,\" is a discrete variable and can take on integer values from 0 to n.\n",
    "\n",
    "Probability Mass Function (PMF): The probability mass function of the binomial distribution is given by:\n",
    "\n",
    "P(X=k)=(n/k)⋅p^k⋅(1−p)^n−k"
   ]
  },
  {
   "cell_type": "markdown",
   "id": "69ad617b-7384-4fee-9bec-0adb3f74550f",
   "metadata": {},
   "source": [
    "Q5. Generate a random sample of size 1000 from a binomial distribution with probability of success 0.4\n",
    "and plot a histogram of the results using matplotlib."
   ]
  },
  {
   "cell_type": "code",
   "execution_count": 3,
   "id": "19b6c09b-10ad-4291-b46e-f3f9148eb605",
   "metadata": {},
   "outputs": [
    {
     "data": {
      "image/png": "[encoded data removed]",
      "text/plain": [
       "<Figure size 640x480 with 1 Axes>"
      ]
     },
     "metadata": {},
     "output_type": "display_data"
    }
   ],
   "source": [
    "import numpy as np\n",
    "import matplotlib.pyplot as plt\n",
    "\n",
    "# Set the parameters for the binomial distribution\n",
    "n = 1000  # Number of trials\n",
    "p = 0.4   # Probability of success\n",
    "\n",
    "# Generate a random sample from the binomial distribution\n",
    "random_sample = np.random.binomial(n, p, 1000)  # Generate 1000 random values\n",
    "\n",
    "# Create a histogram of the random sample\n",
    "plt.hist(random_sample, bins=range(0, n + 2), align='left', density=True)\n",
    "plt.title(\"Binomial Distribution Histogram\")\n",
    "plt.xlabel(\"Number of Successes\")\n",
    "plt.ylabel(\"Probability\")\n",
    "plt.grid(True)\n",
    "\n",
    "# Show the histogram\n",
    "plt.show()\n"
   ]
  },
  {
   "cell_type": "markdown",
   "id": "de454148-3f39-408d-9b69-30fad5d015cd",
   "metadata": {},
   "source": [
    "Q6. Write a Python function to calculate the cumulative distribution function of a Poisson distribution\n",
    "with given mean at a given point."
   ]
  },
  {
   "cell_type": "code",
   "execution_count": 4,
   "id": "2a88907b-aa00-44a0-b3e7-294226d8aa71",
   "metadata": {},
   "outputs": [
    {
     "name": "stdout",
     "output_type": "stream",
     "text": [
      "CDF at k = 2: 0.42319008112684364\n"
     ]
    }
   ],
   "source": [
    "import math\n",
    "import scipy.stats as stats\n",
    "\n",
    "def poisson_cdf(k, mu):\n",
    "   \n",
    "    cdf = stats.poisson.cdf(k, mu)\n",
    "    return cdf\n",
    "\n",
    "# Example usage:\n",
    "mean = 3.0\n",
    "point = 2\n",
    "cdf_value = poisson_cdf(point, mean)\n",
    "print(f\"CDF at k = {point}: {cdf_value}\")\n"
   ]
  },
  {
   "cell_type": "markdown",
   "id": "5f0f4d3a-13f1-4fab-89fb-026f769eb20b",
   "metadata": {},
   "source": [
    "Q7. How Binomial distribution different from Poisson distribution?"
   ]
  },
  {
   "cell_type": "markdown",
   "id": "90b4107a-72d2-4839-b23b-1e64f660cfa2",
   "metadata": {},
   "source": [
    "The Binomial distribution and the Poisson distribution are both discrete probability distributions, but they have different characteristics and are used to model different types of random events. Here are the key differences between the two distributions:\n",
    "\n",
    "Number of Trials:\n",
    "\n",
    "Binomial Distribution: The Binomial distribution is used to model the number of successes (or failures) in a fixed number of independent and identical trials (experiments). The number of trials is denoted as \"n\" and is fixed in advance.\n",
    "Poisson Distribution: The Poisson distribution is used to model the number of events that occur in a fixed interval of time or space. There is no fixed number of trials; it is often used to describe rare events that occur randomly.\n",
    "Nature of Events:\n",
    "\n",
    "Binomial Distribution: The Binomial distribution is used for events with two possible outcomes, such as success and failure, or heads and tails. Each trial is a Bernoulli trial, which can be either a success or a failure.\n",
    "Poisson Distribution: The Poisson distribution is used for events that occur with a very low probability in each trial and are independent of one another. It describes the number of events within a fixed interval.\n",
    "Probability of Success:\n",
    "\n",
    "Binomial Distribution: The probability of success (\"p\") remains constant across all trials.\n",
    "Poisson Distribution: The probability of an event occurring in a very small interval is \"p,\" but the event rate is low, and \"p\" approaches 0 as the interval becomes very small.\n",
    "Parameterization:\n",
    "\n",
    "Binomial Distribution: It is parameterized by two values: \"n\" (number of trials) and \"p\" (probability of success in a single trial).\n",
    "Poisson Distribution: It is parameterized by a single value, \"λ\" (lambda), which represents the average rate of event occurrence in the fixed interval.\n",
    "Shape:\n",
    "\n",
    "Binomial Distribution: The shape of the Binomial distribution changes with \"n\" and \"p.\" It can be symmetric or skewed, depending on these parameters.\n",
    "Poisson Distribution: The Poisson distribution is often right-skewed, and it becomes more symmetric as \"λ\" increases.\n",
    "Limiting Cases:\n",
    "\n",
    "As the number of trials in a Binomial distribution (n) becomes very large, and the probability of success (p) becomes very small in such a way that \"np\" remains constant, the Binomial distribution approaches a Poisson distribution.\n",
    "Applications:\n",
    "\n",
    "Binomial Distribution: Commonly used for modeling situations where there is a fixed number of trials, such as the number of defective items in a sample, the number of successes in a fixed number of Bernoulli trials, or the outcomes of repeated coin flips.\n",
    "Poisson Distribution: Commonly used for modeling rare events such as the number of phone calls at a call center in a fixed time interval, the number of car accidents at a specific location in a day, or the number of emails received per hour."
   ]
  },
  {
   "cell_type": "markdown",
   "id": "c594ac88-5ecf-47bb-90bb-6878e50d6baa",
   "metadata": {},
   "source": [
    "Q8. Generate a random sample of size 1000 from a Poisson distribution with mean 5 and calculate the\n",
    "sample mean and variance."
   ]
  },
  {
   "cell_type": "code",
   "execution_count": 6,
   "id": "08c790aa-38c6-4ccb-b73f-458b27a1f42c",
   "metadata": {},
   "outputs": [
    {
     "name": "stdout",
     "output_type": "stream",
     "text": [
      "Sample Mean: 4.89\n",
      "Sample Variance: 5.0099\n"
     ]
    }
   ],
   "source": [
    "mean = 5\n",
    "sample_size = 1000  \n",
    "\n",
    "random_sample = np.random.poisson(mean, sample_size)\n",
    "\n",
    "#\n",
    "sample_mean = np.mean(random_sample)\n",
    "sample_variance = np.var(random_sample)\n",
    "\n",
    "\n",
    "print(f\"Sample Mean: {sample_mean}\")\n",
    "print(f\"Sample Variance: {sample_variance}\")\n"
   ]
  },
  {
   "cell_type": "markdown",
   "id": "9100f540-4860-4e6a-9ad0-1d40ff1fbba8",
   "metadata": {},
   "source": [
    "Q9. How mean and variance are related in Binomial distribution and Poisson distribution?"
   ]
  },
  {
   "cell_type": "markdown",
   "id": "b81c79d4-e8d0-4493-a393-127b22e32e97",
   "metadata": {},
   "source": [
    "In both the Binomial and Poisson distributions, the mean (expected value) and variance are closely related to the parameters of the respective distributions, and this relationship is a key characteristic of these probability distributions.\n",
    "\n",
    "Binomial Distribution:\n",
    "\n",
    "The mean and variance of a Binomial distribution are related as follows:\n",
    "\n",
    "Mean (μ): The mean of a Binomial distribution is equal to the product of the number of trials (n) and the probability of success in a single trial (p). In mathematical terms, μ = np.\n",
    "\n",
    "Variance (σ^2): The variance of a Binomial distribution is equal to the product of the number of trials (n), the probability of success in a single trial (p), and the probability of failure in a single trial (q, where q = 1 - p). In mathematical terms, σ^2 = npq.\n",
    "\n",
    "Poisson Distribution:\n",
    "\n",
    "The mean and variance of a Poisson distribution are also related:\n",
    "\n",
    "Mean (λ): The mean of a Poisson distribution is equal to a single parameter, λ (lambda), which represents the average rate of event occurrence in a fixed interval.\n",
    "\n",
    "Variance (σ^2): The variance of a Poisson distribution is also equal to λ. In mathematical terms, σ^2 = λ."
   ]
  },
  {
   "cell_type": "markdown",
   "id": "0bd12444-3bc9-48da-8d1f-9ce95a9cd59b",
   "metadata": {},
   "source": [
    "Q10. In normal distribution with respect to mean position, where does the least frequent data appear?"
   ]
  },
  {
   "cell_type": "markdown",
   "id": "609aebf5-1b22-4195-bf2a-59c192174068",
   "metadata": {},
   "source": [
    "In a normal distribution, which is a symmetric probability distribution, the least frequent data points appear in the tails of the distribution, farthest away from the mean.\n",
    "\n",
    "The normal distribution is characterized by its bell-shaped curve, and it is symmetrically distributed around the mean. The mean is the central point of the distribution, and it represents the highest point of probability density. As you move away from the mean in either direction, the probability density decreases.\n",
    "\n",
    "The least frequent data points are found in the extreme tails of the distribution, which are located furthest from the mean. These extreme tails contain the values that are the most rare or extreme in the context of the distribution. In a standard normal distribution (with a mean of 0 and a standard deviation of 1), data values that are many standard deviations away from the mean (e.g., more than 2 or 3 standard deviations) are considered to be quite rare and unlikely.\n",
    "\n",
    "This concept is important in statistics and hypothesis testing, where you may be interested in extreme values or outliers in a dataset, which are typically found in the tails of the normal distribution. These extreme values can be of particular interest because they might represent unusual or significant observations, depending on the context of the analysis."
   ]
  },
  {
   "cell_type": "code",
   "execution_count": null,
   "id": "10b68ae2-17ac-492f-a92e-e38140f40a60",
   "metadata": {},
   "outputs": [],
   "source": []
  }
 ],
 "metadata": {
  "kernelspec": {
   "display_name": "Python 3 (ipykernel)",
   "language": "python",
   "name": "python3"
  },
  "language_info": {
   "codemirror_mode": {
    "name": "ipython",
    "version": 3
   },
   "file_extension": ".py",
   "mimetype": "text/x-python",
   "name": "python",
   "nbconvert_exporter": "python",
   "pygments_lexer": "ipython3",
   "version": "3.10.8"
  }
 },
 "nbformat": 4,
 "nbformat_minor": 5
}
