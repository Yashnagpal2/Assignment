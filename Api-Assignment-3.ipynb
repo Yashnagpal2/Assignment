{
 "cells": [
  {
   "cell_type": "markdown",
   "id": "d0fbf865-0ec0-45cb-ba16-476578d400e4",
   "metadata": {},
   "source": [
    "Q1. Explain GET and POST methods."
   ]
  },
  {
   "cell_type": "markdown",
   "id": "a66065f9-1c4d-43f3-ad2c-8a0246b063d5",
   "metadata": {},
   "source": [
    "GET:\n",
    "\n",
    "The GET method is used to request data from a specified resource.\n",
    "It is considered a safe and idempotent method, meaning it should not have any side effects on the server, and multiple identical requests should produce the same result.\n",
    "In a GET request, data is typically appended to the URL as query parameters. For example, https://example.com/api/data?id=123.\n",
    "GET requests are suitable for retrieving data from the server, such as fetching web pages, images, or API data.\n",
    "They can be cached by browsers, making them efficient for repeated requests for the same data.\n",
    "GET requests should not be used for sensitive data or operations that modify the server's state, as the data is visible in the URL.\n",
    "POST:\n",
    "\n",
    "The POST method is used to submit data to be processed by a specified resource.\n",
    "It is considered a non-idempotent method because multiple identical requests can have different outcomes, such as creating multiple records in a database.\n",
    "In a POST request, data is sent in the request body, often in the form of JSON, XML, or form data.\n",
    "POST requests are suitable for operations that modify the server's state, such as creating, updating, or deleting records in a database.\n",
    "They are not cached by default, and the data is not visible in the URL, making them more suitable for sensitive or large data submissions."
   ]
  },
  {
   "cell_type": "markdown",
   "id": "0681947e-2ab1-490a-b0fd-c60851a8fe58",
   "metadata": {},
   "source": [
    "Q2. Why is request used in Flask?"
   ]
  },
  {
   "cell_type": "markdown",
   "id": "4d78f1d4-4f14-4ce2-8fb0-7311f2139c9b",
   "metadata": {},
   "source": [
    "In Flask, the request object is used to access incoming HTTP request data. It provides a way to interact with the data sent by a client (e.g., a web browser) to the Flask server. The request object is a crucial part of building web applications because it allows you to:\n",
    "\n",
    "Access Form Data: You can use request to retrieve data submitted via HTML forms. For example, when a user fills out a form on a web page and submits it, Flask can access the form fields using request.form. This data is typically sent with a POST request.\n",
    "\n",
    "Access URL Parameters: When you have URL parameters (query parameters) in the URL, you can access them using request.args. These are often used in GET requests to pass data to the server.\n",
    "\n",
    "Read Request Headers: You can inspect the headers of the incoming request using request.headers. This is useful for checking information like user agent, content type, or authorization headers.\n",
    "\n",
    "Access JSON Data: If the client sends JSON data in the request body, you can parse and access it using request.get_json(). This is common when working with APIs that send data in JSON format.\n",
    "\n",
    "Handle File Uploads: If your application allows users to upload files, you can use request.files to access and process uploaded files.\n",
    "\n",
    "Determine the HTTP Method: You can use request.method to check the HTTP method used in the request (GET, POST, PUT, DELETE, etc.) and perform different actions based on the method.\n",
    "\n",
    "Access Cookies: You can access and manipulate cookies sent by the client using request.cookies.\n",
    "\n",
    "Session Handling: Flask can use the request object to manage user sessions and store session data securely on the server.\n",
    "\n",
    "The request object is essential for handling user input and interacting with client data in a Flask application. It allows you to extract and process the information sent by users through their HTTP requests, enabling you to build dynamic and interactive web applications."
   ]
  },
  {
   "cell_type": "markdown",
   "id": "2a9b0a92-1eb8-4713-ab9d-115418e23767",
   "metadata": {},
   "source": [
    "Q3. Why is redirect() used in Flask?"
   ]
  },
  {
   "cell_type": "markdown",
   "id": "e420b621-ff5c-4798-8bfc-8b5f6d780919",
   "metadata": {},
   "source": [
    "HTTP Redirection: redirect() is used in Flask to perform HTTP redirections, which means sending a response to the client with a different URL.\n",
    "\n",
    "Navigation: It is commonly used for navigating between different views or sections of a web application.\n",
    "\n",
    "Handling Form Submissions: After a user submits a form, redirect() can be used to redirect them to a different page, preventing data resubmission upon page refresh.\n",
    "\n",
    "User Authentication: It's used to direct users to the appropriate pages, such as after successful login or logout.\n",
    "\n",
    "URL Normalization: It helps ensure consistent and user-friendly URLs, handling cases like trailing slashes.\n",
    "\n",
    "Error Handling: redirect() is valuable for sending users to custom error pages or redirecting them to specific locations in the application when errors occur.\n",
    "\n",
    "Examples: It can be used with url_for to specify the target route, making it easy to generate redirects based on route names.\n",
    "\n",
    "Control Flow: redirect() is an essential tool for managing the flow and user experience in Flask web applications."
   ]
  },
  {
   "cell_type": "markdown",
   "id": "78e2a8f8-8318-4c33-afc7-06c71191a67d",
   "metadata": {},
   "source": [
    "Q4. What are templates in Flask? Why is the render_template() function used?"
   ]
  },
  {
   "cell_type": "markdown",
   "id": "2d846d76-e023-4d79-b149-5439c6181626",
   "metadata": {},
   "source": [
    "Templates in Flask are a way to separate the HTML structure and presentation from the Python code in your web application. They allow you to create dynamic web pages by embedding placeholders for data that will be filled in when the page is rendered. This separation of concerns makes it easier to maintain and update the user interface of your web application.\n",
    "\n",
    "Here's why templates are used in Flask:\n",
    "\n",
    "Separation of Concerns: Templates separate the presentation layer (HTML) from the logic layer (Python code). This separation makes your code more organized and maintainable, as changes to the HTML won't require changes in the Python code and vice versa.\n",
    "\n",
    "Dynamic Content: Templates enable you to inject dynamic content into web pages. You can pass data from your Flask application to the template, and the template engine will render the data in the appropriate places.\n",
    "\n",
    "Reusability: Templates can be reused across multiple pages of your website. You can create a base template with a common layout and then extend it or include it in other templates to maintain a consistent design.\n",
    "\n",
    "Readability: HTML embedded within Python code can be hard to read and maintain. Templates use a more natural and structured approach to define the layout of web pages.\n",
    "\n",
    "The render_template() function in Flask is used to render templates and generate HTML responses. It takes the name of the template file as an argument and can also accept additional variables to pass data to the template. Here's why render_template() is used:\n",
    "\n",
    "Rendering Templates: render_template() is the primary method for rendering templates in Flask. It processes the specified template file and replaces placeholders with the provided data.\n",
    "\n",
    "Passing Data: You can pass data from your Python code (e.g., variables, lists, dictionaries) to the template using render_template(). This data can be dynamically displayed in the rendered HTML.\n",
    "\n",
    "Automatic Template Lookup: Flask automatically looks for template files in a predefined templates folder (usually named \"templates\" by convention). You only need to provide the template's filename, and Flask will locate and render it."
   ]
  },
  {
   "cell_type": "markdown",
   "id": "f35a1565-f5c9-4999-81f0-a86b39e9bc77",
   "metadata": {},
   "source": [
    "Q5. Create a simple API. Use Postman to test it. Attach the screenshot of the output in the Jupyter Notebook."
   ]
  },
  {
   "cell_type": "code",
   "execution_count": 1,
   "id": "a78a1414-b82c-4221-a234-b2e30b454045",
   "metadata": {},
   "outputs": [
    {
     "name": "stdout",
     "output_type": "stream",
     "text": [
      "Collecting flask\n",
      "  Downloading flask-2.3.3-py3-none-any.whl (96 kB)\n",
      "\u001b[2K     \u001b[90m━━━━━━━━━━━━━━━━━━━━━━━━━━━━━━━━━━━━━━━━\u001b[0m \u001b[32m96.1/96.1 kB\u001b[0m \u001b[31m3.7 MB/s\u001b[0m eta \u001b[36m0:00:00\u001b[0m\n",
      "\u001b[?25hCollecting blinker>=1.6.2\n",
      "  Downloading blinker-1.6.2-py3-none-any.whl (13 kB)\n",
      "Requirement already satisfied: click>=8.1.3 in /opt/conda/lib/python3.10/site-packages (from flask) (8.1.3)\n",
      "Collecting Werkzeug>=2.3.7\n",
      "  Downloading werkzeug-2.3.7-py3-none-any.whl (242 kB)\n",
      "\u001b[2K     \u001b[90m━━━━━━━━━━━━━━━━━━━━━━━━━━━━━━━━━━━━━━\u001b[0m \u001b[32m242.2/242.2 kB\u001b[0m \u001b[31m26.3 MB/s\u001b[0m eta \u001b[36m0:00:00\u001b[0m\n",
      "\u001b[?25hCollecting itsdangerous>=2.1.2\n",
      "  Downloading itsdangerous-2.1.2-py3-none-any.whl (15 kB)\n",
      "Requirement already satisfied: Jinja2>=3.1.2 in /opt/conda/lib/python3.10/site-packages (from flask) (3.1.2)\n",
      "Requirement already satisfied: MarkupSafe>=2.0 in /opt/conda/lib/python3.10/site-packages (from Jinja2>=3.1.2->flask) (2.1.1)\n",
      "Installing collected packages: Werkzeug, itsdangerous, blinker, flask\n",
      "  Attempting uninstall: blinker\n",
      "    Found existing installation: blinker 1.5\n",
      "    Uninstalling blinker-1.5:\n",
      "      Successfully uninstalled blinker-1.5\n",
      "Successfully installed Werkzeug-2.3.7 blinker-1.6.2 flask-2.3.3 itsdangerous-2.1.2\n",
      "Note: you may need to restart the kernel to use updated packages.\n"
     ]
    }
   ],
   "source": [
    "pip install flask"
   ]
  },
  {
   "cell_type": "code",
   "execution_count": 13,
   "id": "2d696ffc-4741-4df9-ba9f-1bba4413b05f",
   "metadata": {},
   "outputs": [
    {
     "name": "stdout",
     "output_type": "stream",
     "text": [
      "Collecting jsonify\n",
      "  Downloading jsonify-0.5.tar.gz (1.0 kB)\n",
      "  Preparing metadata (setup.py) ... \u001b[?25ldone\n",
      "\u001b[?25hBuilding wheels for collected packages: jsonify\n",
      "  Building wheel for jsonify (setup.py) ... \u001b[?25ldone\n",
      "\u001b[?25h  Created wheel for jsonify: filename=jsonify-0.5-py3-none-any.whl size=1538 sha256=4144f6eabe1787b220cb0cfa8ade2508d710c99efb9d141f36d1a2577b80aad4\n",
      "  Stored in directory: /home/jovyan/.cache/pip/wheels/1d/50/28/77e93d43c8cad2488722191ca466061cb63e4d10b5bb1469eb\n",
      "Successfully built jsonify\n",
      "Installing collected packages: jsonify\n",
      "Successfully installed jsonify-0.5\n",
      "Note: you may need to restart the kernel to use updated packages.\n"
     ]
    }
   ],
   "source": [
    "pip install jsonify"
   ]
  },
  {
   "cell_type": "code",
   "execution_count": null,
   "id": "ad55c0cf-8fcf-4fbd-b2ff-afe5e43c88c7",
   "metadata": {},
   "outputs": [
    {
     "name": "stdout",
     "output_type": "stream",
     "text": [
      " * Serving Flask app '__main__'\n",
      " * Debug mode: off\n"
     ]
    },
    {
     "name": "stderr",
     "output_type": "stream",
     "text": [
      "WARNING: This is a development server. Do not use it in a production deployment. Use a production WSGI server instead.\n",
      " * Running on all addresses (0.0.0.0)\n",
      " * Running on http://127.0.0.1:5000\n",
      " * Running on http://172.18.0.11:5000\n",
      "Press CTRL+C to quit\n",
      "172.18.0.2 - - [13/Sep/2023 12:16:47] \"GET /cat HTTP/1.1\" 200 -\n",
      "172.18.0.2 - - [13/Sep/2023 12:17:51] \"GET /cat HTTP/1.1\" 200 -\n"
     ]
    }
   ],
   "source": [
    "from flask import Flask,jsonify\n",
    "app = Flask(__name__)\n",
    "cats = [\n",
    "    {\n",
    "        'title': 'cat 1',\n",
    "        'owner': 'Owner 1',\n",
    "    },\n",
    "    {\n",
    "        'title': 'cat 2',\n",
    "        'owner': 'Owner 2',\n",
    "    },\n",
    "    {\n",
    "        'title': 'cat 3',\n",
    "        'owner': 'Owner 3',\n",
    "    }\n",
    "]  \n",
    "@app.route(\"/cat\",methods = [\"GET\"])\n",
    "def cat_1():\n",
    "    return jsonify(cats)\n",
    "if __name__ ==\"__main__\":\n",
    "    app.run(host = \"0.0.0.0\")"
   ]
  },
  {
   "cell_type": "code",
   "execution_count": 25,
   "id": "d8f6af2b-97d2-48ca-8d76-7e68e39f0b35",
   "metadata": {},
   "outputs": [
    {
     "name": "stdout",
     "output_type": "stream",
     "text": [
      "Requirement already satisfied: IPython in /opt/conda/lib/python3.10/site-packages (8.7.0)\n",
      "Requirement already satisfied: stack-data in /opt/conda/lib/python3.10/site-packages (from IPython) (0.6.2)\n",
      "Requirement already satisfied: pexpect>4.3 in /opt/conda/lib/python3.10/site-packages (from IPython) (4.8.0)\n",
      "Requirement already satisfied: jedi>=0.16 in /opt/conda/lib/python3.10/site-packages (from IPython) (0.18.2)\n",
      "Requirement already satisfied: decorator in /opt/conda/lib/python3.10/site-packages (from IPython) (5.1.1)\n",
      "Requirement already satisfied: prompt-toolkit<3.1.0,>=3.0.11 in /opt/conda/lib/python3.10/site-packages (from IPython) (3.0.36)\n",
      "Requirement already satisfied: matplotlib-inline in /opt/conda/lib/python3.10/site-packages (from IPython) (0.1.6)\n",
      "Requirement already satisfied: traitlets>=5 in /opt/conda/lib/python3.10/site-packages (from IPython) (5.7.1)\n",
      "Requirement already satisfied: backcall in /opt/conda/lib/python3.10/site-packages (from IPython) (0.2.0)\n",
      "Requirement already satisfied: pygments>=2.4.0 in /opt/conda/lib/python3.10/site-packages (from IPython) (2.13.0)\n",
      "Requirement already satisfied: pickleshare in /opt/conda/lib/python3.10/site-packages (from IPython) (0.7.5)\n",
      "Requirement already satisfied: parso<0.9.0,>=0.8.0 in /opt/conda/lib/python3.10/site-packages (from jedi>=0.16->IPython) (0.8.3)\n",
      "Requirement already satisfied: ptyprocess>=0.5 in /opt/conda/lib/python3.10/site-packages (from pexpect>4.3->IPython) (0.7.0)\n",
      "Requirement already satisfied: wcwidth in /opt/conda/lib/python3.10/site-packages (from prompt-toolkit<3.1.0,>=3.0.11->IPython) (0.2.5)\n",
      "Requirement already satisfied: asttokens>=2.1.0 in /opt/conda/lib/python3.10/site-packages (from stack-data->IPython) (2.2.1)\n",
      "Requirement already satisfied: executing>=1.2.0 in /opt/conda/lib/python3.10/site-packages (from stack-data->IPython) (1.2.0)\n",
      "Requirement already satisfied: pure-eval in /opt/conda/lib/python3.10/site-packages (from stack-data->IPython) (0.2.2)\n",
      "Requirement already satisfied: six in /opt/conda/lib/python3.10/site-packages (from asttokens>=2.1.0->stack-data->IPython) (1.16.0)\n",
      "Note: you may need to restart the kernel to use updated packages.\n"
     ]
    }
   ],
   "source": [
    "pip install IPython"
   ]
  },
  {
   "cell_type": "code",
   "execution_count": 33,
   "id": "a840f0dd-050c-48f5-8f0e-970b7bd9f766",
   "metadata": {},
   "outputs": [
    {
     "data": {
      "text/html": [
       "<img src=\"Postman-ss.jpg\" width=\"300\" height=\"300\"/>"
      ],
      "text/plain": [
       "<IPython.core.display.Image object>"
      ]
     },
     "execution_count": 33,
     "metadata": {},
     "output_type": "execute_result"
    }
   ],
   "source": [
    "from IPython.display import Image \n",
    "Image(url=\"Postman-ss.jpg\", width=300, height=300)"
   ]
  },
  {
   "cell_type": "code",
   "execution_count": null,
   "id": "7b81a9a7-e9d6-4407-b11e-07cec5afeabc",
   "metadata": {},
   "outputs": [],
   "source": []
  }
 ],
 "metadata": {
  "kernelspec": {
   "display_name": "Python 3 (ipykernel)",
   "language": "python",
   "name": "python3"
  },
  "language_info": {
   "codemirror_mode": {
    "name": "ipython",
    "version": 3
   },
   "file_extension": ".py",
   "mimetype": "text/x-python",
   "name": "python",
   "nbconvert_exporter": "python",
   "pygments_lexer": "ipython3",
   "version": "3.10.8"
  }
 },
 "nbformat": 4,
 "nbformat_minor": 5
}
