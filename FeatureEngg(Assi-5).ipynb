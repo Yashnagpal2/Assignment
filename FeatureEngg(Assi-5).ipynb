{
 "cells": [
  {
   "cell_type": "markdown",
   "id": "eda48e2b-d066-4591-a25c-2a2e112804f7",
   "metadata": {},
   "source": [
    "#### Q1. Pearson correlation coefficient is a measure of the linear relationship between two variables. Suppose you have collected data on the amount of time students spend studying for an exam and their final exam scores. Calculate the Pearson correlation coefficient between these two variables and interpret the result."
   ]
  },
  {
   "cell_type": "code",
   "execution_count": 12,
   "id": "d92d9380-0afe-4e44-83ce-f2341db85c32",
   "metadata": {},
   "outputs": [
    {
     "name": "stdout",
     "output_type": "stream",
     "text": [
      "Dataset 1: Pearson correlation coefficient: 0.81636624276147\n",
      "There is a strong positive correlation between study time and exam scores.\n"
     ]
    }
   ],
   "source": [
    "import seaborn as sns\n",
    "\n",
    "# Load the \"anscombe\" dataset\n",
    "data = sns.load_dataset(\"anscombe\")\n",
    "\n",
    "# Select data from the first dataset\n",
    "study_time = data[\"x\"]\n",
    "exam_scores = data[\"y\"]\n",
    "\n",
    "# Calculate the Pearson correlation coefficient\n",
    "correlation_coefficient = study_time.corr(exam_scores)\n",
    "\n",
    "# Print and interpret the result\n",
    "print(\"Dataset 1: Pearson correlation coefficient:\", correlation_coefficient)\n",
    "\n",
    "if correlation_coefficient > 0.7:\n",
    "    print(\"There is a strong positive correlation between study time and exam scores.\")\n",
    "elif correlation_coefficient > 0.3 and correlation_coefficient < 0.7:\n",
    "    print(\"There is a moderate positive correlation between study time and exam scores.\")\n",
    "elif correlation_coefficient > -0.3 and correlation_coefficient < 0.3:\n",
    "    print(\"There is a weak or no correlation between study time and exam scores.\")\n",
    "elif correlation_coefficient < -0.3:\n",
    "    print(\"There is a moderate negative correlation between study time and exam scores.\")\n",
    "elif correlation_coefficient < -0.7:\n",
    "    print(\"There is a strong negative correlation between study time and exam scores.\")\n"
   ]
  },
  {
   "cell_type": "markdown",
   "id": "94474256-f36a-48f7-b7dd-b50577eab88f",
   "metadata": {},
   "source": [
    "#### Q2. Spearman's rank correlation is a measure of the monotonic relationship between two variables. Suppose you have collected data on the amount of sleep individuals get each night and their overall job satisfaction level on a scale of 1 to 10. Calculate the Spearman's rank correlation between these two variables and interpret the result."
   ]
  },
  {
   "cell_type": "code",
   "execution_count": 13,
   "id": "b7d5bcb5-d4be-49ff-83e9-f5d6cf15408c",
   "metadata": {},
   "outputs": [
    {
     "name": "stdout",
     "output_type": "stream",
     "text": [
      "Spearman's rank correlation coefficient: 0.9748427672955976\n",
      "There is a strong positive monotonic relationship between sleep hours and job satisfaction.\n"
     ]
    }
   ],
   "source": [
    "import pandas as pd\n",
    "\n",
    "# Sample data\n",
    "sleep_hours = [7, 8, 6, 9, 5, 8, 7, 10, 6, 8]\n",
    "job_satisfaction = [8, 9, 7, 10, 6, 9, 8, 10, 5, 9]\n",
    "\n",
    "# Create a DataFrame\n",
    "data = pd.DataFrame({\n",
    "    \"Sleep Hours\": sleep_hours,\n",
    "    \"Job Satisfaction\": job_satisfaction\n",
    "})\n",
    "\n",
    "# Calculate Spearman's rank correlation coefficient\n",
    "correlation_coefficient = data[\"Sleep Hours\"].corr(data[\"Job Satisfaction\"], method=\"spearman\")\n",
    "\n",
    "# Print and interpret the result\n",
    "print(\"Spearman's rank correlation coefficient:\", correlation_coefficient)\n",
    "\n",
    "if correlation_coefficient > 0.7:\n",
    "    print(\"There is a strong positive monotonic relationship between sleep hours and job satisfaction.\")\n",
    "elif correlation_coefficient > 0.3 and correlation_coefficient < 0.7:\n",
    "    print(\"There is a moderate positive monotonic relationship between sleep hours and job satisfaction.\")\n",
    "elif correlation_coefficient > -0.3 and correlation_coefficient < 0.3:\n",
    "    print(\"There is a weak or no monotonic relationship between sleep hours and job satisfaction.\")\n",
    "elif correlation_coefficient < -0.3:\n",
    "    print(\"There is a moderate negative monotonic relationship between sleep hours and job satisfaction.\")\n",
    "elif correlation_coefficient < -0.7:\n",
    "    print(\"There is a strong negative monotonic relationship between sleep hours and job satisfaction.\")\n"
   ]
  },
  {
   "cell_type": "markdown",
   "id": "213335a6-3a08-4ed3-8ca6-b5a2528455d2",
   "metadata": {},
   "source": [
    "#### Q3. Suppose you are conducting a study to examine the relationship between the number of hours of exercise per week and body mass index (BMI) in a sample of adults. You collected data on both variables for 50 participants. Calculate the Pearson correlation coefficient and the Spearman's rank correlation between these two variables and compare the results."
   ]
  },
  {
   "cell_type": "code",
   "execution_count": 14,
   "id": "5be977e4-19d1-432f-a3b2-303157a28235",
   "metadata": {},
   "outputs": [
    {
     "name": "stdout",
     "output_type": "stream",
     "text": [
      "Pearson correlation coefficient: 0.9756\n",
      "Spearman's rank correlation: 0.9797\n"
     ]
    }
   ],
   "source": [
    "import numpy as np\n",
    "from scipy.stats import pearsonr, spearmanr\n",
    "\n",
    "# Sample data: Number of hours of exercise per week and corresponding BMI\n",
    "hours_of_exercise = np.array([3, 5, 2, 7, 4, 6, 1, 8, 5, 4, 2, 6, 3, 5, 7, 4, 6, 3, 2, 5, \n",
    "                              7, 4, 6, 3, 5, 2, 7, 4, 6, 3, 5, 7, 4, 6, 3, 5, 2, 7, 4, 6, \n",
    "                              3, 5, 2, 7, 4, 6, 3, 5, 2, 7, 4])\n",
    "\n",
    "bmi = np.array([22, 24, 20, 28, 26, 27, 19, 30, 25, 24, 21, 29, 23, 26, 28, 25, 27, 22, 20, 25, \n",
    "                28, 24, 27, 22, 26, 20, 29, 23, 27, 22, 26, 28, 24, 27, 22, 26, 20, 29, 23, 27, \n",
    "                22, 26, 20, 29, 23, 27, 22, 26, 20, 29, 23])\n",
    "\n",
    "# Pearson correlation coefficient\n",
    "pearson_corr, _ = pearsonr(hours_of_exercise, bmi)\n",
    "\n",
    "# Spearman's rank correlation\n",
    "spearman_corr, _ = spearmanr(hours_of_exercise, bmi)\n",
    "\n",
    "# Display the results\n",
    "print(f\"Pearson correlation coefficient: {pearson_corr:.4f}\")\n",
    "print(f\"Spearman's rank correlation: {spearman_corr:.4f}\")\n"
   ]
  },
  {
   "cell_type": "markdown",
   "id": "d0bc3405-2d21-4e5d-af9f-c8da934fdd78",
   "metadata": {},
   "source": [
    "#### Q4. A researcher is interested in examining the relationship between the number of hours individuals spend watching television per day and their level of physical activity. The researcher collected data on both variables from a sample of 50 participants. Calculate the Pearson correlation coefficient between these two variables."
   ]
  },
  {
   "cell_type": "code",
   "execution_count": 15,
   "id": "2af5f77d-1856-424e-adce-ba528cc35cbe",
   "metadata": {},
   "outputs": [
    {
     "name": "stdout",
     "output_type": "stream",
     "text": [
      "Pearson correlation coefficient: -0.3319\n"
     ]
    }
   ],
   "source": [
    "import numpy as np\n",
    "from scipy.stats import pearsonr\n",
    "\n",
    "# Sample data: Number of hours of television and level of physical activity\n",
    "hours_of_tv = np.array([2, 3, 1, 4, 2, 5, 1, 3, 2, 4, 3, 5, 2, 4, 1, 3, 2, 4, 3, 5,\n",
    "                        2, 4, 1, 3, 2, 4, 3, 5, 2, 4, 3, 5, 2, 4, 1, 3, 2, 4, 3, 5,\n",
    "                        2, 4, 1, 3, 2, 4, 3, 5, 2, 4, 3, 5])\n",
    "\n",
    "physical_activity = np.array([3, 4, 2, 5, 3, 1, 2, 4, 3, 1, 4, 2, 3, 1, 2, 4, 3, 1, 4, 2,\n",
    "                              3, 1, 2, 4, 3, 1, 4, 2, 3, 1, 4, 2, 3, 1, 2, 4, 3, 1, 4, 2,\n",
    "                              3, 1, 2, 4, 3, 1, 4, 2, 3, 1, 4, 2])\n",
    "\n",
    "# Calculate Pearson correlation coefficient\n",
    "pearson_corr, _ = pearsonr(hours_of_tv, physical_activity)\n",
    "\n",
    "# Display the result\n",
    "print(f\"Pearson correlation coefficient: {pearson_corr:.4f}\")\n"
   ]
  },
  {
   "cell_type": "markdown",
   "id": "8d4cbc35-0d8c-4728-b11b-622f0c47967a",
   "metadata": {},
   "source": [
    "#### Q5. A survey was conducted to examine the relationship between age and preference for a particular brand of soft drink. The survey results are shown below:"
   ]
  },
  {
   "cell_type": "code",
   "execution_count": 16,
   "id": "3437f2d1-2c8f-4922-97e3-080d5dc961c0",
   "metadata": {},
   "outputs": [
    {
     "name": "stdout",
     "output_type": "stream",
     "text": [
      "Age\n",
      "19            Coke\n",
      "25            Coke\n",
      "28            Coke\n",
      "31           Pepsi\n",
      "37    Mountain Dew\n",
      "42           Pepsi\n",
      "Name: Soft Drink Preference, dtype: object\n"
     ]
    }
   ],
   "source": [
    "import pandas as pd\n",
    "\n",
    "# Assuming the survey results\n",
    "data = {\n",
    "    'Age': [25, 42, 37, 19, 31, 28],\n",
    "    'Soft Drink Preference': ['Coke', 'Pepsi', 'Mountain Dew', 'Coke', 'Pepsi', 'Coke']\n",
    "}\n",
    "\n",
    "df = pd.DataFrame(data)\n",
    "\n",
    "# Calculate the mode (most frequent preference) for each age group\n",
    "mode_per_age = df.groupby('Age')['Soft Drink Preference'].apply(lambda x: x.mode().iloc[0])\n",
    "\n",
    "# Display the results\n",
    "print(mode_per_age)\n"
   ]
  },
  {
   "cell_type": "markdown",
   "id": "d348b5d4-8ddc-4c32-b49d-daa35cb77160",
   "metadata": {},
   "source": [
    "#### Q6. A company is interested in examining the relationship between the number of sales calls made per day and the number of sales made per week. The company collected data on both variables from a sample of 30 sales representatives. Calculate the Pearson correlation coefficient between these two variables."
   ]
  },
  {
   "cell_type": "code",
   "execution_count": 17,
   "id": "8077509a-c73e-410f-bb73-ee3e24efd05c",
   "metadata": {},
   "outputs": [
    {
     "name": "stdout",
     "output_type": "stream",
     "text": [
      "Pearson correlation coefficient: 0.9757\n"
     ]
    }
   ],
   "source": [
    "import numpy as np\n",
    "from scipy.stats import pearsonr\n",
    "\n",
    "# Sample data: Number of sales calls per day and number of sales per week\n",
    "sales_calls_per_day = np.array([25, 30, 22, 35, 28, 40, 20, 38, 27, 32,\n",
    "                               30, 35, 23, 38, 18, 36, 25, 32, 28, 39,\n",
    "                               35, 30, 24, 33, 26, 37, 21, 34, 29, 31])\n",
    "\n",
    "sales_per_week = np.array([150, 180, 130, 210, 160, 240, 120, 220, 140, 190,\n",
    "                            170, 200, 140, 210, 100, 190, 130, 180, 160, 230,\n",
    "                            210, 180, 150, 200, 160, 220, 120, 200, 170, 190])\n",
    "\n",
    "# Calculate Pearson correlation coefficient\n",
    "pearson_corr, _ = pearsonr(sales_calls_per_day, sales_per_week)\n",
    "\n",
    "# Display the result\n",
    "print(f\"Pearson correlation coefficient: {pearson_corr:.4f}\")\n"
   ]
  },
  {
   "cell_type": "code",
   "execution_count": null,
   "id": "87512d1a-e928-420b-b230-6a0c9c856520",
   "metadata": {},
   "outputs": [],
   "source": []
  },
  {
   "cell_type": "code",
   "execution_count": null,
   "id": "8dbe63d7-d336-46bf-bb18-c1f3f0d182bd",
   "metadata": {},
   "outputs": [],
   "source": []
  }
 ],
 "metadata": {
  "kernelspec": {
   "display_name": "Python 3 (ipykernel)",
   "language": "python",
   "name": "python3"
  },
  "language_info": {
   "codemirror_mode": {
    "name": "ipython",
    "version": 3
   },
   "file_extension": ".py",
   "mimetype": "text/x-python",
   "name": "python",
   "nbconvert_exporter": "python",
   "pygments_lexer": "ipython3",
   "version": "3.10.8"
  }
 },
 "nbformat": 4,
 "nbformat_minor": 5
}
