{
 "cells": [
  {
   "cell_type": "markdown",
   "id": "39d4b1a7-1322-4159-acbe-c7d78a7778c5",
   "metadata": {},
   "source": [
    "Q1. What are the three measures of central tendency?\n"
   ]
  },
  {
   "cell_type": "markdown",
   "id": "ae8ce171-8a60-41a8-a877-79b57a89df66",
   "metadata": {},
   "source": [
    "he three measures of central tendency are:\n",
    "\n",
    "Mean: The average of all the values in a dataset.\n",
    "Median: The middle value in a dataset when the values are arranged in order.\n",
    "Mode: The most frequent value in a dataset.\n",
    "Each of these measures has its own advantages and disadvantages, and the best measure to use will depend on the specific dataset and the purpose of the analysis.\n",
    "\n",
    "For example, the mean is a good measure of central tendency when the data is normally distributed. However, if the data is skewed, the median may be a better measure of central tendency, as it is not affected by outliers. The mode is a good measure of central tendency for categorical data, such as the most popular brand of car."
   ]
  },
  {
   "cell_type": "markdown",
   "id": "835679d8-98ce-4bfe-91ea-cc44a2f51e3d",
   "metadata": {},
   "source": [
    "Q2. What is the difference between the mean, median, and mode? How are they used to measure the\n",
    "central tendency of a dataset?"
   ]
  },
  {
   "cell_type": "markdown",
   "id": "4f3899e3-ab76-40fa-bb9f-1c524ff22264",
   "metadata": {},
   "source": [
    "\n",
    "The mean, median, and mode are all measures of central tendency, which is the middle or most typical value in a set of data. Each measure has its own advantages and disadvantages, and the best measure to use will depend on the specific dataset and the purpose of the analysis.\n",
    "\n",
    "Mean: The mean is the average of all the values in a dataset. It is calculated by summing all the values and dividing by the number of values. The mean is a good measure of central tendency when the data is normally distributed. However, if the data is skewed, the mean can be misleading.\n",
    "\n",
    "Median: The median is the middle value in a dataset when the values are arranged in order. If there are two middle values, the median is the average of those two values. The median is a good measure of central tendency when the data is skewed, as it is not affected by outliers.\n",
    "\n",
    "Mode: The mode is the most frequent value in a dataset. The mode is a good measure of central tendency for categorical data, such as the most popular brand of car. However, the mode is not a good measure of central tendency for numerical data, as it can be misleading if there are multiple modes or no mode at all."
   ]
  },
  {
   "cell_type": "markdown",
   "id": "a7b79ad0-c19c-4994-97dc-e84afa3de3ae",
   "metadata": {},
   "source": [
    "Q3. Measure the three measures of central tendency for the given height data:"
   ]
  },
  {
   "cell_type": "code",
   "execution_count": 2,
   "id": "a660c816-dfd7-4773-87a2-d1350de37f70",
   "metadata": {},
   "outputs": [
    {
     "name": "stdout",
     "output_type": "stream",
     "text": [
      "The mean is 177.01875\n",
      "The mean is 177.0\n",
      "The mean is 178\n"
     ]
    }
   ],
   "source": [
    "import numpy as np\n",
    "import statistics as sts\n",
    "d = [178,177,176,177,178.2,178,175,179,180,175,178.9,176.2,177,172.5,178,176.5]\n",
    "mean = np.mean(d)\n",
    "median = np.median(d)\n",
    "mode = sts.mode(d)\n",
    "print(\"The mean is\",mean)\n",
    "print(\"The mean is\",median)\n",
    "print(\"The mean is\",mode)"
   ]
  },
  {
   "cell_type": "markdown",
   "id": "c2e0fdaa-085c-467e-98a4-9d62b0741066",
   "metadata": {},
   "source": [
    "Q4. Find the standard deviation for the given data:\n",
    "[178,177,176,177,178.2,178,175,179,180,175,178.9,176.2,177,172.5,178,176.5]"
   ]
  },
  {
   "cell_type": "code",
   "execution_count": 10,
   "id": "f638a293-14e8-45f9-af8d-c8e46beedb8a",
   "metadata": {},
   "outputs": [
    {
     "data": {
      "text/plain": [
       "1.7885814036548633"
      ]
     },
     "execution_count": 10,
     "metadata": {},
     "output_type": "execute_result"
    }
   ],
   "source": [
    "np.std(d)"
   ]
  },
  {
   "cell_type": "markdown",
   "id": "93080a87-ec71-4db6-9879-26702337ae80",
   "metadata": {},
   "source": [
    "Q5. How are measures of dispersion such as range, variance, and standard deviation used to describe\n",
    "the spread of a dataset? Provide an example."
   ]
  },
  {
   "cell_type": "markdown",
   "id": "eb3a0a6c-94db-4550-bcc2-6e2de2be1240",
   "metadata": {},
   "source": [
    "Measures of dispersion, such as range, variance, and standard deviation, are used to describe the spread of a dataset by quantifying how much the values in the dataset vary from the central tendency.\n",
    "\n",
    "Range: The range is the simplest measure of dispersion, and it is calculated by subtracting the lowest value in the dataset from the highest value in the dataset. The range is a good measure of dispersion when the data is normally distributed, but it can be misleading if the data is skewed or has outliers.\n",
    "Variance: The variance is calculated by taking the average of the squared deviations from the mean. The variance is a good measure of dispersion when the data is normally distributed and there are no outliers. However, the variance can be misleading if the data is skewed or has outliers, as it can be affected by a few very large or very small values.\n",
    "Standard deviation: The standard deviation is the square root of the variance. The standard deviation is a good measure of dispersion for most types of data, including normally distributed data, skewed data, and data with outliers."
   ]
  },
  {
   "cell_type": "markdown",
   "id": "cdb5dbac-557e-4bda-86c1-5dfc02e24a41",
   "metadata": {},
   "source": [
    "Q6. What is a Venn diagram?"
   ]
  },
  {
   "cell_type": "markdown",
   "id": "087ee912-e677-4846-8d41-c3eba50dfcd2",
   "metadata": {},
   "source": [
    "\n",
    "A Venn diagram is a diagram that shows the logical relation between sets. It consists of overlapping circles, each of which represents a set. The parts of the circles that overlap represent the elements that are common to both sets.\n",
    "\n",
    "Venn diagrams are often used to illustrate the relationships between different groups of people, objects, or ideas. For example, a Venn diagram could be used to show the relationships between different types of music, different types of animals, or different types of foods.\n",
    "\n",
    "Venn diagrams can be used to answer a variety of questions, such as:\n",
    "\n",
    "What are the similarities and differences between two or more sets?\n",
    "What is the relationship between the empty set and other sets?\n",
    "What is the complement of a set?\n",
    "What is the union of two or more sets?\n",
    "What is the intersection of two or more sets?\n",
    "Venn diagrams are a simple but powerful tool for visualizing and understanding the relationships between sets. They are widely used in mathematics, statistics, logic, and other fields."
   ]
  },
  {
   "cell_type": "markdown",
   "id": "50124fc9-2fc5-4f6a-be32-250ed50f7f12",
   "metadata": {},
   "source": [
    "Q7. For the two given sets A = (2,3,4,5,6,7) & B = (0,2,6,8,10). Find:\n",
    "(i) A B\n",
    "(ii) A ⋃ B"
   ]
  },
  {
   "cell_type": "code",
   "execution_count": 8,
   "id": "b1a48bfd-f96c-4e52-a2ed-24152cf50e13",
   "metadata": {},
   "outputs": [
    {
     "name": "stdout",
     "output_type": "stream",
     "text": [
      "A ∪ B =  [ 0  2  3  4  5  6  7  8 10]\n",
      "A ∩ B =  [2 6]\n"
     ]
    }
   ],
   "source": [
    "A = np.array([2,3,4,5,6,7]) \n",
    "B = np.array([0,2,6,8,10])\n",
    "union = np.union1d(A,B)\n",
    "Intersection = np.intersect1d(A,B)\n",
    "print(\"A ∪ B = \",union)\n",
    "print(\"A ∩ B = \",Intersection)"
   ]
  },
  {
   "cell_type": "markdown",
   "id": "25bc9398-7c72-4992-983b-ecd97a4923ab",
   "metadata": {},
   "source": [
    "Q8. What do you understand about skewness in data?"
   ]
  },
  {
   "cell_type": "markdown",
   "id": "2d536214-d90e-47fb-9472-822ceb69aaea",
   "metadata": {},
   "source": [
    "Skewness is a measure of the asymmetry of a probability distribution. It quantifies the extent to which the distribution of a set of values deviates from a normal distribution. A normal distribution is symmetrical, meaning that there are equal numbers of values above and below the mean. A skewed distribution is asymmetrical, meaning that there are more values on one side of the mean than on the other.\n",
    "\n",
    "There are two types of skewness: positive skewness and negative skewness. A positively skewed distribution has a longer tail on the right side, meaning that there are more values above the mean than below the mean. A negatively skewed distribution has a longer tail on the left side, meaning that there are more values below the mean than above the mean.\n",
    "\n",
    "Skewness can be caused by a variety of factors, such as outliers, truncation, and censoring. Outliers are values that are much higher or lower than the rest of the data. Truncation is when some of the data is not collected or recorded. Censoring is when some of the data is known to be greater than or less than a certain value, but the exact value is not known.\n",
    "\n",
    "Skewness can have a significant impact on statistical analysis. For example, many statistical tests assume that the data is normally distributed. If the data is skewed, the results of these tests may be inaccurate."
   ]
  },
  {
   "cell_type": "markdown",
   "id": "7d663a10-1f57-483e-ba05-d9e9dd0367e3",
   "metadata": {},
   "source": [
    "Q9. If a data is right skewed then what will be the position of median with respect to mean?"
   ]
  },
  {
   "cell_type": "markdown",
   "id": "54bd9c27-c07f-4616-a258-71adbc345a41",
   "metadata": {},
   "source": [
    "\n",
    "In a right-skewed distribution, the median will be less than the mean. This is because the right tail of the distribution is longer than the left tail, meaning that there are more values above the median than below it."
   ]
  },
  {
   "cell_type": "markdown",
   "id": "d18a180b-5d8d-4dd6-8b28-a88b7c9d1eb5",
   "metadata": {},
   "source": [
    "Q10. Explain the difference between covariance and correlation. How are these measures used in\n",
    "statistical analysis?"
   ]
  },
  {
   "cell_type": "markdown",
   "id": "7b599f9e-1009-44b6-8f54-6c36dc25d468",
   "metadata": {},
   "source": [
    "\n",
    "Covariance and correlation are two statistical measures that are used to quantify the relationship between two variables. They are both calculated using the same formula, but they differ in how they are interpreted.\n",
    "\n",
    "Covariance is a measure of the linear relationship between two variables. It is calculated by multiplying the mean difference between each variable and its mean by the mean difference between the other variable and its mean. Covariance can be positive, negative, or zero.\n",
    "\n",
    "Correlation is a measure of the strength and direction of the linear relationship between two variables. It is calculated by dividing the covariance of the two variables by the product of their standard deviations. Correlation is a dimensionless value that ranges from -1 to 1. A correlation of 1 indicates a perfect positive linear relationship, a correlation of -1 indicates a perfect negative linear relationship, and a correlation of 0 indicates no linear relationship."
   ]
  },
  {
   "cell_type": "markdown",
   "id": "2bb2008c-2bd9-4128-a110-fe2eb207a8e1",
   "metadata": {},
   "source": [
    "Q11. What is the formula for calculating the sample mean? Provide an example calculation for a\n",
    "dataset."
   ]
  },
  {
   "cell_type": "code",
   "execution_count": 10,
   "id": "80424452-aacc-45c1-83b3-d16092520f50",
   "metadata": {},
   "outputs": [],
   "source": [
    "import seaborn as sns\n",
    "df = sns.load_dataset('tips')"
   ]
  },
  {
   "cell_type": "code",
   "execution_count": 11,
   "id": "6372d9cf-e956-4d09-9532-c84cafb7baf8",
   "metadata": {},
   "outputs": [
    {
     "data": {
      "text/html": [
       "<div>\n",
       "<style scoped>\n",
       "    .dataframe tbody tr th:only-of-type {\n",
       "        vertical-align: middle;\n",
       "    }\n",
       "\n",
       "    .dataframe tbody tr th {\n",
       "        vertical-align: top;\n",
       "    }\n",
       "\n",
       "    .dataframe thead th {\n",
       "        text-align: right;\n",
       "    }\n",
       "</style>\n",
       "<table border=\"1\" class=\"dataframe\">\n",
       "  <thead>\n",
       "    <tr style=\"text-align: right;\">\n",
       "      <th></th>\n",
       "      <th>total_bill</th>\n",
       "      <th>tip</th>\n",
       "      <th>sex</th>\n",
       "      <th>smoker</th>\n",
       "      <th>day</th>\n",
       "      <th>time</th>\n",
       "      <th>size</th>\n",
       "    </tr>\n",
       "  </thead>\n",
       "  <tbody>\n",
       "    <tr>\n",
       "      <th>0</th>\n",
       "      <td>16.99</td>\n",
       "      <td>1.01</td>\n",
       "      <td>Female</td>\n",
       "      <td>No</td>\n",
       "      <td>Sun</td>\n",
       "      <td>Dinner</td>\n",
       "      <td>2</td>\n",
       "    </tr>\n",
       "    <tr>\n",
       "      <th>1</th>\n",
       "      <td>10.34</td>\n",
       "      <td>1.66</td>\n",
       "      <td>Male</td>\n",
       "      <td>No</td>\n",
       "      <td>Sun</td>\n",
       "      <td>Dinner</td>\n",
       "      <td>3</td>\n",
       "    </tr>\n",
       "    <tr>\n",
       "      <th>2</th>\n",
       "      <td>21.01</td>\n",
       "      <td>3.50</td>\n",
       "      <td>Male</td>\n",
       "      <td>No</td>\n",
       "      <td>Sun</td>\n",
       "      <td>Dinner</td>\n",
       "      <td>3</td>\n",
       "    </tr>\n",
       "    <tr>\n",
       "      <th>3</th>\n",
       "      <td>23.68</td>\n",
       "      <td>3.31</td>\n",
       "      <td>Male</td>\n",
       "      <td>No</td>\n",
       "      <td>Sun</td>\n",
       "      <td>Dinner</td>\n",
       "      <td>2</td>\n",
       "    </tr>\n",
       "    <tr>\n",
       "      <th>4</th>\n",
       "      <td>24.59</td>\n",
       "      <td>3.61</td>\n",
       "      <td>Female</td>\n",
       "      <td>No</td>\n",
       "      <td>Sun</td>\n",
       "      <td>Dinner</td>\n",
       "      <td>4</td>\n",
       "    </tr>\n",
       "  </tbody>\n",
       "</table>\n",
       "</div>"
      ],
      "text/plain": [
       "   total_bill   tip     sex smoker  day    time  size\n",
       "0       16.99  1.01  Female     No  Sun  Dinner     2\n",
       "1       10.34  1.66    Male     No  Sun  Dinner     3\n",
       "2       21.01  3.50    Male     No  Sun  Dinner     3\n",
       "3       23.68  3.31    Male     No  Sun  Dinner     2\n",
       "4       24.59  3.61  Female     No  Sun  Dinner     4"
      ]
     },
     "execution_count": 11,
     "metadata": {},
     "output_type": "execute_result"
    }
   ],
   "source": [
    "df.head(5)"
   ]
  },
  {
   "cell_type": "code",
   "execution_count": 12,
   "id": "5a8bd3ce-9cd4-47f5-9fba-96c2cc3cc468",
   "metadata": {},
   "outputs": [
    {
     "name": "stderr",
     "output_type": "stream",
     "text": [
      "/tmp/ipykernel_104/3698961737.py:1: FutureWarning: The default value of numeric_only in DataFrame.mean is deprecated. In a future version, it will default to False. In addition, specifying 'numeric_only=None' is deprecated. Select only valid columns or specify the value of numeric_only to silence this warning.\n",
      "  df.mean()\n"
     ]
    },
    {
     "data": {
      "text/plain": [
       "total_bill    19.785943\n",
       "tip            2.998279\n",
       "size           2.569672\n",
       "dtype: float64"
      ]
     },
     "execution_count": 12,
     "metadata": {},
     "output_type": "execute_result"
    }
   ],
   "source": [
    "df.mean()"
   ]
  },
  {
   "cell_type": "markdown",
   "id": "31ddeac3-b26c-4a11-a421-038e31aec7fa",
   "metadata": {},
   "source": [
    "Q12. For a normal distribution data what is the relationship between its measure of central tendency?"
   ]
  },
  {
   "cell_type": "markdown",
   "id": "a527a1cc-cc20-4b37-a2c0-ad6868ea1ffa",
   "metadata": {},
   "source": [
    "In a normal distribution (also known as a Gaussian distribution), there is a specific relationship between its measures of central tendency, which include the mean, median, and mode. In a normal distribution:\n",
    "\n",
    "Mean (μ): The mean of a normally distributed dataset is equal to the median. This means that the point of symmetry (the peak) of the normal distribution is exactly at the mean.\n",
    "\n",
    "Median: The median is also equal to the mean in a normal distribution. This is because a normal distribution is symmetric, and the median is the value that divides the distribution into two equal halves.\n",
    "\n",
    "Mode: The mode in a normal distribution is also equal to the mean and median. In a perfectly symmetrical normal distribution, there is only one mode, and it is located at the peak of the distribution, which is the same as the mean and median.\n",
    "\n",
    "So, in summary, for a normal distribution, the mean, median, and mode are all equal and located at the center of the distribution. This is a key characteristic of normal distributions and is often referred to as the \"bell-shaped\" curve, where the highest point of the curve is the mean, median, and mode, and the curve is symmetric around this central point."
   ]
  },
  {
   "cell_type": "markdown",
   "id": "3b5b94aa-635e-4f2a-bcc9-0c94bbdb3297",
   "metadata": {},
   "source": [
    "Q13. How is covariance different from correlation?"
   ]
  },
  {
   "cell_type": "markdown",
   "id": "bb910edb-b707-46dc-a8a1-fca21adcbff8",
   "metadata": {},
   "source": [
    "Covariance and correlation are both statistical measures that describe the relationship between two variables, but they have some important differences:\n",
    "\n",
    "Covariance:\n",
    "\n",
    "Definition: Covariance measures the degree to which two variables change together. It indicates whether an increase in one variable corresponds to an increase or decrease in another variable.\n",
    "\n",
    "Scale: The units of covariance are the product of the units of the two variables being measured. Consequently, the magnitude of covariance depends on the scale of the variables. This makes it challenging to compare covariances between different pairs of variables.\n",
    "\n",
    "Range: Covariance can take any real value, which means it can be positive, negative, or zero. A positive covariance indicates a positive relationship, while a negative covariance indicates a negative relationship.\n",
    "\n",
    "Interpretation: The magnitude of covariance doesn't provide a clear measure of the strength of the relationship between variables because it depends on the scales of the variables. Thus, it's challenging to compare covariances directly.\n",
    "\n",
    "Correlation:\n",
    "\n",
    "Definition: Correlation is a standardized measure that quantifies the strength and direction of the linear relationship between two variables. It indicates how closely the data points cluster around a straight line. Correlation is a dimensionless quantity, and it's always between -1 and 1.\n",
    "\n",
    "Scale: Correlation is unitless and has a fixed scale between -1 and 1, which makes it easier to compare and interpret relationships between different pairs of variables.\n",
    "\n",
    "Range: Correlation values range from -1 (perfect negative correlation) to 1 (perfect positive correlation), with 0 indicating no linear correlation.\n",
    "\n",
    "Interpretation: A correlation of 1 indicates a perfect positive linear relationship, a correlation of -1 indicates a perfect negative linear relationship, and a correlation of 0 indicates no linear relationship. The closer the correlation is to -1 or 1, the stronger the linear relationship."
   ]
  },
  {
   "cell_type": "markdown",
   "id": "41bc58b2-9fd7-448f-af39-c8f4bd4845a9",
   "metadata": {},
   "source": [
    "Q14. How do outliers affect measures of central tendency and dispersion? Provide an example."
   ]
  },
  {
   "cell_type": "markdown",
   "id": "f06374ed-ce4e-4459-bae5-17cd3379727b",
   "metadata": {},
   "source": [
    "Outliers can significantly affect measures of central tendency and dispersion in a dataset. Here's how they impact these statistical measures:\n",
    "\n",
    "1. Measures of Central Tendency (Mean, Median, and Mode):\n",
    "\n",
    "Mean: Outliers can pull the mean in their direction. For example, if you have a dataset of exam scores where most students score between 70 and 80, but one student scores 5, the mean will be significantly lower than the typical scores because of the outlier.\n",
    "\n",
    "Median: The median is less affected by outliers compared to the mean. It only depends on the middle value(s), so an outlier won't skew it as much. However, if the dataset has extreme outliers on one end, the median may not represent the central tendency well.\n",
    "\n",
    "Mode: The presence of outliers generally doesn't affect the mode. The mode is simply the most frequently occurring value(s) in the dataset, and it remains the same regardless of the presence of outliers.\n",
    "\n",
    "2. Measures of Dispersion (Range, Variance, Standard Deviation, and Interquartile Range):\n",
    "\n",
    "Range: Outliers can significantly affect the range since it's based on the extreme values in the dataset. If there are outliers far from the majority of the data, the range will be much wider than it would be without them.\n",
    "\n",
    "Variance and Standard Deviation: Outliers can inflate the variance and standard deviation. Since these measures are sensitive to the distance between data points and the mean, outliers can increase the spread of the data and, as a result, increase the calculated variance and standard deviation.\n",
    "\n",
    "Interquartile Range (IQR): The IQR is less affected by outliers because it's based on quartiles, specifically the difference between the 75th percentile (Q3) and the 25th percentile (Q1). Outliers typically don't have a strong influence on these percentiles, so the IQR is relatively robust against outliers."
   ]
  },
  {
   "cell_type": "code",
   "execution_count": 20,
   "id": "6e27a419-b959-4025-ae59-1ebec09ec868",
   "metadata": {},
   "outputs": [
    {
     "name": "stdout",
     "output_type": "stream",
     "text": [
      "Without outlier:\n",
      "mean = 3.0\n",
      "median = 3.0\n",
      "std = 1.4142135623730951\n",
      "variance = 2.0 \n",
      "\n",
      "With Outlier:\n",
      "mean = 35.833333333333336\n",
      "median = 3.5\n",
      "std = 73.42891498282918\n",
      "variance = 5391.805555555556\n"
     ]
    }
   ],
   "source": [
    "print(\"Without outlier:\")\n",
    "data = [1,2,3,4,5]\n",
    "mean = np.mean(data)\n",
    "median = np.median(data)\n",
    "std = np.std(data)\n",
    "variance = np.var(data)\n",
    "print('mean =',mean)\n",
    "print('median =',median)\n",
    "print('std =',std)\n",
    "print('variance =',variance ,\"\\n\")\n",
    "\n",
    "print(\"With Outlier:\")\n",
    "data1 = [1,2,3,4,5,200]\n",
    "mean1 = np.mean(data1)\n",
    "median1 = np.median(data1)\n",
    "std1 = np.std(data1)\n",
    "variance1 = np.var(data1)\n",
    "print('mean =',mean1)\n",
    "print('median =',median1)\n",
    "print('std =',std1)\n",
    "print('variance =',variance1)"
   ]
  },
  {
   "cell_type": "code",
   "execution_count": null,
   "id": "00f3b892-4126-47fc-af78-eb8994188aee",
   "metadata": {},
   "outputs": [],
   "source": []
  },
  {
   "cell_type": "code",
   "execution_count": null,
   "id": "be5b1a89-1075-4062-b4af-93678d5f3d1e",
   "metadata": {},
   "outputs": [],
   "source": []
  }
 ],
 "metadata": {
  "kernelspec": {
   "display_name": "Python 3 (ipykernel)",
   "language": "python",
   "name": "python3"
  },
  "language_info": {
   "codemirror_mode": {
    "name": "ipython",
    "version": 3
   },
   "file_extension": ".py",
   "mimetype": "text/x-python",
   "name": "python",
   "nbconvert_exporter": "python",
   "pygments_lexer": "ipython3",
   "version": "3.10.8"
  }
 },
 "nbformat": 4,
 "nbformat_minor": 5
}
