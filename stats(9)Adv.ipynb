{
 "cells": [
  {
   "cell_type": "markdown",
   "id": "a86df365-2bc5-494d-835f-ddc62b1ea741",
   "metadata": {},
   "source": [
    "Q1. Write a Python function that takes in two arrays of data and calculates the F-value for a variance ratio\n",
    "test. The function should return the F-value and the corresponding p-value for the test."
   ]
  },
  {
   "cell_type": "code",
   "execution_count": 1,
   "id": "9b4003e3-ca35-4d9f-8430-194196fee146",
   "metadata": {},
   "outputs": [
    {
     "name": "stdout",
     "output_type": "stream",
     "text": [
      "F-value: 2.403508771929825\n",
      "p-value: 0.2082525723890155\n"
     ]
    }
   ],
   "source": [
    "import numpy as np\n",
    "import scipy.stats as stats\n",
    "\n",
    "def variance_ratio_test(data1, data2):\n",
    "    # Calculate the variances of the two samples\n",
    "    variance1 = np.var(data1, ddof=1)  # ddof=1 for unbiased variance estimate\n",
    "    variance2 = np.var(data2, ddof=1)\n",
    "\n",
    "    # Calculate the F-value\n",
    "    F = variance1 / variance2\n",
    "\n",
    "    # Calculate the degrees of freedom\n",
    "    df1 = len(data1) - 1\n",
    "    df2 = len(data2) - 1\n",
    "\n",
    "    # Calculate the p-value\n",
    "    p_value = 1 - stats.f.cdf(F, df1, df2)\n",
    "\n",
    "    return F, p_value\n",
    "\n",
    "# Example usage:\n",
    "data1 = [12, 15, 18, 22, 17]\n",
    "data2 = [8, 11, 14, 9, 12]\n",
    "F, p_value = variance_ratio_test(data1, data2)\n",
    "print(\"F-value:\", F)\n",
    "print(\"p-value:\", p_value)\n"
   ]
  },
  {
   "cell_type": "markdown",
   "id": "15cdd54f-1e7f-46cd-8247-73969601a784",
   "metadata": {},
   "source": [
    "Q2. Given a significance level of 0.05 and the degrees of freedom for the numerator and denominator of an\n",
    "F-distribution, write a Python function that returns the critical F-value for a two-tailed test."
   ]
  },
  {
   "cell_type": "code",
   "execution_count": 2,
   "id": "04d2e066-79d1-477a-a9fb-c74c9aee5f13",
   "metadata": {},
   "outputs": [
    {
     "name": "stdout",
     "output_type": "stream",
     "text": [
      "Critical F-value: 4.825621493405406\n"
     ]
    }
   ],
   "source": [
    "import scipy.stats as stats\n",
    "\n",
    "def get_critical_f_value(alpha, dfn, dfd):\n",
    "    # Calculate the critical F-value for a two-tailed test\n",
    "    f_critical = stats.f.ppf(1 - alpha / 2, dfn, dfd)\n",
    "    \n",
    "    return f_critical\n",
    "\n",
    "# Example usage:\n",
    "alpha = 0.05\n",
    "dfn = 3  # Degrees of freedom for the numerator\n",
    "dfd = 10  # Degrees of freedom for the denominator\n",
    "critical_f = get_critical_f_value(alpha, dfn, dfd)\n",
    "print(\"Critical F-value:\", critical_f)\n"
   ]
  },
  {
   "cell_type": "markdown",
   "id": "ec7255a1-d658-4f0b-98ca-00aafede2b6c",
   "metadata": {},
   "source": [
    "In this example, the function get_critical_f_value uses the stats.f.ppf function to calculate the critical F-value for a two-tailed test. You need to provide the significance level (alpha), the degrees of freedom for the numerator (dfn), and the degrees of freedom for the denominator (dfd) as input arguments to the function. The function returns the critical F-value.\n",
    "\n",
    "Adjust the values of alpha, dfn, and dfd in the example usage to calculate the critical F-value for your specific test."
   ]
  },
  {
   "cell_type": "markdown",
   "id": "321094f1-7585-4dad-979b-a6e9ba2cac68",
   "metadata": {},
   "source": [
    "Q3. Write a Python program that generates random samples from two normal distributions with known\n",
    "\n",
    "variances and uses an F-test to determine if the variances are equal. The program should output the F-\n",
    "value, degrees of freedom, and p-value for the test."
   ]
  },
  {
   "cell_type": "code",
   "execution_count": 3,
   "id": "df243fb3-62e5-4534-9d76-2a6bb1d88e35",
   "metadata": {},
   "outputs": [
    {
     "name": "stdout",
     "output_type": "stream",
     "text": [
      "F-value: 0.6228812519994188\n",
      "Degrees of freedom (df1, df2): 29 29\n",
      "p-value: 0.2084092012966122\n",
      "The variances are equal.\n"
     ]
    }
   ],
   "source": [
    "import numpy as np\n",
    "import scipy.stats as stats\n",
    "\n",
    "# Set the random seed for reproducibility\n",
    "np.random.seed(42)\n",
    "\n",
    "# Generate random samples from two normal distributions\n",
    "sample_size = 30  # Sample size for each group\n",
    "variance1 = 4.0  # Variance of the first distribution\n",
    "variance2 = 6.0  # Variance of the second distribution\n",
    "\n",
    "sample1 = np.random.normal(0, np.sqrt(variance1), sample_size)\n",
    "sample2 = np.random.normal(0, np.sqrt(variance2), sample_size)\n",
    "\n",
    "# Perform an F-test to compare variances\n",
    "f_statistic = np.var(sample1, ddof=1) / np.var(sample2, ddof=1)\n",
    "df1 = sample_size - 1\n",
    "df2 = sample_size - 1\n",
    "p_value = 2 * min(stats.f.cdf(f_statistic, df1, df2), 1 - stats.f.cdf(f_statistic, df1, df2))\n",
    "\n",
    "# Output the results\n",
    "print(\"F-value:\", f_statistic)\n",
    "print(\"Degrees of freedom (df1, df2):\", df1, df2)\n",
    "print(\"p-value:\", p_value)\n",
    "\n",
    "# Determine if the variances are equal based on the p-value and significance level\n",
    "alpha = 0.05\n",
    "if p_value < alpha:\n",
    "    print(\"The variances are not equal.\")\n",
    "else:\n",
    "    print(\"The variances are equal.\")\n"
   ]
  },
  {
   "cell_type": "markdown",
   "id": "4c3c4829-ab77-4be7-b4ce-ceee54696a82",
   "metadata": {},
   "source": [
    "Q4.The variances of two populations are known to be 10 and 15. A sample of 12 observations is taken from\n",
    "each population. Conduct an F-test at the 5% significance level to determine if the variances are\n",
    "significantly different."
   ]
  },
  {
   "cell_type": "markdown",
   "id": "c7498c65-dabb-4376-ae1b-bf777a045c77",
   "metadata": {},
   "source": [
    "To conduct an F-test to determine if the variances of two populations are significantly different, you can use the following approach. Given that the variances of the two populations are known to be 10 and 15, and you have samples of 12 observations from each population, you can perform an F-test at a 5% significance level."
   ]
  },
  {
   "cell_type": "code",
   "execution_count": 4,
   "id": "bc496552-9e30-4925-b878-646dbbbd5043",
   "metadata": {},
   "outputs": [
    {
     "name": "stdout",
     "output_type": "stream",
     "text": [
      "F-statistic: 0.6666666666666666\n",
      "Degrees of freedom (df1, df2): 11 11\n",
      "p-value: 0.5123897987357996\n",
      "There is no significant difference in variances.\n"
     ]
    }
   ],
   "source": [
    "import scipy.stats as stats\n",
    "\n",
    "# Known variances of the two populations\n",
    "variance1 = 10\n",
    "variance2 = 15\n",
    "\n",
    "# Sample sizes\n",
    "n1 = 12\n",
    "n2 = 12\n",
    "\n",
    "# Calculate the F-statistic\n",
    "f_statistic = variance1 / variance2\n",
    "\n",
    "# Degrees of freedom for the F-distribution\n",
    "df1 = n1 - 1\n",
    "df2 = n2 - 1\n",
    "\n",
    "# Calculate the p-value for a two-tailed test\n",
    "p_value = 2 * min(stats.f.cdf(f_statistic, df1, df2), 1 - stats.f.cdf(f_statistic, df1, df2))\n",
    "\n",
    "# Significance level\n",
    "alpha = 0.05\n",
    "\n",
    "# Print the results\n",
    "print(\"F-statistic:\", f_statistic)\n",
    "print(\"Degrees of freedom (df1, df2):\", df1, df2)\n",
    "print(\"p-value:\", p_value)\n",
    "\n",
    "# Determine if the variances are significantly different\n",
    "if p_value < alpha:\n",
    "    print(\"The variances are significantly different.\")\n",
    "else:\n",
    "    print(\"There is no significant difference in variances.\")\n"
   ]
  },
  {
   "cell_type": "markdown",
   "id": "c8c0add0-4302-4412-bc22-ac8fd29396fb",
   "metadata": {},
   "source": [
    "Q5. A manufacturer claims that the variance of the diameter of a certain product is 0.005. A sample of 25\n",
    "products is taken, and the sample variance is found to be 0.006. Conduct an F-test at the 1% significance\n",
    "level to determine if the claim is justified."
   ]
  },
  {
   "cell_type": "code",
   "execution_count": 5,
   "id": "a00677c4-d5d1-496c-bd1d-a7e6454cf712",
   "metadata": {},
   "outputs": [
    {
     "name": "stdout",
     "output_type": "stream",
     "text": [
      "F-statistic: 1.2\n",
      "Degrees of freedom (df1, df2): 24 1\n",
      "p-value: 0.6296099619959358\n",
      "The claim is justified; there is no significant difference in variances.\n"
     ]
    }
   ],
   "source": [
    "import scipy.stats as stats\n",
    "\n",
    "# Claimed variance by the manufacturer\n",
    "claimed_variance = 0.005\n",
    "\n",
    "# Sample variance\n",
    "sample_variance = 0.006\n",
    "\n",
    "# Sample size\n",
    "n = 25\n",
    "\n",
    "# Calculate the F-statistic\n",
    "f_statistic = sample_variance / claimed_variance\n",
    "\n",
    "# Degrees of freedom for the F-distribution\n",
    "df1 = n - 1\n",
    "df2 = 1  # Degrees of freedom for the claimed variance\n",
    "\n",
    "# Calculate the p-value for a one-tailed test (right-tailed)\n",
    "p_value = 1 - stats.f.cdf(f_statistic, df1, df2)\n",
    "\n",
    "# Significance level\n",
    "alpha = 0.01  # 1% significance level\n",
    "\n",
    "# Print the results\n",
    "print(\"F-statistic:\", f_statistic)\n",
    "print(\"Degrees of freedom (df1, df2):\", df1, df2)\n",
    "print(\"p-value:\", p_value)\n",
    "\n",
    "# Determine if the claim is justified\n",
    "if p_value < alpha:\n",
    "    print(\"The claim is not justified; the sample variance is significantly different from the claimed variance.\")\n",
    "else:\n",
    "    print(\"The claim is justified; there is no significant difference in variances.\")\n"
   ]
  },
  {
   "cell_type": "markdown",
   "id": "7b8aa41e-b475-4616-b866-a633cb282a23",
   "metadata": {},
   "source": [
    "Q6. Write a Python function that takes in the degrees of freedom for the numerator and denominator of an\n",
    "F-distribution and calculates the mean and variance of the distribution. The function should return the\n",
    "mean and variance as a tuple."
   ]
  },
  {
   "cell_type": "code",
   "execution_count": 6,
   "id": "21c004e5-1852-49c9-8a0b-7ee3726bf21c",
   "metadata": {},
   "outputs": [
    {
     "name": "stdout",
     "output_type": "stream",
     "text": [
      "Mean: 1.25\n",
      "Variance: 1.9097222222222223\n"
     ]
    }
   ],
   "source": [
    "def calculate_f_distribution_mean_and_variance(dfn, dfd):\n",
    "    if dfn <= 0 or dfd <= 0:\n",
    "        raise ValueError(\"Degrees of freedom must be greater than 0.\")\n",
    "    \n",
    "    # Calculate the mean of the F-distribution\n",
    "    if dfd > 2:\n",
    "        mean = dfd / (dfd - 2)\n",
    "    else:\n",
    "        mean = float('inf')  # When dfd is 1 or 2, the mean is undefined\n",
    "    \n",
    "    # Calculate the variance of the F-distribution\n",
    "    if dfd > 4:\n",
    "        variance = (2 * (dfd ** 2) * (dfn + dfd - 2)) / (dfn * (dfd - 2) ** 2 * (dfd - 4))\n",
    "    else:\n",
    "        variance = float('inf')  # When dfd is 1, 2, 3, or 4, the variance is undefined\n",
    "    \n",
    "    return mean, variance\n",
    "\n",
    "# Example usage:\n",
    "dfn = 3  # Degrees of freedom for the numerator\n",
    "dfd = 10  # Degrees of freedom for the denominator\n",
    "mean, variance = calculate_f_distribution_mean_and_variance(dfn, dfd)\n",
    "print(\"Mean:\", mean)\n",
    "print(\"Variance:\", variance)\n"
   ]
  },
  {
   "cell_type": "markdown",
   "id": "fd993130-ecdb-4cbd-8b58-3c2d3d07761a",
   "metadata": {},
   "source": [
    "Q7. A random sample of 10 measurements is taken from a normal population with unknown variance. The\n",
    "sample variance is found to be 25. Another random sample of 15 measurements is taken from another\n",
    "normal population with unknown variance, and the sample variance is found to be 20. Conduct an F-test\n",
    "at the 10% significance level to determine if the variances are significantly different."
   ]
  },
  {
   "cell_type": "code",
   "execution_count": 7,
   "id": "a2552f2f-7124-45a3-933b-bd8836beba3f",
   "metadata": {},
   "outputs": [
    {
     "name": "stdout",
     "output_type": "stream",
     "text": [
      "F-statistic: 1.25\n",
      "Degrees of freedom (df1, df2): 9 14\n",
      "p-value: 0.6832194382585954\n",
      "The variances are equal; there is no significant difference in variances.\n"
     ]
    }
   ],
   "source": [
    "import scipy.stats as stats\n",
    "\n",
    "# Sample variances\n",
    "sample_variance1 = 25\n",
    "sample_variance2 = 20\n",
    "\n",
    "# Sample sizes\n",
    "n1 = 10\n",
    "n2 = 15\n",
    "\n",
    "# Calculate the F-statistic\n",
    "f_statistic = sample_variance1 / sample_variance2\n",
    "\n",
    "# Degrees of freedom for the F-distribution\n",
    "df1 = n1 - 1\n",
    "df2 = n2 - 1\n",
    "\n",
    "# Calculate the p-value for a two-tailed test\n",
    "p_value = 2 * min(stats.f.cdf(f_statistic, df1, df2), 1 - stats.f.cdf(f_statistic, df1, df2))\n",
    "\n",
    "# Significance level\n",
    "alpha = 0.10  # 10% significance level\n",
    "\n",
    "# Print the results\n",
    "print(\"F-statistic:\", f_statistic)\n",
    "print(\"Degrees of freedom (df1, df2):\", df1, df2)\n",
    "print(\"p-value:\", p_value)\n",
    "\n",
    "# Determine if the variances are significantly different\n",
    "if p_value < alpha:\n",
    "    print(\"The variances are not equal; they are significantly different.\")\n",
    "else:\n",
    "    print(\"The variances are equal; there is no significant difference in variances.\")\n"
   ]
  },
  {
   "cell_type": "markdown",
   "id": "aab9b169-75e4-45bf-a15a-810debc022e7",
   "metadata": {},
   "source": [
    "Q8. The following data represent the waiting times in minutes at two different restaurants on a Saturday\n",
    "night: Restaurant A: 24, 25, 28, 23, 22, 20, 27; Restaurant B: 31, 33, 35, 30, 32, 36. Conduct an F-test at the 5%significance level to determine if the variances are significantly different."
   ]
  },
  {
   "cell_type": "code",
   "execution_count": 8,
   "id": "8ba003aa-5131-4c92-a72b-0176dd5e3675",
   "metadata": {},
   "outputs": [
    {
     "name": "stdout",
     "output_type": "stream",
     "text": [
      "F-statistic: 1.4551907719609583\n",
      "Degrees of freedom (df1, df2): 6 5\n",
      "p-value: 0.6974815747937484\n",
      "The variances are equal; there is no significant difference in variances.\n"
     ]
    }
   ],
   "source": [
    "import scipy.stats as stats\n",
    "\n",
    "# Waiting times for Restaurant A and Restaurant B\n",
    "waiting_times_a = [24, 25, 28, 23, 22, 20, 27]\n",
    "waiting_times_b = [31, 33, 35, 30, 32, 36]\n",
    "\n",
    "# Calculate the sample variances\n",
    "variance_a = sum((x - sum(waiting_times_a)/len(waiting_times_a))**2 for x in waiting_times_a) / (len(waiting_times_a)-1)\n",
    "variance_b = sum((x - sum(waiting_times_b)/len(waiting_times_b))**2 for x in waiting_times_b) / (len(waiting_times_b)-1)\n",
    "\n",
    "# Calculate the F-statistic\n",
    "f_statistic = variance_a / variance_b\n",
    "\n",
    "# Degrees of freedom for the F-distribution\n",
    "df1 = len(waiting_times_a) - 1\n",
    "df2 = len(waiting_times_b) - 1\n",
    "\n",
    "# Calculate the p-value for a two-tailed test\n",
    "p_value = 2 * min(stats.f.cdf(f_statistic, df1, df2), 1 - stats.f.cdf(f_statistic, df1, df2))\n",
    "\n",
    "# Significance level\n",
    "alpha = 0.05  # 5% significance level\n",
    "\n",
    "# Print the results\n",
    "print(\"F-statistic:\", f_statistic)\n",
    "print(\"Degrees of freedom (df1, df2):\", df1, df2)\n",
    "print(\"p-value:\", p_value)\n",
    "\n",
    "# Determine if the variances are significantly different\n",
    "if p_value < alpha:\n",
    "    print(\"The variances are not equal; they are significantly different.\")\n",
    "else:\n",
    "    print(\"The variances are equal; there is no significant difference in variances.\")\n"
   ]
  },
  {
   "cell_type": "markdown",
   "id": "26759a45-6c3f-4cf3-9298-0fa34611e388",
   "metadata": {},
   "source": [
    "Q9. The following data represent the test scores of two groups of students: Group A: 80, 85, 90, 92, 87, 83;\n",
    "Group B: 75, 78, 82, 79, 81, 84. Conduct an F-test at the 1% significance level to determine if the variances\n",
    "are significantly different."
   ]
  },
  {
   "cell_type": "code",
   "execution_count": 9,
   "id": "1ff96121-b982-412f-825b-37b16bf8a779",
   "metadata": {},
   "outputs": [
    {
     "name": "stdout",
     "output_type": "stream",
     "text": [
      "F-statistic: 1.9442622950819677\n",
      "Degrees of freedom (df1, df2): 5 5\n",
      "p-value: 0.4831043549070688\n",
      "The variances are equal; there is no significant difference in variances.\n"
     ]
    }
   ],
   "source": [
    "import scipy.stats as stats\n",
    "\n",
    "# Test scores for Group A and Group B\n",
    "scores_group_a = [80, 85, 90, 92, 87, 83]\n",
    "scores_group_b = [75, 78, 82, 79, 81, 84]\n",
    "\n",
    "# Calculate the sample variances\n",
    "variance_group_a = sum((x - sum(scores_group_a)/len(scores_group_a))**2 for x in scores_group_a) / (len(scores_group_a)-1)\n",
    "variance_group_b = sum((x - sum(scores_group_b)/len(scores_group_b))**2 for x in scores_group_b) / (len(scores_group_b)-1)\n",
    "\n",
    "# Calculate the F-statistic\n",
    "f_statistic = variance_group_a / variance_group_b\n",
    "\n",
    "# Degrees of freedom for the F-distribution\n",
    "df1 = len(scores_group_a) - 1\n",
    "df2 = len(scores_group_b) - 1\n",
    "\n",
    "# Calculate the p-value for a two-tailed test\n",
    "p_value = 2 * min(stats.f.cdf(f_statistic, df1, df2), 1 - stats.f.cdf(f_statistic, df1, df2))\n",
    "\n",
    "# Significance level\n",
    "alpha = 0.01  # 1% significance level\n",
    "\n",
    "# Print the results\n",
    "print(\"F-statistic:\", f_statistic)\n",
    "print(\"Degrees of freedom (df1, df2):\", df1, df2)\n",
    "print(\"p-value:\", p_value)\n",
    "\n",
    "# Determine if the variances are significantly different\n",
    "if p_value < alpha:\n",
    "    print(\"The variances are not equal; they are significantly different.\")\n",
    "else:\n",
    "    print(\"The variances are equal; there is no significant difference in variances.\")\n"
   ]
  },
  {
   "cell_type": "code",
   "execution_count": null,
   "id": "141939b9-4e06-432e-8234-c46d2d225f56",
   "metadata": {},
   "outputs": [],
   "source": []
  },
  {
   "cell_type": "code",
   "execution_count": null,
   "id": "1c7d16c8-c9d8-4e54-8975-8337f0ec7b9c",
   "metadata": {},
   "outputs": [],
   "source": []
  },
  {
   "cell_type": "code",
   "execution_count": null,
   "id": "4b012060-bf81-4f48-b15c-9a9c83a10bd5",
   "metadata": {},
   "outputs": [],
   "source": []
  }
 ],
 "metadata": {
  "kernelspec": {
   "display_name": "Python 3 (ipykernel)",
   "language": "python",
   "name": "python3"
  },
  "language_info": {
   "codemirror_mode": {
    "name": "ipython",
    "version": 3
   },
   "file_extension": ".py",
   "mimetype": "text/x-python",
   "name": "python",
   "nbconvert_exporter": "python",
   "pygments_lexer": "ipython3",
   "version": "3.10.8"
  }
 },
 "nbformat": 4,
 "nbformat_minor": 5
}
